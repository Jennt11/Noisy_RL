{
 "cells": [
  {
   "cell_type": "markdown",
   "metadata": {},
   "source": [
    "# Modelling influenca data with noisy RL model\n",
    "\n",
    "Analysis based on https://www.nature.com/articles/s41593-019-0518-9 \n",
    "\n",
    "Fitting 3 parameters: $\\alpha, \\beta, \\zeta$ for all subjects with the simulated choices in Weber noise condition"
   ]
  },
  {
   "cell_type": "code",
   "execution_count": 1,
   "metadata": {},
   "outputs": [],
   "source": [
    "import numpy as np\n",
    "from matplotlib import pyplot as plt\n",
    "import glob, sys, pickle, sobol_seq, numpy\n",
    "from scipy.stats import norm, truncnorm, multivariate_normal\n",
    "from scipy.special import logsumexp\n",
    "from tqdm import tqdm\n",
    "import pandas as pd\n",
    "import copy\n",
    "import random"
   ]
  },
  {
   "cell_type": "markdown",
   "metadata": {},
   "source": [
    "## RL model/function\n",
    "for noisy and noise-free learning\n",
    "\n",
    "Rescorla-Wagner rule for updating action values corrupted by random noise\n",
    "\n",
    "**Full analytical model of behavior:**\n",
    "$$ Q_{t-1}^k|\\mathbb{Q}_t, \\mathbb{r}_t, a_t, \\alpha, \\zeta \\sim N((1-\\alpha^{\\mathbb{1}[a_t=k]})Q_t^k + \\alpha^{\\mathbb{1}[a_t=k]}\\cdot r_t^k, \\zeta \\cdot||Q_t^k-r_t^k||),  \\forall k \\in [0,1]\\\\ with, \\mathbb{Q}_t = {Q_t^0, Q_t^1}, and\\\\ \\mathbb{r}_t={r_t^0,r_t^1} \n",
    "$$\n",
    "\n",
    "Learning noise follows Weber's law\n",
    "\n",
    "$$Q_{t} = Q_{t-1}+ \\alpha (r_{t-1} -  Q_{t-1}) + \\epsilon_{t}\\\\\n",
    "\\epsilon_{t} \\sim \\mathcal{N}(0, \\sigma_{t})\\\\\n",
    "\\sigma_t = \\zeta |r_{t-1} - Q_{t-1}| $$ \n",
    "\n",
    "Q: expected reward, r: obtained reward\n",
    "\n",
    "**Choice process modelled by softmax process:**\n",
    "\n",
    "$$a_t \\sim B(\\frac{1}{1+exp(-\\beta(Q_{t,A}-Q_{t,B})-\\xi sign(a_{t-1}))}$$\n",
    "\n",
    "B: Bernoulli distribution, $\\beta$: inverse temperature\n",
    "\n",
    "\n",
    "\n",
    "\n",
    "\n",
    "Fitting procedure is done with Monte-Carlo methods:\n",
    "- noise-free: IBIS (iterated batch importance sampler)\n",
    "- noisey: SMC$^2$"
   ]
  },
  {
   "cell_type": "markdown",
   "metadata": {},
   "source": [
    "# MCMC for model fitting\n",
    "\n",
    "$P(\\theta|D, M) \\propto P(D|\\theta, M)P(\\theta|M)$\n",
    "\n",
    "$P(\\theta|D, M)$: posterior distribution: $p(\\theta|a_{1:t}, r_{1:t})$- joint probability distribution of the parameters of interest conditioned on data and RL model\n",
    "\n",
    "$P(D|\\theta, M)$: likelihood: $p(a_t|a_{1:t-1}, r_{1:t-1}, \\theta)$ - intractable in learning noise model: this is the (log) likelihood: you want to maximize the likelihood to make the given choice (data) by the model (M). (log  just so u don't have to multiply but rather can add)\n",
    "\n",
    "$P(\\theta|M)$: priors for each parameter for dynamics of choice process:\n",
    "$$p(\\alpha_0,\\alpha_1) = \\mathbb{1}_{[0,1]^2}(\\alpha_0,\\alpha_1)\\cdot\n",
    "\\mathbb{1} [c=0]+\\mathbb{1}_{[0,1]}(\\alpha^0)\\cdot \\mathbb{1}[\\alpha^0=\\alpha^1] \\cdot \\mathbb{1} [c=1]  \\\\\n",
    "\\frac{1}{\\beta} \\sim U([0,1])\\\\\n",
    "\\xi \\sim N(0,1)$$\n",
    "\n",
    "\n",
    "$\\theta$ contains parameters $\\alpha, \\beta, \\zeta$\n",
    "\n",
    "Data: choice $a_t$, reward $r_t$\n",
    "\n",
    "To estimate goodness of fit residuals of expected reward ($Q_t$) & true reward ($r_t$)"
   ]
  },
  {
   "cell_type": "code",
   "execution_count": 2,
   "metadata": {},
   "outputs": [],
   "source": [
    "# suppresses scientific notations\n",
    "np.set_printoptions(suppress=True)"
   ]
  },
  {
   "cell_type": "markdown",
   "metadata": {},
   "source": [
    "# RL model for fitting"
   ]
  },
  {
   "cell_type": "code",
   "execution_count": 3,
   "metadata": {},
   "outputs": [],
   "source": [
    "# Reinforcement learning function: rlnoise_fitting(actions, rewards, alpha, unif_beta, zeta, noise):\n",
    "# function adapted from: https://github.com/csmfindling/learning_variability"
   ]
  },
  {
   "cell_type": "markdown",
   "metadata": {},
   "source": [
    "## Gelman-Rubin test\n",
    "\n",
    "monitoring of the MCMC convergence"
   ]
  },
  {
   "cell_type": "code",
   "execution_count": 4,
   "metadata": {},
   "outputs": [],
   "source": [
    "# MCMC validation function: convergence of the MCMC sampling\n",
    "# inference_validated(parameters)\n",
    "# function adapted from: https://github.com/csmfindling/learning_variability"
   ]
  },
  {
   "cell_type": "markdown",
   "metadata": {},
   "source": [
    "## Log likelihood"
   ]
  },
  {
   "cell_type": "code",
   "execution_count": 5,
   "metadata": {},
   "outputs": [],
   "source": [
    "# Loglikelihood function: get_llh(theta):\n",
    "# function adapted from: https://github.com/csmfindling/learning_variability"
   ]
  },
  {
   "cell_type": "markdown",
   "metadata": {},
   "source": [
    "## MCMC sampling\n",
    "\n",
    "using adaptive Metropolis samplers"
   ]
  },
  {
   "cell_type": "code",
   "execution_count": 6,
   "metadata": {},
   "outputs": [],
   "source": [
    "# MCMC samling: MCMC_sampling():\n",
    "# function adapted from: https://github.com/csmfindling/learning_variability"
   ]
  },
  {
   "cell_type": "code",
   "execution_count": 7,
   "metadata": {},
   "outputs": [],
   "source": [
    "data = pd.read_csv('C:/Users/canlab/Desktop/Modelling_Influenca/App_data/All_subjects_data.csv')"
   ]
  },
  {
   "cell_type": "code",
   "execution_count": 8,
   "metadata": {},
   "outputs": [
    {
     "data": {
      "text/html": [
       "<div>\n",
       "<style scoped>\n",
       "    .dataframe tbody tr th:only-of-type {\n",
       "        vertical-align: middle;\n",
       "    }\n",
       "\n",
       "    .dataframe tbody tr th {\n",
       "        vertical-align: top;\n",
       "    }\n",
       "\n",
       "    .dataframe thead th {\n",
       "        text-align: right;\n",
       "    }\n",
       "</style>\n",
       "<table border=\"1\" class=\"dataframe\">\n",
       "  <thead>\n",
       "    <tr style=\"text-align: right;\">\n",
       "      <th></th>\n",
       "      <th>Unnamed: 0</th>\n",
       "      <th>ID</th>\n",
       "      <th>Trial</th>\n",
       "      <th>Run</th>\n",
       "      <th>drawn_outcome</th>\n",
       "      <th>choice</th>\n",
       "      <th>win</th>\n",
       "      <th>p_reward_a</th>\n",
       "    </tr>\n",
       "  </thead>\n",
       "  <tbody>\n",
       "    <tr>\n",
       "      <th>0</th>\n",
       "      <td>0</td>\n",
       "      <td>2</td>\n",
       "      <td>1</td>\n",
       "      <td>1</td>\n",
       "      <td>1</td>\n",
       "      <td>0</td>\n",
       "      <td>0</td>\n",
       "      <td>0.800000</td>\n",
       "    </tr>\n",
       "    <tr>\n",
       "      <th>1</th>\n",
       "      <td>1</td>\n",
       "      <td>2</td>\n",
       "      <td>2</td>\n",
       "      <td>1</td>\n",
       "      <td>0</td>\n",
       "      <td>1</td>\n",
       "      <td>0</td>\n",
       "      <td>0.787411</td>\n",
       "    </tr>\n",
       "    <tr>\n",
       "      <th>2</th>\n",
       "      <td>2</td>\n",
       "      <td>2</td>\n",
       "      <td>3</td>\n",
       "      <td>1</td>\n",
       "      <td>0</td>\n",
       "      <td>0</td>\n",
       "      <td>1</td>\n",
       "      <td>0.708686</td>\n",
       "    </tr>\n",
       "    <tr>\n",
       "      <th>3</th>\n",
       "      <td>3</td>\n",
       "      <td>2</td>\n",
       "      <td>4</td>\n",
       "      <td>1</td>\n",
       "      <td>0</td>\n",
       "      <td>0</td>\n",
       "      <td>1</td>\n",
       "      <td>0.610199</td>\n",
       "    </tr>\n",
       "    <tr>\n",
       "      <th>4</th>\n",
       "      <td>4</td>\n",
       "      <td>2</td>\n",
       "      <td>5</td>\n",
       "      <td>1</td>\n",
       "      <td>0</td>\n",
       "      <td>0</td>\n",
       "      <td>1</td>\n",
       "      <td>0.616570</td>\n",
       "    </tr>\n",
       "    <tr>\n",
       "      <th>...</th>\n",
       "      <td>...</td>\n",
       "      <td>...</td>\n",
       "      <td>...</td>\n",
       "      <td>...</td>\n",
       "      <td>...</td>\n",
       "      <td>...</td>\n",
       "      <td>...</td>\n",
       "      <td>...</td>\n",
       "    </tr>\n",
       "    <tr>\n",
       "      <th>568645</th>\n",
       "      <td>568645</td>\n",
       "      <td>353</td>\n",
       "      <td>146</td>\n",
       "      <td>1</td>\n",
       "      <td>1</td>\n",
       "      <td>1</td>\n",
       "      <td>1</td>\n",
       "      <td>0.390209</td>\n",
       "    </tr>\n",
       "    <tr>\n",
       "      <th>568646</th>\n",
       "      <td>568646</td>\n",
       "      <td>353</td>\n",
       "      <td>147</td>\n",
       "      <td>1</td>\n",
       "      <td>1</td>\n",
       "      <td>1</td>\n",
       "      <td>1</td>\n",
       "      <td>0.473773</td>\n",
       "    </tr>\n",
       "    <tr>\n",
       "      <th>568647</th>\n",
       "      <td>568647</td>\n",
       "      <td>353</td>\n",
       "      <td>148</td>\n",
       "      <td>1</td>\n",
       "      <td>0</td>\n",
       "      <td>1</td>\n",
       "      <td>0</td>\n",
       "      <td>0.463202</td>\n",
       "    </tr>\n",
       "    <tr>\n",
       "      <th>568648</th>\n",
       "      <td>568648</td>\n",
       "      <td>353</td>\n",
       "      <td>149</td>\n",
       "      <td>1</td>\n",
       "      <td>1</td>\n",
       "      <td>1</td>\n",
       "      <td>1</td>\n",
       "      <td>0.560426</td>\n",
       "    </tr>\n",
       "    <tr>\n",
       "      <th>568649</th>\n",
       "      <td>568649</td>\n",
       "      <td>353</td>\n",
       "      <td>150</td>\n",
       "      <td>1</td>\n",
       "      <td>1</td>\n",
       "      <td>1</td>\n",
       "      <td>1</td>\n",
       "      <td>0.368631</td>\n",
       "    </tr>\n",
       "  </tbody>\n",
       "</table>\n",
       "<p>568650 rows × 8 columns</p>\n",
       "</div>"
      ],
      "text/plain": [
       "        Unnamed: 0   ID  Trial  Run  drawn_outcome  choice  win  p_reward_a\n",
       "0                0    2      1    1              1       0    0    0.800000\n",
       "1                1    2      2    1              0       1    0    0.787411\n",
       "2                2    2      3    1              0       0    1    0.708686\n",
       "3                3    2      4    1              0       0    1    0.610199\n",
       "4                4    2      5    1              0       0    1    0.616570\n",
       "...            ...  ...    ...  ...            ...     ...  ...         ...\n",
       "568645      568645  353    146    1              1       1    1    0.390209\n",
       "568646      568646  353    147    1              1       1    1    0.473773\n",
       "568647      568647  353    148    1              0       1    0    0.463202\n",
       "568648      568648  353    149    1              1       1    1    0.560426\n",
       "568649      568649  353    150    1              1       1    1    0.368631\n",
       "\n",
       "[568650 rows x 8 columns]"
      ]
     },
     "execution_count": 8,
     "metadata": {},
     "output_type": "execute_result"
    }
   ],
   "source": [
    "data"
   ]
  },
  {
   "cell_type": "code",
   "execution_count": 9,
   "metadata": {},
   "outputs": [],
   "source": [
    "sim_choice= pd.read_csv('C:/Users/canlab/Desktop/Modelling_Influenca/Results/Fit_all_subjects/Fitting_results/Weber_simulation_results_table.csv')"
   ]
  },
  {
   "cell_type": "code",
   "execution_count": 10,
   "metadata": {},
   "outputs": [],
   "source": [
    "sim_choice[['simulated choice']]=sim_choice[['simulated choice']].replace(['A','B'], [0, 1])"
   ]
  },
  {
   "cell_type": "code",
   "execution_count": 11,
   "metadata": {},
   "outputs": [
    {
     "data": {
      "text/html": [
       "<div>\n",
       "<style scoped>\n",
       "    .dataframe tbody tr th:only-of-type {\n",
       "        vertical-align: middle;\n",
       "    }\n",
       "\n",
       "    .dataframe tbody tr th {\n",
       "        vertical-align: top;\n",
       "    }\n",
       "\n",
       "    .dataframe thead th {\n",
       "        text-align: right;\n",
       "    }\n",
       "</style>\n",
       "<table border=\"1\" class=\"dataframe\">\n",
       "  <thead>\n",
       "    <tr style=\"text-align: right;\">\n",
       "      <th></th>\n",
       "      <th>ID</th>\n",
       "      <th>Run</th>\n",
       "      <th>Trial</th>\n",
       "      <th>simulated choice</th>\n",
       "      <th>p_A</th>\n",
       "    </tr>\n",
       "  </thead>\n",
       "  <tbody>\n",
       "    <tr>\n",
       "      <th>0</th>\n",
       "      <td>4</td>\n",
       "      <td>1</td>\n",
       "      <td>0</td>\n",
       "      <td>1</td>\n",
       "      <td>0.500000</td>\n",
       "    </tr>\n",
       "    <tr>\n",
       "      <th>1</th>\n",
       "      <td>4</td>\n",
       "      <td>1</td>\n",
       "      <td>1</td>\n",
       "      <td>1</td>\n",
       "      <td>0.275271</td>\n",
       "    </tr>\n",
       "    <tr>\n",
       "      <th>2</th>\n",
       "      <td>4</td>\n",
       "      <td>1</td>\n",
       "      <td>2</td>\n",
       "      <td>0</td>\n",
       "      <td>0.807902</td>\n",
       "    </tr>\n",
       "    <tr>\n",
       "      <th>3</th>\n",
       "      <td>4</td>\n",
       "      <td>1</td>\n",
       "      <td>3</td>\n",
       "      <td>0</td>\n",
       "      <td>0.912972</td>\n",
       "    </tr>\n",
       "    <tr>\n",
       "      <th>4</th>\n",
       "      <td>4</td>\n",
       "      <td>1</td>\n",
       "      <td>4</td>\n",
       "      <td>0</td>\n",
       "      <td>0.786671</td>\n",
       "    </tr>\n",
       "    <tr>\n",
       "      <th>...</th>\n",
       "      <td>...</td>\n",
       "      <td>...</td>\n",
       "      <td>...</td>\n",
       "      <td>...</td>\n",
       "      <td>...</td>\n",
       "    </tr>\n",
       "    <tr>\n",
       "      <th>372295</th>\n",
       "      <td>341</td>\n",
       "      <td>27</td>\n",
       "      <td>145</td>\n",
       "      <td>0</td>\n",
       "      <td>0.877603</td>\n",
       "    </tr>\n",
       "    <tr>\n",
       "      <th>372296</th>\n",
       "      <td>341</td>\n",
       "      <td>27</td>\n",
       "      <td>146</td>\n",
       "      <td>0</td>\n",
       "      <td>0.948424</td>\n",
       "    </tr>\n",
       "    <tr>\n",
       "      <th>372297</th>\n",
       "      <td>341</td>\n",
       "      <td>27</td>\n",
       "      <td>147</td>\n",
       "      <td>0</td>\n",
       "      <td>0.975785</td>\n",
       "    </tr>\n",
       "    <tr>\n",
       "      <th>372298</th>\n",
       "      <td>341</td>\n",
       "      <td>27</td>\n",
       "      <td>148</td>\n",
       "      <td>0</td>\n",
       "      <td>0.986047</td>\n",
       "    </tr>\n",
       "    <tr>\n",
       "      <th>372299</th>\n",
       "      <td>341</td>\n",
       "      <td>27</td>\n",
       "      <td>149</td>\n",
       "      <td>0</td>\n",
       "      <td>0.885804</td>\n",
       "    </tr>\n",
       "  </tbody>\n",
       "</table>\n",
       "<p>372300 rows × 5 columns</p>\n",
       "</div>"
      ],
      "text/plain": [
       "         ID  Run  Trial  simulated choice       p_A\n",
       "0         4    1      0                 1  0.500000\n",
       "1         4    1      1                 1  0.275271\n",
       "2         4    1      2                 0  0.807902\n",
       "3         4    1      3                 0  0.912972\n",
       "4         4    1      4                 0  0.786671\n",
       "...     ...  ...    ...               ...       ...\n",
       "372295  341   27    145                 0  0.877603\n",
       "372296  341   27    146                 0  0.948424\n",
       "372297  341   27    147                 0  0.975785\n",
       "372298  341   27    148                 0  0.986047\n",
       "372299  341   27    149                 0  0.885804\n",
       "\n",
       "[372300 rows x 5 columns]"
      ]
     },
     "execution_count": 11,
     "metadata": {},
     "output_type": "execute_result"
    }
   ],
   "source": [
    "sim_choice"
   ]
  },
  {
   "cell_type": "code",
   "execution_count": 12,
   "metadata": {},
   "outputs": [
    {
     "data": {
      "text/html": [
       "<div>\n",
       "<style scoped>\n",
       "    .dataframe tbody tr th:only-of-type {\n",
       "        vertical-align: middle;\n",
       "    }\n",
       "\n",
       "    .dataframe tbody tr th {\n",
       "        vertical-align: top;\n",
       "    }\n",
       "\n",
       "    .dataframe thead th {\n",
       "        text-align: right;\n",
       "    }\n",
       "</style>\n",
       "<table border=\"1\" class=\"dataframe\">\n",
       "  <thead>\n",
       "    <tr style=\"text-align: right;\">\n",
       "      <th></th>\n",
       "      <th>ID</th>\n",
       "      <th>Run</th>\n",
       "      <th>Trial</th>\n",
       "      <th>simulated choice</th>\n",
       "      <th>p_A</th>\n",
       "    </tr>\n",
       "  </thead>\n",
       "  <tbody>\n",
       "    <tr>\n",
       "      <th>0</th>\n",
       "      <td>4</td>\n",
       "      <td>1</td>\n",
       "      <td>0</td>\n",
       "      <td>1</td>\n",
       "      <td>0.500000</td>\n",
       "    </tr>\n",
       "    <tr>\n",
       "      <th>1</th>\n",
       "      <td>4</td>\n",
       "      <td>1</td>\n",
       "      <td>1</td>\n",
       "      <td>1</td>\n",
       "      <td>0.275271</td>\n",
       "    </tr>\n",
       "    <tr>\n",
       "      <th>2</th>\n",
       "      <td>4</td>\n",
       "      <td>1</td>\n",
       "      <td>2</td>\n",
       "      <td>0</td>\n",
       "      <td>0.807902</td>\n",
       "    </tr>\n",
       "    <tr>\n",
       "      <th>3</th>\n",
       "      <td>4</td>\n",
       "      <td>1</td>\n",
       "      <td>3</td>\n",
       "      <td>0</td>\n",
       "      <td>0.912972</td>\n",
       "    </tr>\n",
       "    <tr>\n",
       "      <th>4</th>\n",
       "      <td>4</td>\n",
       "      <td>1</td>\n",
       "      <td>4</td>\n",
       "      <td>0</td>\n",
       "      <td>0.786671</td>\n",
       "    </tr>\n",
       "    <tr>\n",
       "      <th>...</th>\n",
       "      <td>...</td>\n",
       "      <td>...</td>\n",
       "      <td>...</td>\n",
       "      <td>...</td>\n",
       "      <td>...</td>\n",
       "    </tr>\n",
       "    <tr>\n",
       "      <th>4645</th>\n",
       "      <td>4</td>\n",
       "      <td>31</td>\n",
       "      <td>145</td>\n",
       "      <td>0</td>\n",
       "      <td>0.982206</td>\n",
       "    </tr>\n",
       "    <tr>\n",
       "      <th>4646</th>\n",
       "      <td>4</td>\n",
       "      <td>31</td>\n",
       "      <td>146</td>\n",
       "      <td>0</td>\n",
       "      <td>0.982206</td>\n",
       "    </tr>\n",
       "    <tr>\n",
       "      <th>4647</th>\n",
       "      <td>4</td>\n",
       "      <td>31</td>\n",
       "      <td>147</td>\n",
       "      <td>0</td>\n",
       "      <td>0.731156</td>\n",
       "    </tr>\n",
       "    <tr>\n",
       "      <th>4648</th>\n",
       "      <td>4</td>\n",
       "      <td>31</td>\n",
       "      <td>148</td>\n",
       "      <td>0</td>\n",
       "      <td>0.970298</td>\n",
       "    </tr>\n",
       "    <tr>\n",
       "      <th>4649</th>\n",
       "      <td>4</td>\n",
       "      <td>31</td>\n",
       "      <td>149</td>\n",
       "      <td>0</td>\n",
       "      <td>0.981683</td>\n",
       "    </tr>\n",
       "  </tbody>\n",
       "</table>\n",
       "<p>4650 rows × 5 columns</p>\n",
       "</div>"
      ],
      "text/plain": [
       "      ID  Run  Trial  simulated choice       p_A\n",
       "0      4    1      0                 1  0.500000\n",
       "1      4    1      1                 1  0.275271\n",
       "2      4    1      2                 0  0.807902\n",
       "3      4    1      3                 0  0.912972\n",
       "4      4    1      4                 0  0.786671\n",
       "...   ..  ...    ...               ...       ...\n",
       "4645   4   31    145                 0  0.982206\n",
       "4646   4   31    146                 0  0.982206\n",
       "4647   4   31    147                 0  0.731156\n",
       "4648   4   31    148                 0  0.970298\n",
       "4649   4   31    149                 0  0.981683\n",
       "\n",
       "[4650 rows x 5 columns]"
      ]
     },
     "execution_count": 12,
     "metadata": {},
     "output_type": "execute_result"
    }
   ],
   "source": [
    "sim_choice[sim_choice[\"ID\"] == 4]"
   ]
  },
  {
   "cell_type": "markdown",
   "metadata": {},
   "source": [
    "List of subjects with more than 20 runs"
   ]
  },
  {
   "cell_type": "code",
   "execution_count": 13,
   "metadata": {},
   "outputs": [],
   "source": [
    "list_sub= np.load('C:/Users/canlab/Desktop/Modelling_Influenca/Results/Fit_all_subjects/Fitting_results/list_of_subjects.npy')"
   ]
  },
  {
   "cell_type": "code",
   "execution_count": 12,
   "metadata": {},
   "outputs": [
    {
     "data": {
      "text/plain": [
       "array([  4,   6,   8,  10,  13,  15,  16,  21,  24,  37,  48,  54,  55,\n",
       "        60,  63,  65,  66,  68,  90,  91,  92,  94,  97,  98,  99, 108,\n",
       "       112, 113, 117, 119, 141, 142, 143, 148, 150, 152, 153, 155, 156,\n",
       "       157, 164, 166, 176, 179, 184, 185, 189, 190, 195, 198, 210, 216,\n",
       "       218, 220, 221, 222, 223, 225, 227, 229, 231, 233, 238, 243, 246,\n",
       "       251, 252, 259, 260, 269, 271, 278, 282, 283, 284, 285, 306, 307,\n",
       "       311, 313, 319, 324, 333, 341])"
      ]
     },
     "execution_count": 12,
     "metadata": {},
     "output_type": "execute_result"
    }
   ],
   "source": [
    "list_sub"
   ]
  },
  {
   "cell_type": "code",
   "execution_count": 14,
   "metadata": {},
   "outputs": [
    {
     "data": {
      "text/html": [
       "<div>\n",
       "<style scoped>\n",
       "    .dataframe tbody tr th:only-of-type {\n",
       "        vertical-align: middle;\n",
       "    }\n",
       "\n",
       "    .dataframe tbody tr th {\n",
       "        vertical-align: top;\n",
       "    }\n",
       "\n",
       "    .dataframe thead th {\n",
       "        text-align: right;\n",
       "    }\n",
       "</style>\n",
       "<table border=\"1\" class=\"dataframe\">\n",
       "  <thead>\n",
       "    <tr style=\"text-align: right;\">\n",
       "      <th></th>\n",
       "      <th>Unnamed: 0</th>\n",
       "      <th>ID</th>\n",
       "      <th>Trial</th>\n",
       "      <th>Run</th>\n",
       "      <th>drawn_outcome</th>\n",
       "      <th>choice</th>\n",
       "      <th>win</th>\n",
       "      <th>p_reward_a</th>\n",
       "    </tr>\n",
       "  </thead>\n",
       "  <tbody>\n",
       "    <tr>\n",
       "      <th>5100</th>\n",
       "      <td>5100</td>\n",
       "      <td>4</td>\n",
       "      <td>1</td>\n",
       "      <td>1</td>\n",
       "      <td>1</td>\n",
       "      <td>0</td>\n",
       "      <td>0</td>\n",
       "      <td>0.800000</td>\n",
       "    </tr>\n",
       "    <tr>\n",
       "      <th>5101</th>\n",
       "      <td>5101</td>\n",
       "      <td>4</td>\n",
       "      <td>2</td>\n",
       "      <td>1</td>\n",
       "      <td>0</td>\n",
       "      <td>0</td>\n",
       "      <td>1</td>\n",
       "      <td>0.922788</td>\n",
       "    </tr>\n",
       "    <tr>\n",
       "      <th>5102</th>\n",
       "      <td>5102</td>\n",
       "      <td>4</td>\n",
       "      <td>3</td>\n",
       "      <td>1</td>\n",
       "      <td>0</td>\n",
       "      <td>0</td>\n",
       "      <td>1</td>\n",
       "      <td>0.813272</td>\n",
       "    </tr>\n",
       "    <tr>\n",
       "      <th>5103</th>\n",
       "      <td>5103</td>\n",
       "      <td>4</td>\n",
       "      <td>4</td>\n",
       "      <td>1</td>\n",
       "      <td>1</td>\n",
       "      <td>0</td>\n",
       "      <td>0</td>\n",
       "      <td>0.691111</td>\n",
       "    </tr>\n",
       "    <tr>\n",
       "      <th>5104</th>\n",
       "      <td>5104</td>\n",
       "      <td>4</td>\n",
       "      <td>5</td>\n",
       "      <td>1</td>\n",
       "      <td>1</td>\n",
       "      <td>0</td>\n",
       "      <td>0</td>\n",
       "      <td>0.687345</td>\n",
       "    </tr>\n",
       "    <tr>\n",
       "      <th>...</th>\n",
       "      <td>...</td>\n",
       "      <td>...</td>\n",
       "      <td>...</td>\n",
       "      <td>...</td>\n",
       "      <td>...</td>\n",
       "      <td>...</td>\n",
       "      <td>...</td>\n",
       "      <td>...</td>\n",
       "    </tr>\n",
       "    <tr>\n",
       "      <th>9745</th>\n",
       "      <td>9745</td>\n",
       "      <td>4</td>\n",
       "      <td>146</td>\n",
       "      <td>31</td>\n",
       "      <td>0</td>\n",
       "      <td>0</td>\n",
       "      <td>1</td>\n",
       "      <td>0.708291</td>\n",
       "    </tr>\n",
       "    <tr>\n",
       "      <th>9746</th>\n",
       "      <td>9746</td>\n",
       "      <td>4</td>\n",
       "      <td>147</td>\n",
       "      <td>31</td>\n",
       "      <td>1</td>\n",
       "      <td>0</td>\n",
       "      <td>0</td>\n",
       "      <td>0.839887</td>\n",
       "    </tr>\n",
       "    <tr>\n",
       "      <th>9747</th>\n",
       "      <td>9747</td>\n",
       "      <td>4</td>\n",
       "      <td>148</td>\n",
       "      <td>31</td>\n",
       "      <td>0</td>\n",
       "      <td>0</td>\n",
       "      <td>1</td>\n",
       "      <td>0.889226</td>\n",
       "    </tr>\n",
       "    <tr>\n",
       "      <th>9748</th>\n",
       "      <td>9748</td>\n",
       "      <td>4</td>\n",
       "      <td>149</td>\n",
       "      <td>31</td>\n",
       "      <td>0</td>\n",
       "      <td>0</td>\n",
       "      <td>1</td>\n",
       "      <td>0.929516</td>\n",
       "    </tr>\n",
       "    <tr>\n",
       "      <th>9749</th>\n",
       "      <td>9749</td>\n",
       "      <td>4</td>\n",
       "      <td>150</td>\n",
       "      <td>31</td>\n",
       "      <td>0</td>\n",
       "      <td>0</td>\n",
       "      <td>1</td>\n",
       "      <td>0.862291</td>\n",
       "    </tr>\n",
       "  </tbody>\n",
       "</table>\n",
       "<p>4650 rows × 8 columns</p>\n",
       "</div>"
      ],
      "text/plain": [
       "      Unnamed: 0  ID  Trial  Run  drawn_outcome  choice  win  p_reward_a\n",
       "5100        5100   4      1    1              1       0    0    0.800000\n",
       "5101        5101   4      2    1              0       0    1    0.922788\n",
       "5102        5102   4      3    1              0       0    1    0.813272\n",
       "5103        5103   4      4    1              1       0    0    0.691111\n",
       "5104        5104   4      5    1              1       0    0    0.687345\n",
       "...          ...  ..    ...  ...            ...     ...  ...         ...\n",
       "9745        9745   4    146   31              0       0    1    0.708291\n",
       "9746        9746   4    147   31              1       0    0    0.839887\n",
       "9747        9747   4    148   31              0       0    1    0.889226\n",
       "9748        9748   4    149   31              0       0    1    0.929516\n",
       "9749        9749   4    150   31              0       0    1    0.862291\n",
       "\n",
       "[4650 rows x 8 columns]"
      ]
     },
     "execution_count": 14,
     "metadata": {},
     "output_type": "execute_result"
    }
   ],
   "source": [
    "data[data[\"ID\"] == 4]"
   ]
  },
  {
   "cell_type": "markdown",
   "metadata": {},
   "source": [
    "# Fitting\n",
    "\n",
    "simulated choices based on fitting of the measured data from script Noisy_RL_all_subjects"
   ]
  },
  {
   "cell_type": "code",
   "execution_count": 35,
   "metadata": {},
   "outputs": [
    {
     "name": "stderr",
     "output_type": "stream",
     "text": [
      "C:\\Users\\canlab\\Anaconda3\\envs\\influenca\\lib\\site-packages\\ipykernel_launcher.py:57: RuntimeWarning: overflow encountered in exp\n",
      "\r",
      "  0%|                                                                                         | 0/1999 [00:00<?, ?it/s]"
     ]
    },
    {
     "name": "stdout",
     "output_type": "stream",
     "text": [
      "sub:  6\n"
     ]
    },
    {
     "name": "stderr",
     "output_type": "stream",
     "text": [
      " 50%|███████████████████████████████████████                                       | 1002/1999 [00:53<00:54, 18.23it/s]"
     ]
    },
    {
     "name": "stdout",
     "output_type": "stream",
     "text": [
      "Adaptive MCMC starting...\n"
     ]
    },
    {
     "name": "stderr",
     "output_type": "stream",
     "text": [
      " 55%|███████████████████████████████████████████                                   | 1103/1999 [00:58<00:47, 18.86it/s]"
     ]
    },
    {
     "name": "stdout",
     "output_type": "stream",
     "text": [
      "acceptance is 0.37795454545454543\n"
     ]
    },
    {
     "name": "stderr",
     "output_type": "stream",
     "text": [
      " 60%|██████████████████████████████████████████████▉                               | 1202/1999 [01:03<00:41, 19.03it/s]"
     ]
    },
    {
     "name": "stdout",
     "output_type": "stream",
     "text": [
      "acceptance is 0.368125\n"
     ]
    },
    {
     "name": "stderr",
     "output_type": "stream",
     "text": [
      " 65%|██████████████████████████████████████████████████▊                           | 1302/1999 [01:09<00:37, 18.69it/s]"
     ]
    },
    {
     "name": "stdout",
     "output_type": "stream",
     "text": [
      "acceptance is 0.35673076923076924\n"
     ]
    },
    {
     "name": "stderr",
     "output_type": "stream",
     "text": [
      " 70%|██████████████████████████████████████████████████████▋                       | 1403/1999 [01:14<00:30, 19.25it/s]"
     ]
    },
    {
     "name": "stdout",
     "output_type": "stream",
     "text": [
      "acceptance is 0.3460714285714286\n"
     ]
    },
    {
     "name": "stderr",
     "output_type": "stream",
     "text": [
      " 75%|██████████████████████████████████████████████████████████▌                   | 1502/1999 [01:19<00:26, 19.07it/s]"
     ]
    },
    {
     "name": "stdout",
     "output_type": "stream",
     "text": [
      "acceptance is 0.333\n"
     ]
    },
    {
     "name": "stderr",
     "output_type": "stream",
     "text": [
      " 80%|██████████████████████████████████████████████████████████████▌               | 1602/1999 [01:24<00:22, 18.01it/s]"
     ]
    },
    {
     "name": "stdout",
     "output_type": "stream",
     "text": [
      "acceptance is 0.32640625\n"
     ]
    },
    {
     "name": "stderr",
     "output_type": "stream",
     "text": [
      " 85%|██████████████████████████████████████████████████████████████████▍           | 1703/1999 [01:30<00:15, 18.73it/s]"
     ]
    },
    {
     "name": "stdout",
     "output_type": "stream",
     "text": [
      "acceptance is 0.32029411764705884\n"
     ]
    },
    {
     "name": "stderr",
     "output_type": "stream",
     "text": [
      " 90%|██████████████████████████████████████████████████████████████████████▎       | 1803/1999 [01:35<00:10, 18.79it/s]"
     ]
    },
    {
     "name": "stdout",
     "output_type": "stream",
     "text": [
      "acceptance is 0.3161111111111111\n"
     ]
    },
    {
     "name": "stderr",
     "output_type": "stream",
     "text": [
      " 95%|██████████████████████████████████████████████████████████████████████████▎   | 1903/1999 [01:40<00:04, 19.40it/s]"
     ]
    },
    {
     "name": "stdout",
     "output_type": "stream",
     "text": [
      "acceptance is 0.3136842105263158\n"
     ]
    },
    {
     "name": "stderr",
     "output_type": "stream",
     "text": [
      "100%|██████████████████████████████████████████████████████████████████████████████| 1999/1999 [01:45<00:00, 18.92it/s]\n",
      "  0%|                                                                                 | 2/1999 [00:00<01:52, 17.76it/s]"
     ]
    },
    {
     "name": "stdout",
     "output_type": "stream",
     "text": [
      "inference valid = True\n",
      "R:_ [[1.05924143 1.05243059 1.04609572]\n",
      " [0.         0.         0.        ]\n",
      " [0.         0.         0.        ]\n",
      " [0.         0.         0.        ]\n",
      " [0.         0.         0.        ]\n",
      " [0.         0.         0.        ]\n",
      " [0.         0.         0.        ]\n",
      " [0.         0.         0.        ]\n",
      " [0.         0.         0.        ]\n",
      " [0.         0.         0.        ]\n",
      " [0.         0.         0.        ]\n",
      " [0.         0.         0.        ]\n",
      " [0.         0.         0.        ]\n",
      " [0.         0.         0.        ]\n",
      " [0.         0.         0.        ]\n",
      " [0.         0.         0.        ]\n",
      " [0.         0.         0.        ]\n",
      " [0.         0.         0.        ]\n",
      " [0.         0.         0.        ]\n",
      " [0.         0.         0.        ]\n",
      " [0.         0.         0.        ]\n",
      " [0.         0.         0.        ]\n",
      " [0.         0.         0.        ]\n",
      " [0.         0.         0.        ]]\n",
      "LKD:_ [[-101.8155994]\n",
      " [   0.       ]\n",
      " [   0.       ]\n",
      " [   0.       ]\n",
      " [   0.       ]\n",
      " [   0.       ]\n",
      " [   0.       ]\n",
      " [   0.       ]\n",
      " [   0.       ]\n",
      " [   0.       ]\n",
      " [   0.       ]\n",
      " [   0.       ]\n",
      " [   0.       ]\n",
      " [   0.       ]\n",
      " [   0.       ]\n",
      " [   0.       ]\n",
      " [   0.       ]\n",
      " [   0.       ]\n",
      " [   0.       ]\n",
      " [   0.       ]\n",
      " [   0.       ]\n",
      " [   0.       ]\n",
      " [   0.       ]\n",
      " [   0.       ]]\n",
      "Inference val:  [1. 0. 0. 0. 0. 0. 0. 0. 0. 0. 0. 0. 0. 0. 0. 0. 0. 0. 0. 0. 0. 0. 0. 0.]\n",
      "ft_weber:  [[0.29674997 0.847995   1.34680382]\n",
      " [0.         0.         0.        ]\n",
      " [0.         0.         0.        ]\n",
      " [0.         0.         0.        ]\n",
      " [0.         0.         0.        ]\n",
      " [0.         0.         0.        ]\n",
      " [0.         0.         0.        ]\n",
      " [0.         0.         0.        ]\n",
      " [0.         0.         0.        ]\n",
      " [0.         0.         0.        ]\n",
      " [0.         0.         0.        ]\n",
      " [0.         0.         0.        ]\n",
      " [0.         0.         0.        ]\n",
      " [0.         0.         0.        ]\n",
      " [0.         0.         0.        ]\n",
      " [0.         0.         0.        ]\n",
      " [0.         0.         0.        ]\n",
      " [0.         0.         0.        ]\n",
      " [0.         0.         0.        ]\n",
      " [0.         0.         0.        ]\n",
      " [0.         0.         0.        ]\n",
      " [0.         0.         0.        ]\n",
      " [0.         0.         0.        ]\n",
      " [0.         0.         0.        ]]\n"
     ]
    },
    {
     "name": "stderr",
     "output_type": "stream",
     "text": [
      " 50%|███████████████████████████████████████▏                                      | 1003/1999 [00:53<00:53, 18.76it/s]"
     ]
    },
    {
     "name": "stdout",
     "output_type": "stream",
     "text": [
      "Adaptive MCMC starting...\n"
     ]
    },
    {
     "name": "stderr",
     "output_type": "stream",
     "text": [
      " 55%|██████████████████████████████████████████▉                                   | 1102/1999 [00:58<00:51, 17.50it/s]"
     ]
    },
    {
     "name": "stdout",
     "output_type": "stream",
     "text": [
      "acceptance is 0.3572727272727273\n"
     ]
    },
    {
     "name": "stderr",
     "output_type": "stream",
     "text": [
      " 60%|██████████████████████████████████████████████▉                               | 1203/1999 [01:03<00:43, 18.39it/s]"
     ]
    },
    {
     "name": "stdout",
     "output_type": "stream",
     "text": [
      "acceptance is 0.345\n"
     ]
    },
    {
     "name": "stderr",
     "output_type": "stream",
     "text": [
      " 65%|██████████████████████████████████████████████████▊                           | 1303/1999 [01:08<00:35, 19.41it/s]"
     ]
    },
    {
     "name": "stdout",
     "output_type": "stream",
     "text": [
      "acceptance is 0.3346153846153846\n"
     ]
    },
    {
     "name": "stderr",
     "output_type": "stream",
     "text": [
      " 70%|██████████████████████████████████████████████████████▋                       | 1402/1999 [01:14<00:31, 19.08it/s]"
     ]
    },
    {
     "name": "stdout",
     "output_type": "stream",
     "text": [
      "acceptance is 0.3291071428571429\n"
     ]
    },
    {
     "name": "stderr",
     "output_type": "stream",
     "text": [
      " 75%|██████████████████████████████████████████████████████████▌                   | 1501/1999 [01:19<00:25, 19.41it/s]"
     ]
    },
    {
     "name": "stdout",
     "output_type": "stream",
     "text": [
      "acceptance is 0.32116666666666666\n"
     ]
    },
    {
     "name": "stderr",
     "output_type": "stream",
     "text": [
      " 80%|██████████████████████████████████████████████████████████████▌               | 1602/1999 [01:24<00:20, 19.53it/s]"
     ]
    },
    {
     "name": "stdout",
     "output_type": "stream",
     "text": [
      "acceptance is 0.31328125\n"
     ]
    },
    {
     "name": "stderr",
     "output_type": "stream",
     "text": [
      " 85%|██████████████████████████████████████████████████████████████████▍           | 1703/1999 [01:29<00:15, 19.59it/s]"
     ]
    },
    {
     "name": "stdout",
     "output_type": "stream",
     "text": [
      "acceptance is 0.30926470588235294\n"
     ]
    },
    {
     "name": "stderr",
     "output_type": "stream",
     "text": [
      " 90%|██████████████████████████████████████████████████████████████████████▎       | 1803/1999 [01:35<00:10, 19.31it/s]"
     ]
    },
    {
     "name": "stdout",
     "output_type": "stream",
     "text": [
      "acceptance is 0.30319444444444443\n"
     ]
    },
    {
     "name": "stderr",
     "output_type": "stream",
     "text": [
      " 95%|██████████████████████████████████████████████████████████████████████████▏   | 1902/1999 [01:40<00:05, 18.76it/s]"
     ]
    },
    {
     "name": "stdout",
     "output_type": "stream",
     "text": [
      "acceptance is 0.30026315789473684\n"
     ]
    },
    {
     "name": "stderr",
     "output_type": "stream",
     "text": [
      "100%|██████████████████████████████████████████████████████████████████████████████| 1999/1999 [01:45<00:00, 18.97it/s]\n",
      "  0%|                                                                                 | 2/1999 [00:00<01:42, 19.42it/s]"
     ]
    },
    {
     "name": "stdout",
     "output_type": "stream",
     "text": [
      "inference valid = True\n",
      "R:_ [[1.05924143 1.05243059 1.04609572]\n",
      " [1.01941589 1.02973989 1.04153333]\n",
      " [0.         0.         0.        ]\n",
      " [0.         0.         0.        ]\n",
      " [0.         0.         0.        ]\n",
      " [0.         0.         0.        ]\n",
      " [0.         0.         0.        ]\n",
      " [0.         0.         0.        ]\n",
      " [0.         0.         0.        ]\n",
      " [0.         0.         0.        ]\n",
      " [0.         0.         0.        ]\n",
      " [0.         0.         0.        ]\n",
      " [0.         0.         0.        ]\n",
      " [0.         0.         0.        ]\n",
      " [0.         0.         0.        ]\n",
      " [0.         0.         0.        ]\n",
      " [0.         0.         0.        ]\n",
      " [0.         0.         0.        ]\n",
      " [0.         0.         0.        ]\n",
      " [0.         0.         0.        ]\n",
      " [0.         0.         0.        ]\n",
      " [0.         0.         0.        ]\n",
      " [0.         0.         0.        ]\n",
      " [0.         0.         0.        ]]\n",
      "LKD:_ [[-101.8155994 ]\n",
      " [ -77.52729187]\n",
      " [   0.        ]\n",
      " [   0.        ]\n",
      " [   0.        ]\n",
      " [   0.        ]\n",
      " [   0.        ]\n",
      " [   0.        ]\n",
      " [   0.        ]\n",
      " [   0.        ]\n",
      " [   0.        ]\n",
      " [   0.        ]\n",
      " [   0.        ]\n",
      " [   0.        ]\n",
      " [   0.        ]\n",
      " [   0.        ]\n",
      " [   0.        ]\n",
      " [   0.        ]\n",
      " [   0.        ]\n",
      " [   0.        ]\n",
      " [   0.        ]\n",
      " [   0.        ]\n",
      " [   0.        ]\n",
      " [   0.        ]]\n",
      "Inference val:  [1. 1. 0. 0. 0. 0. 0. 0. 0. 0. 0. 0. 0. 0. 0. 0. 0. 0. 0. 0. 0. 0. 0. 0.]\n",
      "ft_weber:  [[0.29674997 0.847995   1.34680382]\n",
      " [0.0216075  0.83623068 0.64137801]\n",
      " [0.         0.         0.        ]\n",
      " [0.         0.         0.        ]\n",
      " [0.         0.         0.        ]\n",
      " [0.         0.         0.        ]\n",
      " [0.         0.         0.        ]\n",
      " [0.         0.         0.        ]\n",
      " [0.         0.         0.        ]\n",
      " [0.         0.         0.        ]\n",
      " [0.         0.         0.        ]\n",
      " [0.         0.         0.        ]\n",
      " [0.         0.         0.        ]\n",
      " [0.         0.         0.        ]\n",
      " [0.         0.         0.        ]\n",
      " [0.         0.         0.        ]\n",
      " [0.         0.         0.        ]\n",
      " [0.         0.         0.        ]\n",
      " [0.         0.         0.        ]\n",
      " [0.         0.         0.        ]\n",
      " [0.         0.         0.        ]\n",
      " [0.         0.         0.        ]\n",
      " [0.         0.         0.        ]\n",
      " [0.         0.         0.        ]]\n"
     ]
    },
    {
     "name": "stderr",
     "output_type": "stream",
     "text": [
      " 50%|███████████████████████████████████████▏                                      | 1003/1999 [00:52<00:53, 18.77it/s]"
     ]
    },
    {
     "name": "stdout",
     "output_type": "stream",
     "text": [
      "Adaptive MCMC starting...\n"
     ]
    },
    {
     "name": "stderr",
     "output_type": "stream",
     "text": [
      " 55%|██████████████████████████████████████████▉                                   | 1101/1999 [00:58<00:51, 17.53it/s]"
     ]
    },
    {
     "name": "stdout",
     "output_type": "stream",
     "text": [
      "acceptance is 0.2843181818181818\n"
     ]
    },
    {
     "name": "stderr",
     "output_type": "stream",
     "text": [
      " 60%|██████████████████████████████████████████████▉                               | 1202/1999 [01:03<00:43, 18.30it/s]"
     ]
    },
    {
     "name": "stdout",
     "output_type": "stream",
     "text": [
      "acceptance is 0.28020833333333334\n"
     ]
    },
    {
     "name": "stderr",
     "output_type": "stream",
     "text": [
      " 65%|██████████████████████████████████████████████████▊                           | 1303/1999 [01:08<00:37, 18.72it/s]"
     ]
    },
    {
     "name": "stdout",
     "output_type": "stream",
     "text": [
      "acceptance is 0.27826923076923077\n"
     ]
    },
    {
     "name": "stderr",
     "output_type": "stream",
     "text": [
      " 70%|██████████████████████████████████████████████████████▋                       | 1402/1999 [01:14<00:32, 18.26it/s]"
     ]
    },
    {
     "name": "stdout",
     "output_type": "stream",
     "text": [
      "acceptance is 0.2766071428571429\n"
     ]
    },
    {
     "name": "stderr",
     "output_type": "stream",
     "text": [
      " 75%|██████████████████████████████████████████████████████████▋                   | 1503/1999 [01:19<00:26, 18.87it/s]"
     ]
    },
    {
     "name": "stdout",
     "output_type": "stream",
     "text": [
      "acceptance is 0.27\n"
     ]
    },
    {
     "name": "stderr",
     "output_type": "stream",
     "text": [
      " 80%|██████████████████████████████████████████████████████████████▌               | 1603/1999 [01:25<00:21, 18.47it/s]"
     ]
    },
    {
     "name": "stdout",
     "output_type": "stream",
     "text": [
      "acceptance is 0.26578125\n"
     ]
    },
    {
     "name": "stderr",
     "output_type": "stream",
     "text": [
      " 85%|██████████████████████████████████████████████████████████████████▍           | 1703/1999 [01:30<00:15, 18.55it/s]"
     ]
    },
    {
     "name": "stdout",
     "output_type": "stream",
     "text": [
      "acceptance is 0.2586764705882353\n"
     ]
    },
    {
     "name": "stderr",
     "output_type": "stream",
     "text": [
      " 90%|██████████████████████████████████████████████████████████████████████▎       | 1801/1999 [01:36<00:12, 16.23it/s]"
     ]
    },
    {
     "name": "stdout",
     "output_type": "stream",
     "text": [
      "acceptance is 0.2563888888888889\n"
     ]
    },
    {
     "name": "stderr",
     "output_type": "stream",
     "text": [
      " 95%|██████████████████████████████████████████████████████████████████████████▏   | 1901/1999 [01:41<00:05, 18.72it/s]"
     ]
    },
    {
     "name": "stdout",
     "output_type": "stream",
     "text": [
      "acceptance is 0.2557894736842105\n"
     ]
    },
    {
     "name": "stderr",
     "output_type": "stream",
     "text": [
      "100%|██████████████████████████████████████████████████████████████████████████████| 1999/1999 [01:47<00:00, 18.65it/s]\n",
      "  0%|                                                                                 | 2/1999 [00:00<01:41, 19.60it/s]"
     ]
    },
    {
     "name": "stdout",
     "output_type": "stream",
     "text": [
      "inference valid = True\n",
      "R:_ [[1.05924143 1.05243059 1.04609572]\n",
      " [1.01941589 1.02973989 1.04153333]\n",
      " [1.04517481 1.00994545 1.00227326]\n",
      " [0.         0.         0.        ]\n",
      " [0.         0.         0.        ]\n",
      " [0.         0.         0.        ]\n",
      " [0.         0.         0.        ]\n",
      " [0.         0.         0.        ]\n",
      " [0.         0.         0.        ]\n",
      " [0.         0.         0.        ]\n",
      " [0.         0.         0.        ]\n",
      " [0.         0.         0.        ]\n",
      " [0.         0.         0.        ]\n",
      " [0.         0.         0.        ]\n",
      " [0.         0.         0.        ]\n",
      " [0.         0.         0.        ]\n",
      " [0.         0.         0.        ]\n",
      " [0.         0.         0.        ]\n",
      " [0.         0.         0.        ]\n",
      " [0.         0.         0.        ]\n",
      " [0.         0.         0.        ]\n",
      " [0.         0.         0.        ]\n",
      " [0.         0.         0.        ]\n",
      " [0.         0.         0.        ]]\n",
      "LKD:_ [[-101.8155994 ]\n",
      " [ -77.52729187]\n",
      " [ -64.64185619]\n",
      " [   0.        ]\n",
      " [   0.        ]\n",
      " [   0.        ]\n",
      " [   0.        ]\n",
      " [   0.        ]\n",
      " [   0.        ]\n",
      " [   0.        ]\n",
      " [   0.        ]\n",
      " [   0.        ]\n",
      " [   0.        ]\n",
      " [   0.        ]\n",
      " [   0.        ]\n",
      " [   0.        ]\n",
      " [   0.        ]\n",
      " [   0.        ]\n",
      " [   0.        ]\n",
      " [   0.        ]\n",
      " [   0.        ]\n",
      " [   0.        ]\n",
      " [   0.        ]\n",
      " [   0.        ]]\n",
      "Inference val:  [1. 1. 1. 0. 0. 0. 0. 0. 0. 0. 0. 0. 0. 0. 0. 0. 0. 0. 0. 0. 0. 0. 0. 0.]\n",
      "ft_weber:  [[0.29674997 0.847995   1.34680382]\n",
      " [0.0216075  0.83623068 0.64137801]\n",
      " [0.02355098 0.35991206 0.90858138]\n",
      " [0.         0.         0.        ]\n",
      " [0.         0.         0.        ]\n",
      " [0.         0.         0.        ]\n",
      " [0.         0.         0.        ]\n",
      " [0.         0.         0.        ]\n",
      " [0.         0.         0.        ]\n",
      " [0.         0.         0.        ]\n",
      " [0.         0.         0.        ]\n",
      " [0.         0.         0.        ]\n",
      " [0.         0.         0.        ]\n",
      " [0.         0.         0.        ]\n",
      " [0.         0.         0.        ]\n",
      " [0.         0.         0.        ]\n",
      " [0.         0.         0.        ]\n",
      " [0.         0.         0.        ]\n",
      " [0.         0.         0.        ]\n",
      " [0.         0.         0.        ]\n",
      " [0.         0.         0.        ]\n",
      " [0.         0.         0.        ]\n",
      " [0.         0.         0.        ]\n",
      " [0.         0.         0.        ]]\n"
     ]
    },
    {
     "name": "stderr",
     "output_type": "stream",
     "text": [
      " 50%|███████████████████████████████████████                                       | 1001/1999 [00:53<00:58, 17.21it/s]"
     ]
    },
    {
     "name": "stdout",
     "output_type": "stream",
     "text": [
      "Adaptive MCMC starting...\n"
     ]
    },
    {
     "name": "stderr",
     "output_type": "stream",
     "text": [
      " 55%|███████████████████████████████████████████                                   | 1103/1999 [00:59<00:48, 18.33it/s]"
     ]
    },
    {
     "name": "stdout",
     "output_type": "stream",
     "text": [
      "acceptance is 0.22022727272727272\n"
     ]
    },
    {
     "name": "stderr",
     "output_type": "stream",
     "text": [
      " 60%|██████████████████████████████████████████████▉                               | 1202/1999 [01:04<00:43, 18.49it/s]"
     ]
    },
    {
     "name": "stdout",
     "output_type": "stream",
     "text": [
      "acceptance is 0.218125\n"
     ]
    },
    {
     "name": "stderr",
     "output_type": "stream",
     "text": [
      " 65%|██████████████████████████████████████████████████▊                           | 1302/1999 [01:09<00:36, 18.95it/s]"
     ]
    },
    {
     "name": "stdout",
     "output_type": "stream",
     "text": [
      "acceptance is 0.22153846153846155\n"
     ]
    },
    {
     "name": "stderr",
     "output_type": "stream",
     "text": [
      " 70%|██████████████████████████████████████████████████████▋                       | 1402/1999 [01:14<00:31, 18.80it/s]"
     ]
    },
    {
     "name": "stdout",
     "output_type": "stream",
     "text": [
      "acceptance is 0.21892857142857142\n"
     ]
    },
    {
     "name": "stderr",
     "output_type": "stream",
     "text": [
      " 75%|██████████████████████████████████████████████████████████▌                   | 1502/1999 [01:20<00:26, 19.08it/s]"
     ]
    },
    {
     "name": "stdout",
     "output_type": "stream",
     "text": [
      "acceptance is 0.22183333333333333\n"
     ]
    },
    {
     "name": "stderr",
     "output_type": "stream",
     "text": [
      " 80%|██████████████████████████████████████████████████████████████▌               | 1603/1999 [01:25<00:20, 19.14it/s]"
     ]
    },
    {
     "name": "stdout",
     "output_type": "stream",
     "text": [
      "acceptance is 0.21953125\n"
     ]
    },
    {
     "name": "stderr",
     "output_type": "stream",
     "text": [
      " 85%|██████████████████████████████████████████████████████████████████▍           | 1703/1999 [01:30<00:15, 19.05it/s]"
     ]
    },
    {
     "name": "stdout",
     "output_type": "stream",
     "text": [
      "acceptance is 0.2160294117647059\n"
     ]
    },
    {
     "name": "stderr",
     "output_type": "stream",
     "text": [
      " 90%|██████████████████████████████████████████████████████████████████████▎       | 1802/1999 [01:36<00:10, 18.91it/s]"
     ]
    },
    {
     "name": "stdout",
     "output_type": "stream",
     "text": [
      "acceptance is 0.21597222222222223\n"
     ]
    },
    {
     "name": "stderr",
     "output_type": "stream",
     "text": [
      " 95%|██████████████████████████████████████████████████████████████████████████▎   | 1903/1999 [01:41<00:04, 19.34it/s]"
     ]
    },
    {
     "name": "stdout",
     "output_type": "stream",
     "text": [
      "acceptance is 0.21855263157894736\n"
     ]
    },
    {
     "name": "stderr",
     "output_type": "stream",
     "text": [
      "100%|██████████████████████████████████████████████████████████████████████████████| 1999/1999 [01:46<00:00, 18.76it/s]\n",
      "  0%|                                                                                         | 0/1999 [00:00<?, ?it/s]"
     ]
    },
    {
     "name": "stdout",
     "output_type": "stream",
     "text": [
      "inference valid = True\n",
      "R:_ [[1.05924143 1.05243059 1.04609572]\n",
      " [1.01941589 1.02973989 1.04153333]\n",
      " [1.04517481 1.00994545 1.00227326]\n",
      " [0.99946479 1.01229439 1.01367968]\n",
      " [0.         0.         0.        ]\n",
      " [0.         0.         0.        ]\n",
      " [0.         0.         0.        ]\n",
      " [0.         0.         0.        ]\n",
      " [0.         0.         0.        ]\n",
      " [0.         0.         0.        ]\n",
      " [0.         0.         0.        ]\n",
      " [0.         0.         0.        ]\n",
      " [0.         0.         0.        ]\n",
      " [0.         0.         0.        ]\n",
      " [0.         0.         0.        ]\n",
      " [0.         0.         0.        ]\n",
      " [0.         0.         0.        ]\n",
      " [0.         0.         0.        ]\n",
      " [0.         0.         0.        ]\n",
      " [0.         0.         0.        ]\n",
      " [0.         0.         0.        ]\n",
      " [0.         0.         0.        ]\n",
      " [0.         0.         0.        ]\n",
      " [0.         0.         0.        ]]\n",
      "LKD:_ [[-101.8155994 ]\n",
      " [ -77.52729187]\n",
      " [ -64.64185619]\n",
      " [ -52.56048827]\n",
      " [   0.        ]\n",
      " [   0.        ]\n",
      " [   0.        ]\n",
      " [   0.        ]\n",
      " [   0.        ]\n",
      " [   0.        ]\n",
      " [   0.        ]\n",
      " [   0.        ]\n",
      " [   0.        ]\n",
      " [   0.        ]\n",
      " [   0.        ]\n",
      " [   0.        ]\n",
      " [   0.        ]\n",
      " [   0.        ]\n",
      " [   0.        ]\n",
      " [   0.        ]\n",
      " [   0.        ]\n",
      " [   0.        ]\n",
      " [   0.        ]\n",
      " [   0.        ]]\n",
      "Inference val:  [1. 1. 1. 1. 0. 0. 0. 0. 0. 0. 0. 0. 0. 0. 0. 0. 0. 0. 0. 0. 0. 0. 0. 0.]\n",
      "ft_weber:  [[0.29674997 0.847995   1.34680382]\n",
      " [0.0216075  0.83623068 0.64137801]\n",
      " [0.02355098 0.35991206 0.90858138]\n",
      " [0.02413207 0.04549513 0.36861996]\n",
      " [0.         0.         0.        ]\n",
      " [0.         0.         0.        ]\n",
      " [0.         0.         0.        ]\n",
      " [0.         0.         0.        ]\n",
      " [0.         0.         0.        ]\n",
      " [0.         0.         0.        ]\n",
      " [0.         0.         0.        ]\n",
      " [0.         0.         0.        ]\n",
      " [0.         0.         0.        ]\n",
      " [0.         0.         0.        ]\n",
      " [0.         0.         0.        ]\n",
      " [0.         0.         0.        ]\n",
      " [0.         0.         0.        ]\n",
      " [0.         0.         0.        ]\n",
      " [0.         0.         0.        ]\n",
      " [0.         0.         0.        ]\n",
      " [0.         0.         0.        ]\n",
      " [0.         0.         0.        ]\n",
      " [0.         0.         0.        ]\n",
      " [0.         0.         0.        ]]\n"
     ]
    },
    {
     "name": "stderr",
     "output_type": "stream",
     "text": [
      " 50%|███████████████████████████████████████                                       | 1002/1999 [00:53<00:53, 18.68it/s]"
     ]
    },
    {
     "name": "stdout",
     "output_type": "stream",
     "text": [
      "Adaptive MCMC starting...\n"
     ]
    },
    {
     "name": "stderr",
     "output_type": "stream",
     "text": [
      " 55%|██████████████████████████████████████████▉                                   | 1102/1999 [00:58<00:47, 19.03it/s]"
     ]
    },
    {
     "name": "stdout",
     "output_type": "stream",
     "text": [
      "acceptance is 0.39181818181818184\n"
     ]
    },
    {
     "name": "stderr",
     "output_type": "stream",
     "text": [
      " 60%|██████████████████████████████████████████████▉                               | 1203/1999 [01:04<00:42, 18.85it/s]"
     ]
    },
    {
     "name": "stdout",
     "output_type": "stream",
     "text": [
      "acceptance is 0.37604166666666666\n"
     ]
    },
    {
     "name": "stderr",
     "output_type": "stream",
     "text": [
      " 65%|██████████████████████████████████████████████████▊                           | 1303/1999 [01:09<00:37, 18.63it/s]"
     ]
    },
    {
     "name": "stdout",
     "output_type": "stream",
     "text": [
      "acceptance is 0.3576923076923077\n"
     ]
    },
    {
     "name": "stderr",
     "output_type": "stream",
     "text": [
      " 70%|██████████████████████████████████████████████████████▋                       | 1403/1999 [01:14<00:31, 18.77it/s]"
     ]
    },
    {
     "name": "stdout",
     "output_type": "stream",
     "text": [
      "acceptance is 0.3482142857142857\n"
     ]
    },
    {
     "name": "stderr",
     "output_type": "stream",
     "text": [
      " 75%|██████████████████████████████████████████████████████████▌                   | 1502/1999 [01:20<00:25, 19.26it/s]"
     ]
    },
    {
     "name": "stdout",
     "output_type": "stream",
     "text": [
      "acceptance is 0.3423333333333333\n"
     ]
    },
    {
     "name": "stderr",
     "output_type": "stream",
     "text": [
      " 80%|██████████████████████████████████████████████████████████████▌               | 1603/1999 [01:25<00:20, 19.10it/s]"
     ]
    },
    {
     "name": "stdout",
     "output_type": "stream",
     "text": [
      "acceptance is 0.334375\n"
     ]
    },
    {
     "name": "stderr",
     "output_type": "stream",
     "text": [
      " 85%|██████████████████████████████████████████████████████████████████▍           | 1703/1999 [01:30<00:16, 17.43it/s]"
     ]
    },
    {
     "name": "stdout",
     "output_type": "stream",
     "text": [
      "acceptance is 0.32985294117647057\n"
     ]
    },
    {
     "name": "stderr",
     "output_type": "stream",
     "text": [
      " 90%|██████████████████████████████████████████████████████████████████████▎       | 1802/1999 [01:36<00:10, 18.97it/s]"
     ]
    },
    {
     "name": "stdout",
     "output_type": "stream",
     "text": [
      "acceptance is 0.325\n"
     ]
    },
    {
     "name": "stderr",
     "output_type": "stream",
     "text": [
      " 95%|██████████████████████████████████████████████████████████████████████████▏   | 1902/1999 [01:41<00:05, 19.26it/s]"
     ]
    },
    {
     "name": "stdout",
     "output_type": "stream",
     "text": [
      "acceptance is 0.3190789473684211\n"
     ]
    },
    {
     "name": "stderr",
     "output_type": "stream",
     "text": [
      "100%|██████████████████████████████████████████████████████████████████████████████| 1999/1999 [01:46<00:00, 18.77it/s]\n",
      "  0%|                                                                                 | 2/1999 [00:00<01:43, 19.23it/s]"
     ]
    },
    {
     "name": "stdout",
     "output_type": "stream",
     "text": [
      "inference valid = True\n",
      "R:_ [[1.05924143 1.05243059 1.04609572]\n",
      " [1.01941589 1.02973989 1.04153333]\n",
      " [1.04517481 1.00994545 1.00227326]\n",
      " [0.99946479 1.01229439 1.01367968]\n",
      " [1.04253839 1.01101005 1.01791896]\n",
      " [0.         0.         0.        ]\n",
      " [0.         0.         0.        ]\n",
      " [0.         0.         0.        ]\n",
      " [0.         0.         0.        ]\n",
      " [0.         0.         0.        ]\n",
      " [0.         0.         0.        ]\n",
      " [0.         0.         0.        ]\n",
      " [0.         0.         0.        ]\n",
      " [0.         0.         0.        ]\n",
      " [0.         0.         0.        ]\n",
      " [0.         0.         0.        ]\n",
      " [0.         0.         0.        ]\n",
      " [0.         0.         0.        ]\n",
      " [0.         0.         0.        ]\n",
      " [0.         0.         0.        ]\n",
      " [0.         0.         0.        ]\n",
      " [0.         0.         0.        ]\n",
      " [0.         0.         0.        ]\n",
      " [0.         0.         0.        ]]\n",
      "LKD:_ [[-101.8155994 ]\n",
      " [ -77.52729187]\n",
      " [ -64.64185619]\n",
      " [ -52.56048827]\n",
      " [ -87.45633935]\n",
      " [   0.        ]\n",
      " [   0.        ]\n",
      " [   0.        ]\n",
      " [   0.        ]\n",
      " [   0.        ]\n",
      " [   0.        ]\n",
      " [   0.        ]\n",
      " [   0.        ]\n",
      " [   0.        ]\n",
      " [   0.        ]\n",
      " [   0.        ]\n",
      " [   0.        ]\n",
      " [   0.        ]\n",
      " [   0.        ]\n",
      " [   0.        ]\n",
      " [   0.        ]\n",
      " [   0.        ]\n",
      " [   0.        ]\n",
      " [   0.        ]]\n",
      "Inference val:  [1. 1. 1. 1. 1. 0. 0. 0. 0. 0. 0. 0. 0. 0. 0. 0. 0. 0. 0. 0. 0. 0. 0. 0.]\n",
      "ft_weber:  [[0.29674997 0.847995   1.34680382]\n",
      " [0.0216075  0.83623068 0.64137801]\n",
      " [0.02355098 0.35991206 0.90858138]\n",
      " [0.02413207 0.04549513 0.36861996]\n",
      " [0.17247097 0.65107947 1.18086524]\n",
      " [0.         0.         0.        ]\n",
      " [0.         0.         0.        ]\n",
      " [0.         0.         0.        ]\n",
      " [0.         0.         0.        ]\n",
      " [0.         0.         0.        ]\n",
      " [0.         0.         0.        ]\n",
      " [0.         0.         0.        ]\n",
      " [0.         0.         0.        ]\n",
      " [0.         0.         0.        ]\n",
      " [0.         0.         0.        ]\n",
      " [0.         0.         0.        ]\n",
      " [0.         0.         0.        ]\n",
      " [0.         0.         0.        ]\n",
      " [0.         0.         0.        ]\n",
      " [0.         0.         0.        ]\n",
      " [0.         0.         0.        ]\n",
      " [0.         0.         0.        ]\n",
      " [0.         0.         0.        ]\n",
      " [0.         0.         0.        ]]\n"
     ]
    },
    {
     "name": "stderr",
     "output_type": "stream",
     "text": [
      " 50%|███████████████████████████████████████                                       | 1002/1999 [00:54<00:55, 18.04it/s]"
     ]
    },
    {
     "name": "stdout",
     "output_type": "stream",
     "text": [
      "Adaptive MCMC starting...\n"
     ]
    },
    {
     "name": "stderr",
     "output_type": "stream",
     "text": [
      " 55%|██████████████████████████████████████████▉                                   | 1102/1999 [00:59<00:47, 19.08it/s]"
     ]
    },
    {
     "name": "stdout",
     "output_type": "stream",
     "text": [
      "acceptance is 0.4102272727272727\n"
     ]
    },
    {
     "name": "stderr",
     "output_type": "stream",
     "text": [
      " 60%|██████████████████████████████████████████████▉                               | 1203/1999 [01:04<00:41, 18.98it/s]"
     ]
    },
    {
     "name": "stdout",
     "output_type": "stream",
     "text": [
      "acceptance is 0.396875\n"
     ]
    },
    {
     "name": "stderr",
     "output_type": "stream",
     "text": [
      " 65%|██████████████████████████████████████████████████▊                           | 1303/1999 [01:10<00:36, 18.91it/s]"
     ]
    },
    {
     "name": "stdout",
     "output_type": "stream",
     "text": [
      "acceptance is 0.38134615384615383\n"
     ]
    },
    {
     "name": "stderr",
     "output_type": "stream",
     "text": [
      " 70%|██████████████████████████████████████████████████████▋                       | 1402/1999 [01:15<00:30, 19.28it/s]"
     ]
    },
    {
     "name": "stdout",
     "output_type": "stream",
     "text": [
      "acceptance is 0.36910714285714286\n"
     ]
    },
    {
     "name": "stderr",
     "output_type": "stream",
     "text": [
      " 75%|██████████████████████████████████████████████████████████▌                   | 1502/1999 [01:20<00:25, 19.24it/s]"
     ]
    },
    {
     "name": "stdout",
     "output_type": "stream",
     "text": [
      "acceptance is 0.36\n"
     ]
    },
    {
     "name": "stderr",
     "output_type": "stream",
     "text": [
      " 80%|██████████████████████████████████████████████████████████████▌               | 1603/1999 [01:26<00:21, 18.32it/s]"
     ]
    },
    {
     "name": "stdout",
     "output_type": "stream",
     "text": [
      "acceptance is 0.34984375\n"
     ]
    },
    {
     "name": "stderr",
     "output_type": "stream",
     "text": [
      " 85%|██████████████████████████████████████████████████████████████████▍           | 1703/1999 [01:31<00:15, 18.66it/s]"
     ]
    },
    {
     "name": "stdout",
     "output_type": "stream",
     "text": [
      "acceptance is 0.3388235294117647\n"
     ]
    },
    {
     "name": "stderr",
     "output_type": "stream",
     "text": [
      " 90%|██████████████████████████████████████████████████████████████████████▎       | 1803/1999 [01:37<00:10, 19.03it/s]"
     ]
    },
    {
     "name": "stdout",
     "output_type": "stream",
     "text": [
      "acceptance is 0.3343055555555556\n"
     ]
    },
    {
     "name": "stderr",
     "output_type": "stream",
     "text": [
      " 95%|██████████████████████████████████████████████████████████████████████████▎   | 1903/1999 [01:42<00:05, 18.91it/s]"
     ]
    },
    {
     "name": "stdout",
     "output_type": "stream",
     "text": [
      "acceptance is 0.32921052631578945\n"
     ]
    },
    {
     "name": "stderr",
     "output_type": "stream",
     "text": [
      "100%|██████████████████████████████████████████████████████████████████████████████| 1999/1999 [01:47<00:00, 18.56it/s]\n",
      "  0%|                                                                                 | 2/1999 [00:00<01:42, 19.42it/s]"
     ]
    },
    {
     "name": "stdout",
     "output_type": "stream",
     "text": [
      "inference valid = True\n",
      "R:_ [[1.05924143 1.05243059 1.04609572]\n",
      " [1.01941589 1.02973989 1.04153333]\n",
      " [1.04517481 1.00994545 1.00227326]\n",
      " [0.99946479 1.01229439 1.01367968]\n",
      " [1.04253839 1.01101005 1.01791896]\n",
      " [1.00284257 1.01188276 1.09339171]\n",
      " [0.         0.         0.        ]\n",
      " [0.         0.         0.        ]\n",
      " [0.         0.         0.        ]\n",
      " [0.         0.         0.        ]\n",
      " [0.         0.         0.        ]\n",
      " [0.         0.         0.        ]\n",
      " [0.         0.         0.        ]\n",
      " [0.         0.         0.        ]\n",
      " [0.         0.         0.        ]\n",
      " [0.         0.         0.        ]\n",
      " [0.         0.         0.        ]\n",
      " [0.         0.         0.        ]\n",
      " [0.         0.         0.        ]\n",
      " [0.         0.         0.        ]\n",
      " [0.         0.         0.        ]\n",
      " [0.         0.         0.        ]\n",
      " [0.         0.         0.        ]\n",
      " [0.         0.         0.        ]]\n",
      "LKD:_ [[-101.8155994 ]\n",
      " [ -77.52729187]\n",
      " [ -64.64185619]\n",
      " [ -52.56048827]\n",
      " [ -87.45633935]\n",
      " [ -90.86503266]\n",
      " [   0.        ]\n",
      " [   0.        ]\n",
      " [   0.        ]\n",
      " [   0.        ]\n",
      " [   0.        ]\n",
      " [   0.        ]\n",
      " [   0.        ]\n",
      " [   0.        ]\n",
      " [   0.        ]\n",
      " [   0.        ]\n",
      " [   0.        ]\n",
      " [   0.        ]\n",
      " [   0.        ]\n",
      " [   0.        ]\n",
      " [   0.        ]\n",
      " [   0.        ]\n",
      " [   0.        ]\n",
      " [   0.        ]]\n",
      "Inference val:  [1. 1. 1. 1. 1. 1. 0. 0. 0. 0. 0. 0. 0. 0. 0. 0. 0. 0. 0. 0. 0. 0. 0. 0.]\n",
      "ft_weber:  [[0.29674997 0.847995   1.34680382]\n",
      " [0.0216075  0.83623068 0.64137801]\n",
      " [0.02355098 0.35991206 0.90858138]\n",
      " [0.02413207 0.04549513 0.36861996]\n",
      " [0.17247097 0.65107947 1.18086524]\n",
      " [0.09806743 0.75146068 1.12765364]\n",
      " [0.         0.         0.        ]\n",
      " [0.         0.         0.        ]\n",
      " [0.         0.         0.        ]\n",
      " [0.         0.         0.        ]\n",
      " [0.         0.         0.        ]\n",
      " [0.         0.         0.        ]\n",
      " [0.         0.         0.        ]\n",
      " [0.         0.         0.        ]\n",
      " [0.         0.         0.        ]\n",
      " [0.         0.         0.        ]\n",
      " [0.         0.         0.        ]\n",
      " [0.         0.         0.        ]\n",
      " [0.         0.         0.        ]\n",
      " [0.         0.         0.        ]\n",
      " [0.         0.         0.        ]\n",
      " [0.         0.         0.        ]\n",
      " [0.         0.         0.        ]\n",
      " [0.         0.         0.        ]]\n"
     ]
    },
    {
     "name": "stderr",
     "output_type": "stream",
     "text": [
      " 50%|███████████████████████████████████████                                       | 1002/1999 [00:54<00:55, 18.08it/s]"
     ]
    },
    {
     "name": "stdout",
     "output_type": "stream",
     "text": [
      "Adaptive MCMC starting...\n"
     ]
    },
    {
     "name": "stderr",
     "output_type": "stream",
     "text": [
      " 55%|██████████████████████████████████████████▉                                   | 1102/1999 [00:59<00:47, 19.06it/s]"
     ]
    },
    {
     "name": "stdout",
     "output_type": "stream",
     "text": [
      "acceptance is 0.32522727272727275\n"
     ]
    },
    {
     "name": "stderr",
     "output_type": "stream",
     "text": [
      " 60%|██████████████████████████████████████████████▉                               | 1202/1999 [01:04<00:41, 19.12it/s]"
     ]
    },
    {
     "name": "stdout",
     "output_type": "stream",
     "text": [
      "acceptance is 0.31645833333333334\n"
     ]
    },
    {
     "name": "stderr",
     "output_type": "stream",
     "text": [
      " 65%|██████████████████████████████████████████████████▊                           | 1301/1999 [01:10<00:36, 18.88it/s]"
     ]
    },
    {
     "name": "stdout",
     "output_type": "stream",
     "text": [
      "acceptance is 0.30923076923076925\n"
     ]
    },
    {
     "name": "stderr",
     "output_type": "stream",
     "text": [
      " 70%|██████████████████████████████████████████████████████▋                       | 1401/1999 [01:15<00:31, 19.21it/s]"
     ]
    },
    {
     "name": "stdout",
     "output_type": "stream",
     "text": [
      "acceptance is 0.3028571428571429\n"
     ]
    },
    {
     "name": "stderr",
     "output_type": "stream",
     "text": [
      " 75%|██████████████████████████████████████████████████████████▌                   | 1502/1999 [01:21<00:25, 19.28it/s]"
     ]
    },
    {
     "name": "stdout",
     "output_type": "stream",
     "text": [
      "acceptance is 0.30033333333333334\n"
     ]
    },
    {
     "name": "stderr",
     "output_type": "stream",
     "text": [
      " 80%|██████████████████████████████████████████████████████████████▌               | 1602/1999 [01:26<00:20, 18.93it/s]"
     ]
    },
    {
     "name": "stdout",
     "output_type": "stream",
     "text": [
      "acceptance is 0.29875\n"
     ]
    },
    {
     "name": "stderr",
     "output_type": "stream",
     "text": [
      " 85%|██████████████████████████████████████████████████████████████████▍           | 1702/1999 [01:31<00:15, 18.62it/s]"
     ]
    },
    {
     "name": "stdout",
     "output_type": "stream",
     "text": [
      "acceptance is 0.29411764705882354\n"
     ]
    },
    {
     "name": "stderr",
     "output_type": "stream",
     "text": [
      " 90%|██████████████████████████████████████████████████████████████████████▎       | 1803/1999 [01:37<00:10, 19.03it/s]"
     ]
    },
    {
     "name": "stdout",
     "output_type": "stream",
     "text": [
      "acceptance is 0.2901388888888889\n"
     ]
    },
    {
     "name": "stderr",
     "output_type": "stream",
     "text": [
      " 95%|██████████████████████████████████████████████████████████████████████████▏   | 1902/1999 [01:42<00:05, 18.45it/s]"
     ]
    },
    {
     "name": "stdout",
     "output_type": "stream",
     "text": [
      "acceptance is 0.28578947368421054\n"
     ]
    },
    {
     "name": "stderr",
     "output_type": "stream",
     "text": [
      "100%|██████████████████████████████████████████████████████████████████████████████| 1999/1999 [01:47<00:00, 18.55it/s]\n",
      "  0%|                                                                                 | 2/1999 [00:00<01:46, 18.71it/s]"
     ]
    },
    {
     "name": "stdout",
     "output_type": "stream",
     "text": [
      "inference valid = True\n",
      "R:_ [[1.05924143 1.05243059 1.04609572]\n",
      " [1.01941589 1.02973989 1.04153333]\n",
      " [1.04517481 1.00994545 1.00227326]\n",
      " [0.99946479 1.01229439 1.01367968]\n",
      " [1.04253839 1.01101005 1.01791896]\n",
      " [1.00284257 1.01188276 1.09339171]\n",
      " [1.00616865 1.01472302 1.01060161]\n",
      " [0.         0.         0.        ]\n",
      " [0.         0.         0.        ]\n",
      " [0.         0.         0.        ]\n",
      " [0.         0.         0.        ]\n",
      " [0.         0.         0.        ]\n",
      " [0.         0.         0.        ]\n",
      " [0.         0.         0.        ]\n",
      " [0.         0.         0.        ]\n",
      " [0.         0.         0.        ]\n",
      " [0.         0.         0.        ]\n",
      " [0.         0.         0.        ]\n",
      " [0.         0.         0.        ]\n",
      " [0.         0.         0.        ]\n",
      " [0.         0.         0.        ]\n",
      " [0.         0.         0.        ]\n",
      " [0.         0.         0.        ]\n",
      " [0.         0.         0.        ]]\n",
      "LKD:_ [[-101.8155994 ]\n",
      " [ -77.52729187]\n",
      " [ -64.64185619]\n",
      " [ -52.56048827]\n",
      " [ -87.45633935]\n",
      " [ -90.86503266]\n",
      " [ -64.44590771]\n",
      " [   0.        ]\n",
      " [   0.        ]\n",
      " [   0.        ]\n",
      " [   0.        ]\n",
      " [   0.        ]\n",
      " [   0.        ]\n",
      " [   0.        ]\n",
      " [   0.        ]\n",
      " [   0.        ]\n",
      " [   0.        ]\n",
      " [   0.        ]\n",
      " [   0.        ]\n",
      " [   0.        ]\n",
      " [   0.        ]\n",
      " [   0.        ]\n",
      " [   0.        ]\n",
      " [   0.        ]]\n",
      "Inference val:  [1. 1. 1. 1. 1. 1. 1. 0. 0. 0. 0. 0. 0. 0. 0. 0. 0. 0. 0. 0. 0. 0. 0. 0.]\n",
      "ft_weber:  [[0.29674997 0.847995   1.34680382]\n",
      " [0.0216075  0.83623068 0.64137801]\n",
      " [0.02355098 0.35991206 0.90858138]\n",
      " [0.02413207 0.04549513 0.36861996]\n",
      " [0.17247097 0.65107947 1.18086524]\n",
      " [0.09806743 0.75146068 1.12765364]\n",
      " [0.03816766 0.19858807 0.53333619]\n",
      " [0.         0.         0.        ]\n",
      " [0.         0.         0.        ]\n",
      " [0.         0.         0.        ]\n",
      " [0.         0.         0.        ]\n",
      " [0.         0.         0.        ]\n",
      " [0.         0.         0.        ]\n",
      " [0.         0.         0.        ]\n",
      " [0.         0.         0.        ]\n",
      " [0.         0.         0.        ]\n",
      " [0.         0.         0.        ]\n",
      " [0.         0.         0.        ]\n",
      " [0.         0.         0.        ]\n",
      " [0.         0.         0.        ]\n",
      " [0.         0.         0.        ]\n",
      " [0.         0.         0.        ]\n",
      " [0.         0.         0.        ]\n",
      " [0.         0.         0.        ]]\n"
     ]
    },
    {
     "name": "stderr",
     "output_type": "stream",
     "text": [
      " 50%|███████████████████████████████████████▏                                      | 1003/1999 [00:53<00:53, 18.62it/s]"
     ]
    },
    {
     "name": "stdout",
     "output_type": "stream",
     "text": [
      "Adaptive MCMC starting...\n"
     ]
    },
    {
     "name": "stderr",
     "output_type": "stream",
     "text": [
      " 55%|███████████████████████████████████████████                                   | 1103/1999 [00:58<00:48, 18.50it/s]"
     ]
    },
    {
     "name": "stdout",
     "output_type": "stream",
     "text": [
      "acceptance is 0.1675\n"
     ]
    },
    {
     "name": "stderr",
     "output_type": "stream",
     "text": [
      " 60%|██████████████████████████████████████████████▉                               | 1203/1999 [01:03<00:41, 19.02it/s]"
     ]
    },
    {
     "name": "stdout",
     "output_type": "stream",
     "text": [
      "acceptance is 0.17270833333333332\n"
     ]
    },
    {
     "name": "stderr",
     "output_type": "stream",
     "text": [
      " 65%|██████████████████████████████████████████████████▊                           | 1302/1999 [01:08<00:37, 18.46it/s]"
     ]
    },
    {
     "name": "stdout",
     "output_type": "stream",
     "text": [
      "acceptance is 0.18076923076923077\n"
     ]
    },
    {
     "name": "stderr",
     "output_type": "stream",
     "text": [
      " 70%|██████████████████████████████████████████████████████▋                       | 1402/1999 [01:14<00:30, 19.28it/s]"
     ]
    },
    {
     "name": "stdout",
     "output_type": "stream",
     "text": [
      "acceptance is 0.18910714285714286\n"
     ]
    },
    {
     "name": "stderr",
     "output_type": "stream",
     "text": [
      " 75%|██████████████████████████████████████████████████████████▌                   | 1502/1999 [01:19<00:25, 19.45it/s]"
     ]
    },
    {
     "name": "stdout",
     "output_type": "stream",
     "text": [
      "acceptance is 0.1975\n"
     ]
    },
    {
     "name": "stderr",
     "output_type": "stream",
     "text": [
      " 80%|██████████████████████████████████████████████████████████████▌               | 1602/1999 [01:24<00:20, 19.55it/s]"
     ]
    },
    {
     "name": "stdout",
     "output_type": "stream",
     "text": [
      "acceptance is 0.2015625\n"
     ]
    },
    {
     "name": "stderr",
     "output_type": "stream",
     "text": [
      " 85%|██████████████████████████████████████████████████████████████████▍           | 1702/1999 [01:29<00:15, 19.34it/s]"
     ]
    },
    {
     "name": "stdout",
     "output_type": "stream",
     "text": [
      "acceptance is 0.20558823529411765\n"
     ]
    },
    {
     "name": "stderr",
     "output_type": "stream",
     "text": [
      " 90%|██████████████████████████████████████████████████████████████████████▎       | 1802/1999 [01:34<00:10, 19.28it/s]"
     ]
    },
    {
     "name": "stdout",
     "output_type": "stream",
     "text": [
      "acceptance is 0.20694444444444443\n"
     ]
    },
    {
     "name": "stderr",
     "output_type": "stream",
     "text": [
      " 95%|██████████████████████████████████████████████████████████████████████████▏   | 1902/1999 [01:40<00:05, 19.24it/s]"
     ]
    },
    {
     "name": "stdout",
     "output_type": "stream",
     "text": [
      "acceptance is 0.20973684210526317\n"
     ]
    },
    {
     "name": "stderr",
     "output_type": "stream",
     "text": [
      "100%|██████████████████████████████████████████████████████████████████████████████| 1999/1999 [01:45<00:00, 19.00it/s]\n",
      "  0%|                                                                                 | 2/1999 [00:00<01:45, 18.87it/s]"
     ]
    },
    {
     "name": "stdout",
     "output_type": "stream",
     "text": [
      "inference valid = False\n",
      "R:_ [[1.05924143 1.05243059 1.04609572]\n",
      " [1.01941589 1.02973989 1.04153333]\n",
      " [1.04517481 1.00994545 1.00227326]\n",
      " [0.99946479 1.01229439 1.01367968]\n",
      " [1.04253839 1.01101005 1.01791896]\n",
      " [1.00284257 1.01188276 1.09339171]\n",
      " [1.00616865 1.01472302 1.01060161]\n",
      " [1.06105961 1.10203107 1.01743635]\n",
      " [0.         0.         0.        ]\n",
      " [0.         0.         0.        ]\n",
      " [0.         0.         0.        ]\n",
      " [0.         0.         0.        ]\n",
      " [0.         0.         0.        ]\n",
      " [0.         0.         0.        ]\n",
      " [0.         0.         0.        ]\n",
      " [0.         0.         0.        ]\n",
      " [0.         0.         0.        ]\n",
      " [0.         0.         0.        ]\n",
      " [0.         0.         0.        ]\n",
      " [0.         0.         0.        ]\n",
      " [0.         0.         0.        ]\n",
      " [0.         0.         0.        ]\n",
      " [0.         0.         0.        ]\n",
      " [0.         0.         0.        ]]\n",
      "LKD:_ [[-101.8155994 ]\n",
      " [ -77.52729187]\n",
      " [ -64.64185619]\n",
      " [ -52.56048827]\n",
      " [ -87.45633935]\n",
      " [ -90.86503266]\n",
      " [ -64.44590771]\n",
      " [ -53.66081518]\n",
      " [   0.        ]\n",
      " [   0.        ]\n",
      " [   0.        ]\n",
      " [   0.        ]\n",
      " [   0.        ]\n",
      " [   0.        ]\n",
      " [   0.        ]\n",
      " [   0.        ]\n",
      " [   0.        ]\n",
      " [   0.        ]\n",
      " [   0.        ]\n",
      " [   0.        ]\n",
      " [   0.        ]\n",
      " [   0.        ]\n",
      " [   0.        ]\n",
      " [   0.        ]]\n",
      "Inference val:  [1. 1. 1. 1. 1. 1. 1. 0. 0. 0. 0. 0. 0. 0. 0. 0. 0. 0. 0. 0. 0. 0. 0. 0.]\n",
      "ft_weber:  [[0.29674997 0.847995   1.34680382]\n",
      " [0.0216075  0.83623068 0.64137801]\n",
      " [0.02355098 0.35991206 0.90858138]\n",
      " [0.02413207 0.04549513 0.36861996]\n",
      " [0.17247097 0.65107947 1.18086524]\n",
      " [0.09806743 0.75146068 1.12765364]\n",
      " [0.03816766 0.19858807 0.53333619]\n",
      " [0.0127496  0.20429866 0.35086083]\n",
      " [0.         0.         0.        ]\n",
      " [0.         0.         0.        ]\n",
      " [0.         0.         0.        ]\n",
      " [0.         0.         0.        ]\n",
      " [0.         0.         0.        ]\n",
      " [0.         0.         0.        ]\n",
      " [0.         0.         0.        ]\n",
      " [0.         0.         0.        ]\n",
      " [0.         0.         0.        ]\n",
      " [0.         0.         0.        ]\n",
      " [0.         0.         0.        ]\n",
      " [0.         0.         0.        ]\n",
      " [0.         0.         0.        ]\n",
      " [0.         0.         0.        ]\n",
      " [0.         0.         0.        ]\n",
      " [0.         0.         0.        ]]\n"
     ]
    },
    {
     "name": "stderr",
     "output_type": "stream",
     "text": [
      " 50%|███████████████████████████████████████▏                                      | 1003/1999 [00:54<00:55, 18.04it/s]"
     ]
    },
    {
     "name": "stdout",
     "output_type": "stream",
     "text": [
      "Adaptive MCMC starting...\n"
     ]
    },
    {
     "name": "stderr",
     "output_type": "stream",
     "text": [
      " 55%|██████████████████████████████████████████▉                                   | 1102/1999 [00:59<00:48, 18.37it/s]"
     ]
    },
    {
     "name": "stdout",
     "output_type": "stream",
     "text": [
      "acceptance is 0.3615909090909091\n"
     ]
    },
    {
     "name": "stderr",
     "output_type": "stream",
     "text": [
      " 60%|██████████████████████████████████████████████▉                               | 1203/1999 [01:04<00:43, 18.35it/s]"
     ]
    },
    {
     "name": "stdout",
     "output_type": "stream",
     "text": [
      "acceptance is 0.354375\n"
     ]
    },
    {
     "name": "stderr",
     "output_type": "stream",
     "text": [
      " 65%|██████████████████████████████████████████████████▊                           | 1303/1999 [01:10<00:37, 18.58it/s]"
     ]
    },
    {
     "name": "stdout",
     "output_type": "stream",
     "text": [
      "acceptance is 0.34884615384615386\n"
     ]
    },
    {
     "name": "stderr",
     "output_type": "stream",
     "text": [
      " 70%|██████████████████████████████████████████████████████▋                       | 1403/1999 [01:15<00:31, 19.03it/s]"
     ]
    },
    {
     "name": "stdout",
     "output_type": "stream",
     "text": [
      "acceptance is 0.34214285714285714\n"
     ]
    },
    {
     "name": "stderr",
     "output_type": "stream",
     "text": [
      " 75%|██████████████████████████████████████████████████████████▌                   | 1502/1999 [01:21<00:26, 18.68it/s]"
     ]
    },
    {
     "name": "stdout",
     "output_type": "stream",
     "text": [
      "acceptance is 0.3403333333333333\n"
     ]
    },
    {
     "name": "stderr",
     "output_type": "stream",
     "text": [
      " 80%|██████████████████████████████████████████████████████████████▌               | 1602/1999 [01:26<00:21, 18.25it/s]"
     ]
    },
    {
     "name": "stdout",
     "output_type": "stream",
     "text": [
      "acceptance is 0.32984375\n"
     ]
    },
    {
     "name": "stderr",
     "output_type": "stream",
     "text": [
      " 85%|██████████████████████████████████████████████████████████████████▍           | 1703/1999 [01:31<00:15, 18.95it/s]"
     ]
    },
    {
     "name": "stdout",
     "output_type": "stream",
     "text": [
      "acceptance is 0.3247058823529412\n"
     ]
    },
    {
     "name": "stderr",
     "output_type": "stream",
     "text": [
      " 90%|██████████████████████████████████████████████████████████████████████▎       | 1803/1999 [01:37<00:10, 18.07it/s]"
     ]
    },
    {
     "name": "stdout",
     "output_type": "stream",
     "text": [
      "acceptance is 0.32013888888888886\n"
     ]
    },
    {
     "name": "stderr",
     "output_type": "stream",
     "text": [
      " 95%|██████████████████████████████████████████████████████████████████████████▎   | 1903/1999 [01:42<00:05, 18.91it/s]"
     ]
    },
    {
     "name": "stdout",
     "output_type": "stream",
     "text": [
      "acceptance is 0.3093421052631579\n"
     ]
    },
    {
     "name": "stderr",
     "output_type": "stream",
     "text": [
      "100%|██████████████████████████████████████████████████████████████████████████████| 1999/1999 [01:47<00:00, 18.55it/s]\n",
      "  0%|                                                                                 | 2/1999 [00:00<01:43, 19.23it/s]"
     ]
    },
    {
     "name": "stdout",
     "output_type": "stream",
     "text": [
      "inference valid = False\n",
      "R:_ [[1.05924143 1.05243059 1.04609572]\n",
      " [1.01941589 1.02973989 1.04153333]\n",
      " [1.04517481 1.00994545 1.00227326]\n",
      " [0.99946479 1.01229439 1.01367968]\n",
      " [1.04253839 1.01101005 1.01791896]\n",
      " [1.00284257 1.01188276 1.09339171]\n",
      " [1.00616865 1.01472302 1.01060161]\n",
      " [1.06105961 1.10203107 1.01743635]\n",
      " [1.01784425 1.06029134 1.11141613]\n",
      " [0.         0.         0.        ]\n",
      " [0.         0.         0.        ]\n",
      " [0.         0.         0.        ]\n",
      " [0.         0.         0.        ]\n",
      " [0.         0.         0.        ]\n",
      " [0.         0.         0.        ]\n",
      " [0.         0.         0.        ]\n",
      " [0.         0.         0.        ]\n",
      " [0.         0.         0.        ]\n",
      " [0.         0.         0.        ]\n",
      " [0.         0.         0.        ]\n",
      " [0.         0.         0.        ]\n",
      " [0.         0.         0.        ]\n",
      " [0.         0.         0.        ]\n",
      " [0.         0.         0.        ]]\n",
      "LKD:_ [[-101.8155994 ]\n",
      " [ -77.52729187]\n",
      " [ -64.64185619]\n",
      " [ -52.56048827]\n",
      " [ -87.45633935]\n",
      " [ -90.86503266]\n",
      " [ -64.44590771]\n",
      " [ -53.66081518]\n",
      " [ -78.62174451]\n",
      " [   0.        ]\n",
      " [   0.        ]\n",
      " [   0.        ]\n",
      " [   0.        ]\n",
      " [   0.        ]\n",
      " [   0.        ]\n",
      " [   0.        ]\n",
      " [   0.        ]\n",
      " [   0.        ]\n",
      " [   0.        ]\n",
      " [   0.        ]\n",
      " [   0.        ]\n",
      " [   0.        ]\n",
      " [   0.        ]\n",
      " [   0.        ]]\n",
      "Inference val:  [1. 1. 1. 1. 1. 1. 1. 0. 0. 0. 0. 0. 0. 0. 0. 0. 0. 0. 0. 0. 0. 0. 0. 0.]\n",
      "ft_weber:  [[0.29674997 0.847995   1.34680382]\n",
      " [0.0216075  0.83623068 0.64137801]\n",
      " [0.02355098 0.35991206 0.90858138]\n",
      " [0.02413207 0.04549513 0.36861996]\n",
      " [0.17247097 0.65107947 1.18086524]\n",
      " [0.09806743 0.75146068 1.12765364]\n",
      " [0.03816766 0.19858807 0.53333619]\n",
      " [0.0127496  0.20429866 0.35086083]\n",
      " [0.12881633 0.22309217 1.1678836 ]\n",
      " [0.         0.         0.        ]\n",
      " [0.         0.         0.        ]\n",
      " [0.         0.         0.        ]\n",
      " [0.         0.         0.        ]\n",
      " [0.         0.         0.        ]\n",
      " [0.         0.         0.        ]\n",
      " [0.         0.         0.        ]\n",
      " [0.         0.         0.        ]\n",
      " [0.         0.         0.        ]\n",
      " [0.         0.         0.        ]\n",
      " [0.         0.         0.        ]\n",
      " [0.         0.         0.        ]\n",
      " [0.         0.         0.        ]\n",
      " [0.         0.         0.        ]\n",
      " [0.         0.         0.        ]]\n"
     ]
    },
    {
     "name": "stderr",
     "output_type": "stream",
     "text": [
      " 50%|███████████████████████████████████████▏                                      | 1003/1999 [00:52<00:51, 19.34it/s]"
     ]
    },
    {
     "name": "stdout",
     "output_type": "stream",
     "text": [
      "Adaptive MCMC starting...\n"
     ]
    },
    {
     "name": "stderr",
     "output_type": "stream",
     "text": [
      " 55%|██████████████████████████████████████████▉                                   | 1102/1999 [00:58<00:46, 19.12it/s]"
     ]
    },
    {
     "name": "stdout",
     "output_type": "stream",
     "text": [
      "acceptance is 0.26704545454545453\n"
     ]
    },
    {
     "name": "stderr",
     "output_type": "stream",
     "text": [
      " 60%|██████████████████████████████████████████████▉                               | 1202/1999 [01:03<00:42, 18.96it/s]"
     ]
    },
    {
     "name": "stdout",
     "output_type": "stream",
     "text": [
      "acceptance is 0.268125\n"
     ]
    },
    {
     "name": "stderr",
     "output_type": "stream",
     "text": [
      " 65%|██████████████████████████████████████████████████▊                           | 1303/1999 [01:08<00:36, 19.22it/s]"
     ]
    },
    {
     "name": "stdout",
     "output_type": "stream",
     "text": [
      "acceptance is 0.2625\n"
     ]
    },
    {
     "name": "stderr",
     "output_type": "stream",
     "text": [
      " 70%|██████████████████████████████████████████████████████▋                       | 1403/1999 [01:13<00:31, 18.84it/s]"
     ]
    },
    {
     "name": "stdout",
     "output_type": "stream",
     "text": [
      "acceptance is 0.25285714285714284\n"
     ]
    },
    {
     "name": "stderr",
     "output_type": "stream",
     "text": [
      " 75%|██████████████████████████████████████████████████████████▌                   | 1502/1999 [01:19<00:25, 19.27it/s]"
     ]
    },
    {
     "name": "stdout",
     "output_type": "stream",
     "text": [
      "acceptance is 0.2475\n"
     ]
    },
    {
     "name": "stderr",
     "output_type": "stream",
     "text": [
      " 80%|██████████████████████████████████████████████████████████████▌               | 1603/1999 [01:24<00:21, 18.22it/s]"
     ]
    },
    {
     "name": "stdout",
     "output_type": "stream",
     "text": [
      "acceptance is 0.24484375\n"
     ]
    },
    {
     "name": "stderr",
     "output_type": "stream",
     "text": [
      " 85%|██████████████████████████████████████████████████████████████████▍           | 1703/1999 [01:29<00:15, 18.77it/s]"
     ]
    },
    {
     "name": "stdout",
     "output_type": "stream",
     "text": [
      "acceptance is 0.24323529411764705\n"
     ]
    },
    {
     "name": "stderr",
     "output_type": "stream",
     "text": [
      " 90%|██████████████████████████████████████████████████████████████████████▎       | 1803/1999 [01:35<00:10, 19.20it/s]"
     ]
    },
    {
     "name": "stdout",
     "output_type": "stream",
     "text": [
      "acceptance is 0.24375\n"
     ]
    },
    {
     "name": "stderr",
     "output_type": "stream",
     "text": [
      " 95%|██████████████████████████████████████████████████████████████████████████▎   | 1903/1999 [01:40<00:04, 19.35it/s]"
     ]
    },
    {
     "name": "stdout",
     "output_type": "stream",
     "text": [
      "acceptance is 0.24013157894736842\n"
     ]
    },
    {
     "name": "stderr",
     "output_type": "stream",
     "text": [
      "100%|██████████████████████████████████████████████████████████████████████████████| 1999/1999 [01:45<00:00, 18.98it/s]\n",
      "  0%|                                                                                 | 2/1999 [00:00<01:45, 18.87it/s]"
     ]
    },
    {
     "name": "stdout",
     "output_type": "stream",
     "text": [
      "inference valid = False\n",
      "R:_ [[1.05924143 1.05243059 1.04609572]\n",
      " [1.01941589 1.02973989 1.04153333]\n",
      " [1.04517481 1.00994545 1.00227326]\n",
      " [0.99946479 1.01229439 1.01367968]\n",
      " [1.04253839 1.01101005 1.01791896]\n",
      " [1.00284257 1.01188276 1.09339171]\n",
      " [1.00616865 1.01472302 1.01060161]\n",
      " [1.06105961 1.10203107 1.01743635]\n",
      " [1.01784425 1.06029134 1.11141613]\n",
      " [1.19999161 1.18672909 1.25385294]\n",
      " [0.         0.         0.        ]\n",
      " [0.         0.         0.        ]\n",
      " [0.         0.         0.        ]\n",
      " [0.         0.         0.        ]\n",
      " [0.         0.         0.        ]\n",
      " [0.         0.         0.        ]\n",
      " [0.         0.         0.        ]\n",
      " [0.         0.         0.        ]\n",
      " [0.         0.         0.        ]\n",
      " [0.         0.         0.        ]\n",
      " [0.         0.         0.        ]\n",
      " [0.         0.         0.        ]\n",
      " [0.         0.         0.        ]\n",
      " [0.         0.         0.        ]]\n",
      "LKD:_ [[-101.8155994 ]\n",
      " [ -77.52729187]\n",
      " [ -64.64185619]\n",
      " [ -52.56048827]\n",
      " [ -87.45633935]\n",
      " [ -90.86503266]\n",
      " [ -64.44590771]\n",
      " [ -53.66081518]\n",
      " [ -78.62174451]\n",
      " [ -53.18399335]\n",
      " [   0.        ]\n",
      " [   0.        ]\n",
      " [   0.        ]\n",
      " [   0.        ]\n",
      " [   0.        ]\n",
      " [   0.        ]\n",
      " [   0.        ]\n",
      " [   0.        ]\n",
      " [   0.        ]\n",
      " [   0.        ]\n",
      " [   0.        ]\n",
      " [   0.        ]\n",
      " [   0.        ]\n",
      " [   0.        ]]\n",
      "Inference val:  [1. 1. 1. 1. 1. 1. 1. 0. 0. 0. 0. 0. 0. 0. 0. 0. 0. 0. 0. 0. 0. 0. 0. 0.]\n",
      "ft_weber:  [[0.29674997 0.847995   1.34680382]\n",
      " [0.0216075  0.83623068 0.64137801]\n",
      " [0.02355098 0.35991206 0.90858138]\n",
      " [0.02413207 0.04549513 0.36861996]\n",
      " [0.17247097 0.65107947 1.18086524]\n",
      " [0.09806743 0.75146068 1.12765364]\n",
      " [0.03816766 0.19858807 0.53333619]\n",
      " [0.0127496  0.20429866 0.35086083]\n",
      " [0.12881633 0.22309217 1.1678836 ]\n",
      " [0.02484716 0.08669565 0.36534097]\n",
      " [0.         0.         0.        ]\n",
      " [0.         0.         0.        ]\n",
      " [0.         0.         0.        ]\n",
      " [0.         0.         0.        ]\n",
      " [0.         0.         0.        ]\n",
      " [0.         0.         0.        ]\n",
      " [0.         0.         0.        ]\n",
      " [0.         0.         0.        ]\n",
      " [0.         0.         0.        ]\n",
      " [0.         0.         0.        ]\n",
      " [0.         0.         0.        ]\n",
      " [0.         0.         0.        ]\n",
      " [0.         0.         0.        ]\n",
      " [0.         0.         0.        ]]\n"
     ]
    },
    {
     "name": "stderr",
     "output_type": "stream",
     "text": [
      " 50%|███████████████████████████████████████                                       | 1002/1999 [00:53<00:55, 17.87it/s]"
     ]
    },
    {
     "name": "stdout",
     "output_type": "stream",
     "text": [
      "Adaptive MCMC starting...\n"
     ]
    },
    {
     "name": "stderr",
     "output_type": "stream",
     "text": [
      " 55%|██████████████████████████████████████████▉                                   | 1102/1999 [00:58<00:46, 19.21it/s]"
     ]
    },
    {
     "name": "stdout",
     "output_type": "stream",
     "text": [
      "acceptance is 0.3013636363636364\n"
     ]
    },
    {
     "name": "stderr",
     "output_type": "stream",
     "text": [
      " 60%|██████████████████████████████████████████████▉                               | 1202/1999 [01:04<00:42, 18.81it/s]"
     ]
    },
    {
     "name": "stdout",
     "output_type": "stream",
     "text": [
      "acceptance is 0.2925\n"
     ]
    },
    {
     "name": "stderr",
     "output_type": "stream",
     "text": [
      " 65%|██████████████████████████████████████████████████▊                           | 1303/1999 [01:09<00:39, 17.82it/s]"
     ]
    },
    {
     "name": "stdout",
     "output_type": "stream",
     "text": [
      "acceptance is 0.28692307692307695\n"
     ]
    },
    {
     "name": "stderr",
     "output_type": "stream",
     "text": [
      " 70%|██████████████████████████████████████████████████████▋                       | 1403/1999 [01:14<00:31, 19.00it/s]"
     ]
    },
    {
     "name": "stdout",
     "output_type": "stream",
     "text": [
      "acceptance is 0.285\n"
     ]
    },
    {
     "name": "stderr",
     "output_type": "stream",
     "text": [
      " 75%|██████████████████████████████████████████████████████████▋                   | 1503/1999 [01:20<00:25, 19.17it/s]"
     ]
    },
    {
     "name": "stdout",
     "output_type": "stream",
     "text": [
      "acceptance is 0.2783333333333333\n"
     ]
    },
    {
     "name": "stderr",
     "output_type": "stream",
     "text": [
      " 80%|██████████████████████████████████████████████████████████████▌               | 1603/1999 [01:25<00:21, 18.84it/s]"
     ]
    },
    {
     "name": "stdout",
     "output_type": "stream",
     "text": [
      "acceptance is 0.27671875\n"
     ]
    },
    {
     "name": "stderr",
     "output_type": "stream",
     "text": [
      " 85%|██████████████████████████████████████████████████████████████████▍           | 1703/1999 [01:30<00:15, 18.96it/s]"
     ]
    },
    {
     "name": "stdout",
     "output_type": "stream",
     "text": [
      "acceptance is 0.27544117647058824\n"
     ]
    },
    {
     "name": "stderr",
     "output_type": "stream",
     "text": [
      " 90%|██████████████████████████████████████████████████████████████████████▎       | 1802/1999 [01:36<00:10, 19.13it/s]"
     ]
    },
    {
     "name": "stdout",
     "output_type": "stream",
     "text": [
      "acceptance is 0.2701388888888889\n"
     ]
    },
    {
     "name": "stderr",
     "output_type": "stream",
     "text": [
      " 95%|██████████████████████████████████████████████████████████████████████████▎   | 1903/1999 [01:41<00:05, 18.84it/s]"
     ]
    },
    {
     "name": "stdout",
     "output_type": "stream",
     "text": [
      "acceptance is 0.2685526315789474\n"
     ]
    },
    {
     "name": "stderr",
     "output_type": "stream",
     "text": [
      "100%|██████████████████████████████████████████████████████████████████████████████| 1999/1999 [01:46<00:00, 18.74it/s]\n",
      "  0%|                                                                                         | 0/1999 [00:00<?, ?it/s]"
     ]
    },
    {
     "name": "stdout",
     "output_type": "stream",
     "text": [
      "inference valid = True\n",
      "R:_ [[1.05924143 1.05243059 1.04609572]\n",
      " [1.01941589 1.02973989 1.04153333]\n",
      " [1.04517481 1.00994545 1.00227326]\n",
      " [0.99946479 1.01229439 1.01367968]\n",
      " [1.04253839 1.01101005 1.01791896]\n",
      " [1.00284257 1.01188276 1.09339171]\n",
      " [1.00616865 1.01472302 1.01060161]\n",
      " [1.06105961 1.10203107 1.01743635]\n",
      " [1.01784425 1.06029134 1.11141613]\n",
      " [1.19999161 1.18672909 1.25385294]\n",
      " [1.00093873 1.00646555 1.0598435 ]\n",
      " [0.         0.         0.        ]\n",
      " [0.         0.         0.        ]\n",
      " [0.         0.         0.        ]\n",
      " [0.         0.         0.        ]\n",
      " [0.         0.         0.        ]\n",
      " [0.         0.         0.        ]\n",
      " [0.         0.         0.        ]\n",
      " [0.         0.         0.        ]\n",
      " [0.         0.         0.        ]\n",
      " [0.         0.         0.        ]\n",
      " [0.         0.         0.        ]\n",
      " [0.         0.         0.        ]\n",
      " [0.         0.         0.        ]]\n",
      "LKD:_ [[-101.8155994 ]\n",
      " [ -77.52729187]\n",
      " [ -64.64185619]\n",
      " [ -52.56048827]\n",
      " [ -87.45633935]\n",
      " [ -90.86503266]\n",
      " [ -64.44590771]\n",
      " [ -53.66081518]\n",
      " [ -78.62174451]\n",
      " [ -53.18399335]\n",
      " [ -56.85331537]\n",
      " [   0.        ]\n",
      " [   0.        ]\n",
      " [   0.        ]\n",
      " [   0.        ]\n",
      " [   0.        ]\n",
      " [   0.        ]\n",
      " [   0.        ]\n",
      " [   0.        ]\n",
      " [   0.        ]\n",
      " [   0.        ]\n",
      " [   0.        ]\n",
      " [   0.        ]\n",
      " [   0.        ]]\n",
      "Inference val:  [1. 1. 1. 1. 1. 1. 1. 0. 0. 0. 1. 0. 0. 0. 0. 0. 0. 0. 0. 0. 0. 0. 0. 0.]\n",
      "ft_weber:  [[0.29674997 0.847995   1.34680382]\n",
      " [0.0216075  0.83623068 0.64137801]\n",
      " [0.02355098 0.35991206 0.90858138]\n",
      " [0.02413207 0.04549513 0.36861996]\n",
      " [0.17247097 0.65107947 1.18086524]\n",
      " [0.09806743 0.75146068 1.12765364]\n",
      " [0.03816766 0.19858807 0.53333619]\n",
      " [0.0127496  0.20429866 0.35086083]\n",
      " [0.12881633 0.22309217 1.1678836 ]\n",
      " [0.02484716 0.08669565 0.36534097]\n",
      " [0.02138465 0.37793117 0.57443987]\n",
      " [0.         0.         0.        ]\n",
      " [0.         0.         0.        ]\n",
      " [0.         0.         0.        ]\n",
      " [0.         0.         0.        ]\n",
      " [0.         0.         0.        ]\n",
      " [0.         0.         0.        ]\n",
      " [0.         0.         0.        ]\n",
      " [0.         0.         0.        ]\n",
      " [0.         0.         0.        ]\n",
      " [0.         0.         0.        ]\n",
      " [0.         0.         0.        ]\n",
      " [0.         0.         0.        ]\n",
      " [0.         0.         0.        ]]\n"
     ]
    },
    {
     "name": "stderr",
     "output_type": "stream",
     "text": [
      " 50%|███████████████████████████████████████                                       | 1002/1999 [01:01<01:01, 16.18it/s]"
     ]
    },
    {
     "name": "stdout",
     "output_type": "stream",
     "text": [
      "Adaptive MCMC starting...\n"
     ]
    },
    {
     "name": "stderr",
     "output_type": "stream",
     "text": [
      " 55%|██████████████████████████████████████████▉                                   | 1102/1999 [01:07<00:54, 16.50it/s]"
     ]
    },
    {
     "name": "stdout",
     "output_type": "stream",
     "text": [
      "acceptance is 0.3145454545454546\n"
     ]
    },
    {
     "name": "stderr",
     "output_type": "stream",
     "text": [
      " 60%|██████████████████████████████████████████████▉                               | 1202/1999 [01:13<00:48, 16.37it/s]"
     ]
    },
    {
     "name": "stdout",
     "output_type": "stream",
     "text": [
      "acceptance is 0.30583333333333335\n"
     ]
    },
    {
     "name": "stderr",
     "output_type": "stream",
     "text": [
      " 65%|██████████████████████████████████████████████████▊                           | 1302/1999 [01:19<00:41, 16.62it/s]"
     ]
    },
    {
     "name": "stdout",
     "output_type": "stream",
     "text": [
      "acceptance is 0.29730769230769233\n"
     ]
    },
    {
     "name": "stderr",
     "output_type": "stream",
     "text": [
      " 70%|██████████████████████████████████████████████████████▋                       | 1402/1999 [01:25<00:36, 16.54it/s]"
     ]
    },
    {
     "name": "stdout",
     "output_type": "stream",
     "text": [
      "acceptance is 0.29392857142857143\n"
     ]
    },
    {
     "name": "stderr",
     "output_type": "stream",
     "text": [
      " 75%|██████████████████████████████████████████████████████████▌                   | 1502/1999 [01:31<00:30, 16.49it/s]"
     ]
    },
    {
     "name": "stdout",
     "output_type": "stream",
     "text": [
      "acceptance is 0.2886666666666667\n"
     ]
    },
    {
     "name": "stderr",
     "output_type": "stream",
     "text": [
      " 80%|██████████████████████████████████████████████████████████████▌               | 1602/1999 [01:38<00:23, 16.57it/s]"
     ]
    },
    {
     "name": "stdout",
     "output_type": "stream",
     "text": [
      "acceptance is 0.284375\n"
     ]
    },
    {
     "name": "stderr",
     "output_type": "stream",
     "text": [
      " 85%|██████████████████████████████████████████████████████████████████▍           | 1702/1999 [01:44<00:18, 15.93it/s]"
     ]
    },
    {
     "name": "stdout",
     "output_type": "stream",
     "text": [
      "acceptance is 0.28044117647058825\n"
     ]
    },
    {
     "name": "stderr",
     "output_type": "stream",
     "text": [
      " 90%|██████████████████████████████████████████████████████████████████████▎       | 1802/1999 [01:50<00:12, 16.33it/s]"
     ]
    },
    {
     "name": "stdout",
     "output_type": "stream",
     "text": [
      "acceptance is 0.2772222222222222\n"
     ]
    },
    {
     "name": "stderr",
     "output_type": "stream",
     "text": [
      " 95%|██████████████████████████████████████████████████████████████████████████▏   | 1902/1999 [01:56<00:05, 16.53it/s]"
     ]
    },
    {
     "name": "stdout",
     "output_type": "stream",
     "text": [
      "acceptance is 0.2781578947368421\n"
     ]
    },
    {
     "name": "stderr",
     "output_type": "stream",
     "text": [
      "100%|██████████████████████████████████████████████████████████████████████████████| 1999/1999 [02:02<00:00, 16.35it/s]\n",
      "  0%|                                                                                 | 2/1999 [00:00<01:41, 19.72it/s]"
     ]
    },
    {
     "name": "stdout",
     "output_type": "stream",
     "text": [
      "inference valid = True\n",
      "R:_ [[1.05924143 1.05243059 1.04609572]\n",
      " [1.01941589 1.02973989 1.04153333]\n",
      " [1.04517481 1.00994545 1.00227326]\n",
      " [0.99946479 1.01229439 1.01367968]\n",
      " [1.04253839 1.01101005 1.01791896]\n",
      " [1.00284257 1.01188276 1.09339171]\n",
      " [1.00616865 1.01472302 1.01060161]\n",
      " [1.06105961 1.10203107 1.01743635]\n",
      " [1.01784425 1.06029134 1.11141613]\n",
      " [1.19999161 1.18672909 1.25385294]\n",
      " [1.00093873 1.00646555 1.0598435 ]\n",
      " [1.01449887 1.06819679 1.00827713]\n",
      " [0.         0.         0.        ]\n",
      " [0.         0.         0.        ]\n",
      " [0.         0.         0.        ]\n",
      " [0.         0.         0.        ]\n",
      " [0.         0.         0.        ]\n",
      " [0.         0.         0.        ]\n",
      " [0.         0.         0.        ]\n",
      " [0.         0.         0.        ]\n",
      " [0.         0.         0.        ]\n",
      " [0.         0.         0.        ]\n",
      " [0.         0.         0.        ]\n",
      " [0.         0.         0.        ]]\n",
      "LKD:_ [[-101.8155994 ]\n",
      " [ -77.52729187]\n",
      " [ -64.64185619]\n",
      " [ -52.56048827]\n",
      " [ -87.45633935]\n",
      " [ -90.86503266]\n",
      " [ -64.44590771]\n",
      " [ -53.66081518]\n",
      " [ -78.62174451]\n",
      " [ -53.18399335]\n",
      " [ -56.85331537]\n",
      " [ -52.74767412]\n",
      " [   0.        ]\n",
      " [   0.        ]\n",
      " [   0.        ]\n",
      " [   0.        ]\n",
      " [   0.        ]\n",
      " [   0.        ]\n",
      " [   0.        ]\n",
      " [   0.        ]\n",
      " [   0.        ]\n",
      " [   0.        ]\n",
      " [   0.        ]\n",
      " [   0.        ]]\n",
      "Inference val:  [1. 1. 1. 1. 1. 1. 1. 0. 0. 0. 1. 1. 0. 0. 0. 0. 0. 0. 0. 0. 0. 0. 0. 0.]\n",
      "ft_weber:  [[0.29674997 0.847995   1.34680382]\n",
      " [0.0216075  0.83623068 0.64137801]\n",
      " [0.02355098 0.35991206 0.90858138]\n",
      " [0.02413207 0.04549513 0.36861996]\n",
      " [0.17247097 0.65107947 1.18086524]\n",
      " [0.09806743 0.75146068 1.12765364]\n",
      " [0.03816766 0.19858807 0.53333619]\n",
      " [0.0127496  0.20429866 0.35086083]\n",
      " [0.12881633 0.22309217 1.1678836 ]\n",
      " [0.02484716 0.08669565 0.36534097]\n",
      " [0.02138465 0.37793117 0.57443987]\n",
      " [0.02500975 0.21959731 0.40179204]\n",
      " [0.         0.         0.        ]\n",
      " [0.         0.         0.        ]\n",
      " [0.         0.         0.        ]\n",
      " [0.         0.         0.        ]\n",
      " [0.         0.         0.        ]\n",
      " [0.         0.         0.        ]\n",
      " [0.         0.         0.        ]\n",
      " [0.         0.         0.        ]\n",
      " [0.         0.         0.        ]\n",
      " [0.         0.         0.        ]\n",
      " [0.         0.         0.        ]\n",
      " [0.         0.         0.        ]]\n"
     ]
    },
    {
     "name": "stderr",
     "output_type": "stream",
     "text": [
      " 50%|███████████████████████████████████████                                       | 1002/1999 [00:52<00:52, 18.86it/s]"
     ]
    },
    {
     "name": "stdout",
     "output_type": "stream",
     "text": [
      "Adaptive MCMC starting...\n"
     ]
    },
    {
     "name": "stderr",
     "output_type": "stream",
     "text": [
      " 55%|██████████████████████████████████████████▉                                   | 1102/1999 [00:57<00:46, 19.28it/s]"
     ]
    },
    {
     "name": "stdout",
     "output_type": "stream",
     "text": [
      "acceptance is 0.22272727272727272\n"
     ]
    },
    {
     "name": "stderr",
     "output_type": "stream",
     "text": [
      " 60%|██████████████████████████████████████████████▉                               | 1202/1999 [01:03<00:42, 18.82it/s]"
     ]
    },
    {
     "name": "stdout",
     "output_type": "stream",
     "text": [
      "acceptance is 0.226875\n"
     ]
    },
    {
     "name": "stderr",
     "output_type": "stream",
     "text": [
      " 65%|██████████████████████████████████████████████████▊                           | 1302/1999 [01:08<00:36, 18.91it/s]"
     ]
    },
    {
     "name": "stdout",
     "output_type": "stream",
     "text": [
      "acceptance is 0.22288461538461538\n"
     ]
    },
    {
     "name": "stderr",
     "output_type": "stream",
     "text": [
      " 70%|██████████████████████████████████████████████████████▋                       | 1402/1999 [01:13<00:32, 18.42it/s]"
     ]
    },
    {
     "name": "stdout",
     "output_type": "stream",
     "text": [
      "acceptance is 0.22589285714285715\n"
     ]
    },
    {
     "name": "stderr",
     "output_type": "stream",
     "text": [
      " 75%|██████████████████████████████████████████████████████████▌                   | 1502/1999 [01:19<00:26, 18.76it/s]"
     ]
    },
    {
     "name": "stdout",
     "output_type": "stream",
     "text": [
      "acceptance is 0.22616666666666665\n"
     ]
    },
    {
     "name": "stderr",
     "output_type": "stream",
     "text": [
      " 80%|██████████████████████████████████████████████████████████████▌               | 1603/1999 [01:24<00:20, 19.20it/s]"
     ]
    },
    {
     "name": "stdout",
     "output_type": "stream",
     "text": [
      "acceptance is 0.2259375\n"
     ]
    },
    {
     "name": "stderr",
     "output_type": "stream",
     "text": [
      " 85%|██████████████████████████████████████████████████████████████████▍           | 1702/1999 [01:29<00:15, 18.74it/s]"
     ]
    },
    {
     "name": "stdout",
     "output_type": "stream",
     "text": [
      "acceptance is 0.2235294117647059\n"
     ]
    },
    {
     "name": "stderr",
     "output_type": "stream",
     "text": [
      " 90%|██████████████████████████████████████████████████████████████████████▎       | 1802/1999 [01:35<00:10, 18.92it/s]"
     ]
    },
    {
     "name": "stdout",
     "output_type": "stream",
     "text": [
      "acceptance is 0.2209722222222222\n"
     ]
    },
    {
     "name": "stderr",
     "output_type": "stream",
     "text": [
      " 95%|██████████████████████████████████████████████████████████████████████████▏   | 1902/1999 [01:40<00:05, 18.79it/s]"
     ]
    },
    {
     "name": "stdout",
     "output_type": "stream",
     "text": [
      "acceptance is 0.21578947368421053\n"
     ]
    },
    {
     "name": "stderr",
     "output_type": "stream",
     "text": [
      "100%|██████████████████████████████████████████████████████████████████████████████| 1999/1999 [01:45<00:00, 18.95it/s]\n",
      "  0%|                                                                                 | 2/1999 [00:00<01:55, 17.30it/s]"
     ]
    },
    {
     "name": "stdout",
     "output_type": "stream",
     "text": [
      "inference valid = True\n",
      "R:_ [[1.05924143 1.05243059 1.04609572]\n",
      " [1.01941589 1.02973989 1.04153333]\n",
      " [1.04517481 1.00994545 1.00227326]\n",
      " [0.99946479 1.01229439 1.01367968]\n",
      " [1.04253839 1.01101005 1.01791896]\n",
      " [1.00284257 1.01188276 1.09339171]\n",
      " [1.00616865 1.01472302 1.01060161]\n",
      " [1.06105961 1.10203107 1.01743635]\n",
      " [1.01784425 1.06029134 1.11141613]\n",
      " [1.19999161 1.18672909 1.25385294]\n",
      " [1.00093873 1.00646555 1.0598435 ]\n",
      " [1.01449887 1.06819679 1.00827713]\n",
      " [1.06606728 1.03907796 1.01945687]\n",
      " [0.         0.         0.        ]\n",
      " [0.         0.         0.        ]\n",
      " [0.         0.         0.        ]\n",
      " [0.         0.         0.        ]\n",
      " [0.         0.         0.        ]\n",
      " [0.         0.         0.        ]\n",
      " [0.         0.         0.        ]\n",
      " [0.         0.         0.        ]\n",
      " [0.         0.         0.        ]\n",
      " [0.         0.         0.        ]\n",
      " [0.         0.         0.        ]]\n",
      "LKD:_ [[-101.8155994 ]\n",
      " [ -77.52729187]\n",
      " [ -64.64185619]\n",
      " [ -52.56048827]\n",
      " [ -87.45633935]\n",
      " [ -90.86503266]\n",
      " [ -64.44590771]\n",
      " [ -53.66081518]\n",
      " [ -78.62174451]\n",
      " [ -53.18399335]\n",
      " [ -56.85331537]\n",
      " [ -52.74767412]\n",
      " [ -48.78058026]\n",
      " [   0.        ]\n",
      " [   0.        ]\n",
      " [   0.        ]\n",
      " [   0.        ]\n",
      " [   0.        ]\n",
      " [   0.        ]\n",
      " [   0.        ]\n",
      " [   0.        ]\n",
      " [   0.        ]\n",
      " [   0.        ]\n",
      " [   0.        ]]\n",
      "Inference val:  [1. 1. 1. 1. 1. 1. 1. 0. 0. 0. 1. 1. 1. 0. 0. 0. 0. 0. 0. 0. 0. 0. 0. 0.]\n",
      "ft_weber:  [[0.29674997 0.847995   1.34680382]\n",
      " [0.0216075  0.83623068 0.64137801]\n",
      " [0.02355098 0.35991206 0.90858138]\n",
      " [0.02413207 0.04549513 0.36861996]\n",
      " [0.17247097 0.65107947 1.18086524]\n",
      " [0.09806743 0.75146068 1.12765364]\n",
      " [0.03816766 0.19858807 0.53333619]\n",
      " [0.0127496  0.20429866 0.35086083]\n",
      " [0.12881633 0.22309217 1.1678836 ]\n",
      " [0.02484716 0.08669565 0.36534097]\n",
      " [0.02138465 0.37793117 0.57443987]\n",
      " [0.02500975 0.21959731 0.40179204]\n",
      " [0.02024132 0.08870965 0.45768789]\n",
      " [0.         0.         0.        ]\n",
      " [0.         0.         0.        ]\n",
      " [0.         0.         0.        ]\n",
      " [0.         0.         0.        ]\n",
      " [0.         0.         0.        ]\n",
      " [0.         0.         0.        ]\n",
      " [0.         0.         0.        ]\n",
      " [0.         0.         0.        ]\n",
      " [0.         0.         0.        ]\n",
      " [0.         0.         0.        ]\n",
      " [0.         0.         0.        ]]\n"
     ]
    },
    {
     "name": "stderr",
     "output_type": "stream",
     "text": [
      " 50%|███████████████████████████████████████▏                                      | 1003/1999 [00:52<00:55, 18.06it/s]"
     ]
    },
    {
     "name": "stdout",
     "output_type": "stream",
     "text": [
      "Adaptive MCMC starting...\n"
     ]
    },
    {
     "name": "stderr",
     "output_type": "stream",
     "text": [
      " 55%|███████████████████████████████████████████                                   | 1103/1999 [00:57<00:46, 19.47it/s]"
     ]
    },
    {
     "name": "stdout",
     "output_type": "stream",
     "text": [
      "acceptance is 0.2777272727272727\n"
     ]
    },
    {
     "name": "stderr",
     "output_type": "stream",
     "text": [
      " 60%|██████████████████████████████████████████████▉                               | 1203/1999 [01:02<00:40, 19.45it/s]"
     ]
    },
    {
     "name": "stdout",
     "output_type": "stream",
     "text": [
      "acceptance is 0.27395833333333336\n"
     ]
    },
    {
     "name": "stderr",
     "output_type": "stream",
     "text": [
      " 65%|██████████████████████████████████████████████████▊                           | 1301/1999 [01:07<00:36, 19.03it/s]"
     ]
    },
    {
     "name": "stdout",
     "output_type": "stream",
     "text": [
      "acceptance is 0.2692307692307692\n"
     ]
    },
    {
     "name": "stderr",
     "output_type": "stream",
     "text": [
      " 70%|██████████████████████████████████████████████████████▋                       | 1403/1999 [01:13<00:30, 19.76it/s]"
     ]
    },
    {
     "name": "stdout",
     "output_type": "stream",
     "text": [
      "acceptance is 0.26285714285714284\n"
     ]
    },
    {
     "name": "stderr",
     "output_type": "stream",
     "text": [
      " 75%|██████████████████████████████████████████████████████████▋                   | 1503/1999 [01:18<00:25, 19.14it/s]"
     ]
    },
    {
     "name": "stdout",
     "output_type": "stream",
     "text": [
      "acceptance is 0.2608333333333333\n"
     ]
    },
    {
     "name": "stderr",
     "output_type": "stream",
     "text": [
      " 80%|██████████████████████████████████████████████████████████████▌               | 1602/1999 [01:23<00:20, 19.58it/s]"
     ]
    },
    {
     "name": "stdout",
     "output_type": "stream",
     "text": [
      "acceptance is 0.25796875\n"
     ]
    },
    {
     "name": "stderr",
     "output_type": "stream",
     "text": [
      " 85%|██████████████████████████████████████████████████████████████████▍           | 1703/1999 [01:28<00:15, 18.73it/s]"
     ]
    },
    {
     "name": "stdout",
     "output_type": "stream",
     "text": [
      "acceptance is 0.25632352941176473\n"
     ]
    },
    {
     "name": "stderr",
     "output_type": "stream",
     "text": [
      " 90%|██████████████████████████████████████████████████████████████████████▎       | 1803/1999 [01:33<00:09, 19.76it/s]"
     ]
    },
    {
     "name": "stdout",
     "output_type": "stream",
     "text": [
      "acceptance is 0.25416666666666665\n"
     ]
    },
    {
     "name": "stderr",
     "output_type": "stream",
     "text": [
      " 95%|██████████████████████████████████████████████████████████████████████████▏   | 1902/1999 [01:38<00:04, 19.72it/s]"
     ]
    },
    {
     "name": "stdout",
     "output_type": "stream",
     "text": [
      "acceptance is 0.2538157894736842\n"
     ]
    },
    {
     "name": "stderr",
     "output_type": "stream",
     "text": [
      "100%|██████████████████████████████████████████████████████████████████████████████| 1999/1999 [01:44<00:00, 19.21it/s]\n",
      "  0%|                                                                                 | 3/1999 [00:00<01:37, 20.46it/s]"
     ]
    },
    {
     "name": "stdout",
     "output_type": "stream",
     "text": [
      "inference valid = True\n",
      "R:_ [[1.05924143 1.05243059 1.04609572]\n",
      " [1.01941589 1.02973989 1.04153333]\n",
      " [1.04517481 1.00994545 1.00227326]\n",
      " [0.99946479 1.01229439 1.01367968]\n",
      " [1.04253839 1.01101005 1.01791896]\n",
      " [1.00284257 1.01188276 1.09339171]\n",
      " [1.00616865 1.01472302 1.01060161]\n",
      " [1.06105961 1.10203107 1.01743635]\n",
      " [1.01784425 1.06029134 1.11141613]\n",
      " [1.19999161 1.18672909 1.25385294]\n",
      " [1.00093873 1.00646555 1.0598435 ]\n",
      " [1.01449887 1.06819679 1.00827713]\n",
      " [1.06606728 1.03907796 1.01945687]\n",
      " [1.00387509 1.00971746 1.03174454]\n",
      " [0.         0.         0.        ]\n",
      " [0.         0.         0.        ]\n",
      " [0.         0.         0.        ]\n",
      " [0.         0.         0.        ]\n",
      " [0.         0.         0.        ]\n",
      " [0.         0.         0.        ]\n",
      " [0.         0.         0.        ]\n",
      " [0.         0.         0.        ]\n",
      " [0.         0.         0.        ]\n",
      " [0.         0.         0.        ]]\n",
      "LKD:_ [[-101.8155994 ]\n",
      " [ -77.52729187]\n",
      " [ -64.64185619]\n",
      " [ -52.56048827]\n",
      " [ -87.45633935]\n",
      " [ -90.86503266]\n",
      " [ -64.44590771]\n",
      " [ -53.66081518]\n",
      " [ -78.62174451]\n",
      " [ -53.18399335]\n",
      " [ -56.85331537]\n",
      " [ -52.74767412]\n",
      " [ -48.78058026]\n",
      " [ -51.01573041]\n",
      " [   0.        ]\n",
      " [   0.        ]\n",
      " [   0.        ]\n",
      " [   0.        ]\n",
      " [   0.        ]\n",
      " [   0.        ]\n",
      " [   0.        ]\n",
      " [   0.        ]\n",
      " [   0.        ]\n",
      " [   0.        ]]\n",
      "Inference val:  [1. 1. 1. 1. 1. 1. 1. 0. 0. 0. 1. 1. 1. 1. 0. 0. 0. 0. 0. 0. 0. 0. 0. 0.]\n",
      "ft_weber:  [[0.29674997 0.847995   1.34680382]\n",
      " [0.0216075  0.83623068 0.64137801]\n",
      " [0.02355098 0.35991206 0.90858138]\n",
      " [0.02413207 0.04549513 0.36861996]\n",
      " [0.17247097 0.65107947 1.18086524]\n",
      " [0.09806743 0.75146068 1.12765364]\n",
      " [0.03816766 0.19858807 0.53333619]\n",
      " [0.0127496  0.20429866 0.35086083]\n",
      " [0.12881633 0.22309217 1.1678836 ]\n",
      " [0.02484716 0.08669565 0.36534097]\n",
      " [0.02138465 0.37793117 0.57443987]\n",
      " [0.02500975 0.21959731 0.40179204]\n",
      " [0.02024132 0.08870965 0.45768789]\n",
      " [0.02245072 0.30721146 0.41526197]\n",
      " [0.         0.         0.        ]\n",
      " [0.         0.         0.        ]\n",
      " [0.         0.         0.        ]\n",
      " [0.         0.         0.        ]\n",
      " [0.         0.         0.        ]\n",
      " [0.         0.         0.        ]\n",
      " [0.         0.         0.        ]\n",
      " [0.         0.         0.        ]\n",
      " [0.         0.         0.        ]\n",
      " [0.         0.         0.        ]]\n"
     ]
    },
    {
     "name": "stderr",
     "output_type": "stream",
     "text": [
      " 50%|███████████████████████████████████████                                       | 1002/1999 [00:52<00:52, 18.87it/s]"
     ]
    },
    {
     "name": "stdout",
     "output_type": "stream",
     "text": [
      "Adaptive MCMC starting...\n"
     ]
    },
    {
     "name": "stderr",
     "output_type": "stream",
     "text": [
      " 55%|██████████████████████████████████████████▉                                   | 1102/1999 [00:57<00:46, 19.22it/s]"
     ]
    },
    {
     "name": "stdout",
     "output_type": "stream",
     "text": [
      "acceptance is 0.2868181818181818\n"
     ]
    },
    {
     "name": "stderr",
     "output_type": "stream",
     "text": [
      " 60%|██████████████████████████████████████████████▉                               | 1202/1999 [01:02<00:41, 19.29it/s]"
     ]
    },
    {
     "name": "stdout",
     "output_type": "stream",
     "text": [
      "acceptance is 0.2814583333333333\n"
     ]
    },
    {
     "name": "stderr",
     "output_type": "stream",
     "text": [
      " 65%|██████████████████████████████████████████████████▊                           | 1302/1999 [01:07<00:36, 19.09it/s]"
     ]
    },
    {
     "name": "stdout",
     "output_type": "stream",
     "text": [
      "acceptance is 0.2771153846153846\n"
     ]
    },
    {
     "name": "stderr",
     "output_type": "stream",
     "text": [
      " 70%|██████████████████████████████████████████████████████▋                       | 1402/1999 [01:13<00:31, 19.00it/s]"
     ]
    },
    {
     "name": "stdout",
     "output_type": "stream",
     "text": [
      "acceptance is 0.27482142857142855\n"
     ]
    },
    {
     "name": "stderr",
     "output_type": "stream",
     "text": [
      " 75%|██████████████████████████████████████████████████████████▌                   | 1502/1999 [01:18<00:26, 19.10it/s]"
     ]
    },
    {
     "name": "stdout",
     "output_type": "stream",
     "text": [
      "acceptance is 0.27\n"
     ]
    },
    {
     "name": "stderr",
     "output_type": "stream",
     "text": [
      " 80%|██████████████████████████████████████████████████████████████▌               | 1603/1999 [01:23<00:21, 18.84it/s]"
     ]
    },
    {
     "name": "stdout",
     "output_type": "stream",
     "text": [
      "acceptance is 0.26625\n"
     ]
    },
    {
     "name": "stderr",
     "output_type": "stream",
     "text": [
      " 85%|██████████████████████████████████████████████████████████████████▍           | 1702/1999 [01:28<00:15, 19.19it/s]"
     ]
    },
    {
     "name": "stdout",
     "output_type": "stream",
     "text": [
      "acceptance is 0.2638235294117647\n"
     ]
    },
    {
     "name": "stderr",
     "output_type": "stream",
     "text": [
      " 90%|██████████████████████████████████████████████████████████████████████▎       | 1802/1999 [01:34<00:10, 19.23it/s]"
     ]
    },
    {
     "name": "stdout",
     "output_type": "stream",
     "text": [
      "acceptance is 0.26430555555555557\n"
     ]
    },
    {
     "name": "stderr",
     "output_type": "stream",
     "text": [
      " 95%|██████████████████████████████████████████████████████████████████████████▎   | 1903/1999 [01:39<00:05, 19.01it/s]"
     ]
    },
    {
     "name": "stdout",
     "output_type": "stream",
     "text": [
      "acceptance is 0.2640789473684211\n"
     ]
    },
    {
     "name": "stderr",
     "output_type": "stream",
     "text": [
      "100%|██████████████████████████████████████████████████████████████████████████████| 1999/1999 [01:44<00:00, 19.13it/s]\n",
      "  0%|                                                                                 | 2/1999 [00:00<01:40, 19.78it/s]"
     ]
    },
    {
     "name": "stdout",
     "output_type": "stream",
     "text": [
      "inference valid = True\n",
      "R:_ [[1.05924143 1.05243059 1.04609572]\n",
      " [1.01941589 1.02973989 1.04153333]\n",
      " [1.04517481 1.00994545 1.00227326]\n",
      " [0.99946479 1.01229439 1.01367968]\n",
      " [1.04253839 1.01101005 1.01791896]\n",
      " [1.00284257 1.01188276 1.09339171]\n",
      " [1.00616865 1.01472302 1.01060161]\n",
      " [1.06105961 1.10203107 1.01743635]\n",
      " [1.01784425 1.06029134 1.11141613]\n",
      " [1.19999161 1.18672909 1.25385294]\n",
      " [1.00093873 1.00646555 1.0598435 ]\n",
      " [1.01449887 1.06819679 1.00827713]\n",
      " [1.06606728 1.03907796 1.01945687]\n",
      " [1.00387509 1.00971746 1.03174454]\n",
      " [1.00208128 1.00396343 1.00237886]\n",
      " [0.         0.         0.        ]\n",
      " [0.         0.         0.        ]\n",
      " [0.         0.         0.        ]\n",
      " [0.         0.         0.        ]\n",
      " [0.         0.         0.        ]\n",
      " [0.         0.         0.        ]\n",
      " [0.         0.         0.        ]\n",
      " [0.         0.         0.        ]\n",
      " [0.         0.         0.        ]]\n",
      "LKD:_ [[-101.8155994 ]\n",
      " [ -77.52729187]\n",
      " [ -64.64185619]\n",
      " [ -52.56048827]\n",
      " [ -87.45633935]\n",
      " [ -90.86503266]\n",
      " [ -64.44590771]\n",
      " [ -53.66081518]\n",
      " [ -78.62174451]\n",
      " [ -53.18399335]\n",
      " [ -56.85331537]\n",
      " [ -52.74767412]\n",
      " [ -48.78058026]\n",
      " [ -51.01573041]\n",
      " [ -36.11543481]\n",
      " [   0.        ]\n",
      " [   0.        ]\n",
      " [   0.        ]\n",
      " [   0.        ]\n",
      " [   0.        ]\n",
      " [   0.        ]\n",
      " [   0.        ]\n",
      " [   0.        ]\n",
      " [   0.        ]]\n",
      "Inference val:  [1. 1. 1. 1. 1. 1. 1. 0. 0. 0. 1. 1. 1. 1. 1. 0. 0. 0. 0. 0. 0. 0. 0. 0.]\n",
      "ft_weber:  [[0.29674997 0.847995   1.34680382]\n",
      " [0.0216075  0.83623068 0.64137801]\n",
      " [0.02355098 0.35991206 0.90858138]\n",
      " [0.02413207 0.04549513 0.36861996]\n",
      " [0.17247097 0.65107947 1.18086524]\n",
      " [0.09806743 0.75146068 1.12765364]\n",
      " [0.03816766 0.19858807 0.53333619]\n",
      " [0.0127496  0.20429866 0.35086083]\n",
      " [0.12881633 0.22309217 1.1678836 ]\n",
      " [0.02484716 0.08669565 0.36534097]\n",
      " [0.02138465 0.37793117 0.57443987]\n",
      " [0.02500975 0.21959731 0.40179204]\n",
      " [0.02024132 0.08870965 0.45768789]\n",
      " [0.02245072 0.30721146 0.41526197]\n",
      " [0.03596196 0.06828143 0.38478004]\n",
      " [0.         0.         0.        ]\n",
      " [0.         0.         0.        ]\n",
      " [0.         0.         0.        ]\n",
      " [0.         0.         0.        ]\n",
      " [0.         0.         0.        ]\n",
      " [0.         0.         0.        ]\n",
      " [0.         0.         0.        ]\n",
      " [0.         0.         0.        ]\n",
      " [0.         0.         0.        ]]\n"
     ]
    },
    {
     "name": "stderr",
     "output_type": "stream",
     "text": [
      " 50%|███████████████████████████████████████                                       | 1001/1999 [00:51<00:53, 18.61it/s]"
     ]
    },
    {
     "name": "stdout",
     "output_type": "stream",
     "text": [
      "Adaptive MCMC starting...\n"
     ]
    },
    {
     "name": "stderr",
     "output_type": "stream",
     "text": [
      " 55%|███████████████████████████████████████████                                   | 1103/1999 [00:57<00:47, 18.97it/s]"
     ]
    },
    {
     "name": "stdout",
     "output_type": "stream",
     "text": [
      "acceptance is 0.25181818181818183\n"
     ]
    },
    {
     "name": "stderr",
     "output_type": "stream",
     "text": [
      " 60%|██████████████████████████████████████████████▉                               | 1203/1999 [01:02<00:42, 18.83it/s]"
     ]
    },
    {
     "name": "stdout",
     "output_type": "stream",
     "text": [
      "acceptance is 0.24916666666666668\n"
     ]
    },
    {
     "name": "stderr",
     "output_type": "stream",
     "text": [
      " 65%|██████████████████████████████████████████████████▊                           | 1302/1999 [01:07<00:36, 19.34it/s]"
     ]
    },
    {
     "name": "stdout",
     "output_type": "stream",
     "text": [
      "acceptance is 0.24769230769230768\n"
     ]
    },
    {
     "name": "stderr",
     "output_type": "stream",
     "text": [
      " 70%|██████████████████████████████████████████████████████▋                       | 1403/1999 [01:13<00:32, 18.48it/s]"
     ]
    },
    {
     "name": "stdout",
     "output_type": "stream",
     "text": [
      "acceptance is 0.24642857142857144\n"
     ]
    },
    {
     "name": "stderr",
     "output_type": "stream",
     "text": [
      " 75%|██████████████████████████████████████████████████████████▌                   | 1502/1999 [01:18<00:26, 18.90it/s]"
     ]
    },
    {
     "name": "stdout",
     "output_type": "stream",
     "text": [
      "acceptance is 0.24433333333333335\n"
     ]
    },
    {
     "name": "stderr",
     "output_type": "stream",
     "text": [
      " 80%|██████████████████████████████████████████████████████████████▌               | 1602/1999 [01:23<00:21, 18.77it/s]"
     ]
    },
    {
     "name": "stdout",
     "output_type": "stream",
     "text": [
      "acceptance is 0.24296875\n"
     ]
    },
    {
     "name": "stderr",
     "output_type": "stream",
     "text": [
      " 85%|██████████████████████████████████████████████████████████████████▍           | 1702/1999 [01:28<00:15, 18.87it/s]"
     ]
    },
    {
     "name": "stdout",
     "output_type": "stream",
     "text": [
      "acceptance is 0.2401470588235294\n"
     ]
    },
    {
     "name": "stderr",
     "output_type": "stream",
     "text": [
      " 90%|██████████████████████████████████████████████████████████████████████▎       | 1802/1999 [01:34<00:09, 19.97it/s]"
     ]
    },
    {
     "name": "stdout",
     "output_type": "stream",
     "text": [
      "acceptance is 0.2411111111111111\n"
     ]
    },
    {
     "name": "stderr",
     "output_type": "stream",
     "text": [
      " 95%|██████████████████████████████████████████████████████████████████████████▎   | 1903/1999 [01:39<00:05, 19.06it/s]"
     ]
    },
    {
     "name": "stdout",
     "output_type": "stream",
     "text": [
      "acceptance is 0.23868421052631578\n"
     ]
    },
    {
     "name": "stderr",
     "output_type": "stream",
     "text": [
      "100%|██████████████████████████████████████████████████████████████████████████████| 1999/1999 [01:44<00:00, 19.14it/s]\n",
      "  0%|                                                                                 | 2/1999 [00:00<01:39, 19.98it/s]"
     ]
    },
    {
     "name": "stdout",
     "output_type": "stream",
     "text": [
      "inference valid = True\n",
      "R:_ [[1.05924143 1.05243059 1.04609572]\n",
      " [1.01941589 1.02973989 1.04153333]\n",
      " [1.04517481 1.00994545 1.00227326]\n",
      " [0.99946479 1.01229439 1.01367968]\n",
      " [1.04253839 1.01101005 1.01791896]\n",
      " [1.00284257 1.01188276 1.09339171]\n",
      " [1.00616865 1.01472302 1.01060161]\n",
      " [1.06105961 1.10203107 1.01743635]\n",
      " [1.01784425 1.06029134 1.11141613]\n",
      " [1.19999161 1.18672909 1.25385294]\n",
      " [1.00093873 1.00646555 1.0598435 ]\n",
      " [1.01449887 1.06819679 1.00827713]\n",
      " [1.06606728 1.03907796 1.01945687]\n",
      " [1.00387509 1.00971746 1.03174454]\n",
      " [1.00208128 1.00396343 1.00237886]\n",
      " [1.00499103 1.01506104 1.01630673]\n",
      " [0.         0.         0.        ]\n",
      " [0.         0.         0.        ]\n",
      " [0.         0.         0.        ]\n",
      " [0.         0.         0.        ]\n",
      " [0.         0.         0.        ]\n",
      " [0.         0.         0.        ]\n",
      " [0.         0.         0.        ]\n",
      " [0.         0.         0.        ]]\n",
      "LKD:_ [[-101.8155994 ]\n",
      " [ -77.52729187]\n",
      " [ -64.64185619]\n",
      " [ -52.56048827]\n",
      " [ -87.45633935]\n",
      " [ -90.86503266]\n",
      " [ -64.44590771]\n",
      " [ -53.66081518]\n",
      " [ -78.62174451]\n",
      " [ -53.18399335]\n",
      " [ -56.85331537]\n",
      " [ -52.74767412]\n",
      " [ -48.78058026]\n",
      " [ -51.01573041]\n",
      " [ -36.11543481]\n",
      " [ -16.4425902 ]\n",
      " [   0.        ]\n",
      " [   0.        ]\n",
      " [   0.        ]\n",
      " [   0.        ]\n",
      " [   0.        ]\n",
      " [   0.        ]\n",
      " [   0.        ]\n",
      " [   0.        ]]\n",
      "Inference val:  [1. 1. 1. 1. 1. 1. 1. 0. 0. 0. 1. 1. 1. 1. 1. 1. 0. 0. 0. 0. 0. 0. 0. 0.]\n",
      "ft_weber:  [[0.29674997 0.847995   1.34680382]\n",
      " [0.0216075  0.83623068 0.64137801]\n",
      " [0.02355098 0.35991206 0.90858138]\n",
      " [0.02413207 0.04549513 0.36861996]\n",
      " [0.17247097 0.65107947 1.18086524]\n",
      " [0.09806743 0.75146068 1.12765364]\n",
      " [0.03816766 0.19858807 0.53333619]\n",
      " [0.0127496  0.20429866 0.35086083]\n",
      " [0.12881633 0.22309217 1.1678836 ]\n",
      " [0.02484716 0.08669565 0.36534097]\n",
      " [0.02138465 0.37793117 0.57443987]\n",
      " [0.02500975 0.21959731 0.40179204]\n",
      " [0.02024132 0.08870965 0.45768789]\n",
      " [0.02245072 0.30721146 0.41526197]\n",
      " [0.03596196 0.06828143 0.38478004]\n",
      " [0.01434217 0.04148767 0.24368779]\n",
      " [0.         0.         0.        ]\n",
      " [0.         0.         0.        ]\n",
      " [0.         0.         0.        ]\n",
      " [0.         0.         0.        ]\n",
      " [0.         0.         0.        ]\n",
      " [0.         0.         0.        ]\n",
      " [0.         0.         0.        ]\n",
      " [0.         0.         0.        ]]\n"
     ]
    },
    {
     "name": "stderr",
     "output_type": "stream",
     "text": [
      " 50%|███████████████████████████████████████▏                                      | 1003/1999 [00:51<00:53, 18.48it/s]"
     ]
    },
    {
     "name": "stdout",
     "output_type": "stream",
     "text": [
      "Adaptive MCMC starting...\n"
     ]
    },
    {
     "name": "stderr",
     "output_type": "stream",
     "text": [
      " 55%|███████████████████████████████████████████                                   | 1103/1999 [00:56<00:46, 19.36it/s]"
     ]
    },
    {
     "name": "stdout",
     "output_type": "stream",
     "text": [
      "acceptance is 0.195\n"
     ]
    },
    {
     "name": "stderr",
     "output_type": "stream",
     "text": [
      " 60%|██████████████████████████████████████████████▉                               | 1203/1999 [01:02<00:41, 19.22it/s]"
     ]
    },
    {
     "name": "stdout",
     "output_type": "stream",
     "text": [
      "acceptance is 0.1975\n"
     ]
    },
    {
     "name": "stderr",
     "output_type": "stream",
     "text": [
      " 65%|██████████████████████████████████████████████████▊                           | 1302/1999 [01:07<00:36, 19.30it/s]"
     ]
    },
    {
     "name": "stdout",
     "output_type": "stream",
     "text": [
      "acceptance is 0.2\n"
     ]
    },
    {
     "name": "stderr",
     "output_type": "stream",
     "text": [
      " 70%|██████████████████████████████████████████████████████▋                       | 1402/1999 [01:12<00:30, 19.27it/s]"
     ]
    },
    {
     "name": "stdout",
     "output_type": "stream",
     "text": [
      "acceptance is 0.19964285714285715\n"
     ]
    },
    {
     "name": "stderr",
     "output_type": "stream",
     "text": [
      " 75%|██████████████████████████████████████████████████████████▋                   | 1503/1999 [01:17<00:26, 19.01it/s]"
     ]
    },
    {
     "name": "stdout",
     "output_type": "stream",
     "text": [
      "acceptance is 0.20433333333333334\n"
     ]
    },
    {
     "name": "stderr",
     "output_type": "stream",
     "text": [
      " 80%|██████████████████████████████████████████████████████████████▌               | 1602/1999 [01:22<00:20, 19.31it/s]"
     ]
    },
    {
     "name": "stdout",
     "output_type": "stream",
     "text": [
      "acceptance is 0.20390625\n"
     ]
    },
    {
     "name": "stderr",
     "output_type": "stream",
     "text": [
      " 85%|██████████████████████████████████████████████████████████████████▍           | 1703/1999 [01:28<00:15, 18.96it/s]"
     ]
    },
    {
     "name": "stdout",
     "output_type": "stream",
     "text": [
      "acceptance is 0.20720588235294118\n"
     ]
    },
    {
     "name": "stderr",
     "output_type": "stream",
     "text": [
      " 90%|██████████████████████████████████████████████████████████████████████▎       | 1803/1999 [01:33<00:10, 18.96it/s]"
     ]
    },
    {
     "name": "stdout",
     "output_type": "stream",
     "text": [
      "acceptance is 0.20847222222222223\n"
     ]
    },
    {
     "name": "stderr",
     "output_type": "stream",
     "text": [
      " 95%|██████████████████████████████████████████████████████████████████████████▏   | 1902/1999 [01:38<00:04, 19.40it/s]"
     ]
    },
    {
     "name": "stdout",
     "output_type": "stream",
     "text": [
      "acceptance is 0.2073684210526316\n"
     ]
    },
    {
     "name": "stderr",
     "output_type": "stream",
     "text": [
      "100%|██████████████████████████████████████████████████████████████████████████████| 1999/1999 [01:43<00:00, 19.31it/s]\n",
      "  0%|                                                                                 | 2/1999 [00:00<01:43, 19.34it/s]"
     ]
    },
    {
     "name": "stdout",
     "output_type": "stream",
     "text": [
      "inference valid = True\n",
      "R:_ [[1.05924143 1.05243059 1.04609572]\n",
      " [1.01941589 1.02973989 1.04153333]\n",
      " [1.04517481 1.00994545 1.00227326]\n",
      " [0.99946479 1.01229439 1.01367968]\n",
      " [1.04253839 1.01101005 1.01791896]\n",
      " [1.00284257 1.01188276 1.09339171]\n",
      " [1.00616865 1.01472302 1.01060161]\n",
      " [1.06105961 1.10203107 1.01743635]\n",
      " [1.01784425 1.06029134 1.11141613]\n",
      " [1.19999161 1.18672909 1.25385294]\n",
      " [1.00093873 1.00646555 1.0598435 ]\n",
      " [1.01449887 1.06819679 1.00827713]\n",
      " [1.06606728 1.03907796 1.01945687]\n",
      " [1.00387509 1.00971746 1.03174454]\n",
      " [1.00208128 1.00396343 1.00237886]\n",
      " [1.00499103 1.01506104 1.01630673]\n",
      " [1.04991675 1.05221862 1.0689307 ]\n",
      " [0.         0.         0.        ]\n",
      " [0.         0.         0.        ]\n",
      " [0.         0.         0.        ]\n",
      " [0.         0.         0.        ]\n",
      " [0.         0.         0.        ]\n",
      " [0.         0.         0.        ]\n",
      " [0.         0.         0.        ]]\n",
      "LKD:_ [[-101.8155994 ]\n",
      " [ -77.52729187]\n",
      " [ -64.64185619]\n",
      " [ -52.56048827]\n",
      " [ -87.45633935]\n",
      " [ -90.86503266]\n",
      " [ -64.44590771]\n",
      " [ -53.66081518]\n",
      " [ -78.62174451]\n",
      " [ -53.18399335]\n",
      " [ -56.85331537]\n",
      " [ -52.74767412]\n",
      " [ -48.78058026]\n",
      " [ -51.01573041]\n",
      " [ -36.11543481]\n",
      " [ -16.4425902 ]\n",
      " [ -43.7622879 ]\n",
      " [   0.        ]\n",
      " [   0.        ]\n",
      " [   0.        ]\n",
      " [   0.        ]\n",
      " [   0.        ]\n",
      " [   0.        ]\n",
      " [   0.        ]]\n",
      "Inference val:  [1. 1. 1. 1. 1. 1. 1. 0. 0. 0. 1. 1. 1. 1. 1. 1. 1. 0. 0. 0. 0. 0. 0. 0.]\n",
      "ft_weber:  [[0.29674997 0.847995   1.34680382]\n",
      " [0.0216075  0.83623068 0.64137801]\n",
      " [0.02355098 0.35991206 0.90858138]\n",
      " [0.02413207 0.04549513 0.36861996]\n",
      " [0.17247097 0.65107947 1.18086524]\n",
      " [0.09806743 0.75146068 1.12765364]\n",
      " [0.03816766 0.19858807 0.53333619]\n",
      " [0.0127496  0.20429866 0.35086083]\n",
      " [0.12881633 0.22309217 1.1678836 ]\n",
      " [0.02484716 0.08669565 0.36534097]\n",
      " [0.02138465 0.37793117 0.57443987]\n",
      " [0.02500975 0.21959731 0.40179204]\n",
      " [0.02024132 0.08870965 0.45768789]\n",
      " [0.02245072 0.30721146 0.41526197]\n",
      " [0.03596196 0.06828143 0.38478004]\n",
      " [0.01434217 0.04148767 0.24368779]\n",
      " [0.01046449 0.24623775 0.26090038]\n",
      " [0.         0.         0.        ]\n",
      " [0.         0.         0.        ]\n",
      " [0.         0.         0.        ]\n",
      " [0.         0.         0.        ]\n",
      " [0.         0.         0.        ]\n",
      " [0.         0.         0.        ]\n",
      " [0.         0.         0.        ]]\n"
     ]
    },
    {
     "name": "stderr",
     "output_type": "stream",
     "text": [
      " 50%|███████████████████████████████████████                                       | 1002/1999 [00:51<00:52, 18.88it/s]"
     ]
    },
    {
     "name": "stdout",
     "output_type": "stream",
     "text": [
      "Adaptive MCMC starting...\n"
     ]
    },
    {
     "name": "stderr",
     "output_type": "stream",
     "text": [
      " 55%|██████████████████████████████████████████▉                                   | 1102/1999 [00:56<00:46, 19.20it/s]"
     ]
    },
    {
     "name": "stdout",
     "output_type": "stream",
     "text": [
      "acceptance is 0.23477272727272727\n"
     ]
    },
    {
     "name": "stderr",
     "output_type": "stream",
     "text": [
      " 60%|██████████████████████████████████████████████▉                               | 1202/1999 [01:01<00:40, 19.70it/s]"
     ]
    },
    {
     "name": "stdout",
     "output_type": "stream",
     "text": [
      "acceptance is 0.23145833333333332\n"
     ]
    },
    {
     "name": "stderr",
     "output_type": "stream",
     "text": [
      " 65%|██████████████████████████████████████████████████▊                           | 1302/1999 [01:06<00:35, 19.56it/s]"
     ]
    },
    {
     "name": "stdout",
     "output_type": "stream",
     "text": [
      "acceptance is 0.2301923076923077\n"
     ]
    },
    {
     "name": "stderr",
     "output_type": "stream",
     "text": [
      " 70%|██████████████████████████████████████████████████████▋                       | 1402/1999 [01:12<00:30, 19.64it/s]"
     ]
    },
    {
     "name": "stdout",
     "output_type": "stream",
     "text": [
      "acceptance is 0.22964285714285715\n"
     ]
    },
    {
     "name": "stderr",
     "output_type": "stream",
     "text": [
      " 75%|██████████████████████████████████████████████████████████▌                   | 1502/1999 [01:17<00:25, 19.20it/s]"
     ]
    },
    {
     "name": "stdout",
     "output_type": "stream",
     "text": [
      "acceptance is 0.23166666666666666\n"
     ]
    },
    {
     "name": "stderr",
     "output_type": "stream",
     "text": [
      " 80%|██████████████████████████████████████████████████████████████▌               | 1602/1999 [01:22<00:20, 19.28it/s]"
     ]
    },
    {
     "name": "stdout",
     "output_type": "stream",
     "text": [
      "acceptance is 0.230625\n"
     ]
    },
    {
     "name": "stderr",
     "output_type": "stream",
     "text": [
      " 85%|██████████████████████████████████████████████████████████████████▍           | 1702/1999 [01:27<00:15, 19.29it/s]"
     ]
    },
    {
     "name": "stdout",
     "output_type": "stream",
     "text": [
      "acceptance is 0.23029411764705882\n"
     ]
    },
    {
     "name": "stderr",
     "output_type": "stream",
     "text": [
      " 90%|██████████████████████████████████████████████████████████████████████▎       | 1803/1999 [01:32<00:10, 19.35it/s]"
     ]
    },
    {
     "name": "stdout",
     "output_type": "stream",
     "text": [
      "acceptance is 0.22972222222222222\n"
     ]
    },
    {
     "name": "stderr",
     "output_type": "stream",
     "text": [
      " 95%|██████████████████████████████████████████████████████████████████████████▎   | 1903/1999 [01:38<00:05, 19.04it/s]"
     ]
    },
    {
     "name": "stdout",
     "output_type": "stream",
     "text": [
      "acceptance is 0.23236842105263159\n"
     ]
    },
    {
     "name": "stderr",
     "output_type": "stream",
     "text": [
      "100%|██████████████████████████████████████████████████████████████████████████████| 1999/1999 [01:43<00:00, 19.40it/s]\n",
      "  0%|                                                                                         | 0/1999 [00:00<?, ?it/s]"
     ]
    },
    {
     "name": "stdout",
     "output_type": "stream",
     "text": [
      "inference valid = True\n",
      "R:_ [[1.05924143 1.05243059 1.04609572]\n",
      " [1.01941589 1.02973989 1.04153333]\n",
      " [1.04517481 1.00994545 1.00227326]\n",
      " [0.99946479 1.01229439 1.01367968]\n",
      " [1.04253839 1.01101005 1.01791896]\n",
      " [1.00284257 1.01188276 1.09339171]\n",
      " [1.00616865 1.01472302 1.01060161]\n",
      " [1.06105961 1.10203107 1.01743635]\n",
      " [1.01784425 1.06029134 1.11141613]\n",
      " [1.19999161 1.18672909 1.25385294]\n",
      " [1.00093873 1.00646555 1.0598435 ]\n",
      " [1.01449887 1.06819679 1.00827713]\n",
      " [1.06606728 1.03907796 1.01945687]\n",
      " [1.00387509 1.00971746 1.03174454]\n",
      " [1.00208128 1.00396343 1.00237886]\n",
      " [1.00499103 1.01506104 1.01630673]\n",
      " [1.04991675 1.05221862 1.0689307 ]\n",
      " [1.03221871 1.02769088 1.01690844]\n",
      " [0.         0.         0.        ]\n",
      " [0.         0.         0.        ]\n",
      " [0.         0.         0.        ]\n",
      " [0.         0.         0.        ]\n",
      " [0.         0.         0.        ]\n",
      " [0.         0.         0.        ]]\n",
      "LKD:_ [[-101.8155994 ]\n",
      " [ -77.52729187]\n",
      " [ -64.64185619]\n",
      " [ -52.56048827]\n",
      " [ -87.45633935]\n",
      " [ -90.86503266]\n",
      " [ -64.44590771]\n",
      " [ -53.66081518]\n",
      " [ -78.62174451]\n",
      " [ -53.18399335]\n",
      " [ -56.85331537]\n",
      " [ -52.74767412]\n",
      " [ -48.78058026]\n",
      " [ -51.01573041]\n",
      " [ -36.11543481]\n",
      " [ -16.4425902 ]\n",
      " [ -43.7622879 ]\n",
      " [ -64.04380233]\n",
      " [   0.        ]\n",
      " [   0.        ]\n",
      " [   0.        ]\n",
      " [   0.        ]\n",
      " [   0.        ]\n",
      " [   0.        ]]\n",
      "Inference val:  [1. 1. 1. 1. 1. 1. 1. 0. 0. 0. 1. 1. 1. 1. 1. 1. 1. 1. 0. 0. 0. 0. 0. 0.]\n",
      "ft_weber:  [[0.29674997 0.847995   1.34680382]\n",
      " [0.0216075  0.83623068 0.64137801]\n",
      " [0.02355098 0.35991206 0.90858138]\n",
      " [0.02413207 0.04549513 0.36861996]\n",
      " [0.17247097 0.65107947 1.18086524]\n",
      " [0.09806743 0.75146068 1.12765364]\n",
      " [0.03816766 0.19858807 0.53333619]\n",
      " [0.0127496  0.20429866 0.35086083]\n",
      " [0.12881633 0.22309217 1.1678836 ]\n",
      " [0.02484716 0.08669565 0.36534097]\n",
      " [0.02138465 0.37793117 0.57443987]\n",
      " [0.02500975 0.21959731 0.40179204]\n",
      " [0.02024132 0.08870965 0.45768789]\n",
      " [0.02245072 0.30721146 0.41526197]\n",
      " [0.03596196 0.06828143 0.38478004]\n",
      " [0.01434217 0.04148767 0.24368779]\n",
      " [0.01046449 0.24623775 0.26090038]\n",
      " [0.01325618 0.38385619 0.313957  ]\n",
      " [0.         0.         0.        ]\n",
      " [0.         0.         0.        ]\n",
      " [0.         0.         0.        ]\n",
      " [0.         0.         0.        ]\n",
      " [0.         0.         0.        ]\n",
      " [0.         0.         0.        ]]\n"
     ]
    },
    {
     "name": "stderr",
     "output_type": "stream",
     "text": [
      " 50%|███████████████████████████████████████▏                                      | 1003/1999 [00:51<00:51, 19.53it/s]"
     ]
    },
    {
     "name": "stdout",
     "output_type": "stream",
     "text": [
      "Adaptive MCMC starting...\n"
     ]
    },
    {
     "name": "stderr",
     "output_type": "stream",
     "text": [
      " 55%|██████████████████████████████████████████▉                                   | 1102/1999 [00:57<00:46, 19.30it/s]"
     ]
    },
    {
     "name": "stdout",
     "output_type": "stream",
     "text": [
      "acceptance is 0.25181818181818183\n"
     ]
    },
    {
     "name": "stderr",
     "output_type": "stream",
     "text": [
      " 60%|██████████████████████████████████████████████▉                               | 1202/1999 [01:02<00:42, 18.96it/s]"
     ]
    },
    {
     "name": "stdout",
     "output_type": "stream",
     "text": [
      "acceptance is 0.24541666666666667\n"
     ]
    },
    {
     "name": "stderr",
     "output_type": "stream",
     "text": [
      " 65%|██████████████████████████████████████████████████▊                           | 1302/1999 [01:07<00:36, 19.27it/s]"
     ]
    },
    {
     "name": "stdout",
     "output_type": "stream",
     "text": [
      "acceptance is 0.2444230769230769\n"
     ]
    },
    {
     "name": "stderr",
     "output_type": "stream",
     "text": [
      " 70%|██████████████████████████████████████████████████████▋                       | 1402/1999 [01:12<00:31, 19.12it/s]"
     ]
    },
    {
     "name": "stdout",
     "output_type": "stream",
     "text": [
      "acceptance is 0.24285714285714285\n"
     ]
    },
    {
     "name": "stderr",
     "output_type": "stream",
     "text": [
      " 75%|██████████████████████████████████████████████████████████▌                   | 1502/1999 [01:17<00:25, 19.33it/s]"
     ]
    },
    {
     "name": "stdout",
     "output_type": "stream",
     "text": [
      "acceptance is 0.23733333333333334\n"
     ]
    },
    {
     "name": "stderr",
     "output_type": "stream",
     "text": [
      " 80%|██████████████████████████████████████████████████████████████▌               | 1602/1999 [01:23<00:20, 18.93it/s]"
     ]
    },
    {
     "name": "stdout",
     "output_type": "stream",
     "text": [
      "acceptance is 0.24015625\n"
     ]
    },
    {
     "name": "stderr",
     "output_type": "stream",
     "text": [
      " 85%|██████████████████████████████████████████████████████████████████▍           | 1702/1999 [01:28<00:15, 19.35it/s]"
     ]
    },
    {
     "name": "stdout",
     "output_type": "stream",
     "text": [
      "acceptance is 0.23926470588235293\n"
     ]
    },
    {
     "name": "stderr",
     "output_type": "stream",
     "text": [
      " 90%|██████████████████████████████████████████████████████████████████████▎       | 1802/1999 [01:33<00:10, 19.21it/s]"
     ]
    },
    {
     "name": "stdout",
     "output_type": "stream",
     "text": [
      "acceptance is 0.23555555555555555\n"
     ]
    },
    {
     "name": "stderr",
     "output_type": "stream",
     "text": [
      " 95%|██████████████████████████████████████████████████████████████████████████▎   | 1904/1999 [01:38<00:04, 19.40it/s]"
     ]
    },
    {
     "name": "stdout",
     "output_type": "stream",
     "text": [
      "acceptance is 0.23776315789473684\n"
     ]
    },
    {
     "name": "stderr",
     "output_type": "stream",
     "text": [
      "100%|██████████████████████████████████████████████████████████████████████████████| 1999/1999 [01:43<00:00, 19.28it/s]\n",
      "  0%|                                                                                         | 0/1999 [00:00<?, ?it/s]"
     ]
    },
    {
     "name": "stdout",
     "output_type": "stream",
     "text": [
      "inference valid = True\n",
      "R:_ [[1.05924143 1.05243059 1.04609572]\n",
      " [1.01941589 1.02973989 1.04153333]\n",
      " [1.04517481 1.00994545 1.00227326]\n",
      " [0.99946479 1.01229439 1.01367968]\n",
      " [1.04253839 1.01101005 1.01791896]\n",
      " [1.00284257 1.01188276 1.09339171]\n",
      " [1.00616865 1.01472302 1.01060161]\n",
      " [1.06105961 1.10203107 1.01743635]\n",
      " [1.01784425 1.06029134 1.11141613]\n",
      " [1.19999161 1.18672909 1.25385294]\n",
      " [1.00093873 1.00646555 1.0598435 ]\n",
      " [1.01449887 1.06819679 1.00827713]\n",
      " [1.06606728 1.03907796 1.01945687]\n",
      " [1.00387509 1.00971746 1.03174454]\n",
      " [1.00208128 1.00396343 1.00237886]\n",
      " [1.00499103 1.01506104 1.01630673]\n",
      " [1.04991675 1.05221862 1.0689307 ]\n",
      " [1.03221871 1.02769088 1.01690844]\n",
      " [1.05065777 1.03030624 1.04580936]\n",
      " [0.         0.         0.        ]\n",
      " [0.         0.         0.        ]\n",
      " [0.         0.         0.        ]\n",
      " [0.         0.         0.        ]\n",
      " [0.         0.         0.        ]]\n",
      "LKD:_ [[-101.8155994 ]\n",
      " [ -77.52729187]\n",
      " [ -64.64185619]\n",
      " [ -52.56048827]\n",
      " [ -87.45633935]\n",
      " [ -90.86503266]\n",
      " [ -64.44590771]\n",
      " [ -53.66081518]\n",
      " [ -78.62174451]\n",
      " [ -53.18399335]\n",
      " [ -56.85331537]\n",
      " [ -52.74767412]\n",
      " [ -48.78058026]\n",
      " [ -51.01573041]\n",
      " [ -36.11543481]\n",
      " [ -16.4425902 ]\n",
      " [ -43.7622879 ]\n",
      " [ -64.04380233]\n",
      " [ -57.78623587]\n",
      " [   0.        ]\n",
      " [   0.        ]\n",
      " [   0.        ]\n",
      " [   0.        ]\n",
      " [   0.        ]]\n",
      "Inference val:  [1. 1. 1. 1. 1. 1. 1. 0. 0. 0. 1. 1. 1. 1. 1. 1. 1. 1. 1. 0. 0. 0. 0. 0.]\n",
      "ft_weber:  [[0.29674997 0.847995   1.34680382]\n",
      " [0.0216075  0.83623068 0.64137801]\n",
      " [0.02355098 0.35991206 0.90858138]\n",
      " [0.02413207 0.04549513 0.36861996]\n",
      " [0.17247097 0.65107947 1.18086524]\n",
      " [0.09806743 0.75146068 1.12765364]\n",
      " [0.03816766 0.19858807 0.53333619]\n",
      " [0.0127496  0.20429866 0.35086083]\n",
      " [0.12881633 0.22309217 1.1678836 ]\n",
      " [0.02484716 0.08669565 0.36534097]\n",
      " [0.02138465 0.37793117 0.57443987]\n",
      " [0.02500975 0.21959731 0.40179204]\n",
      " [0.02024132 0.08870965 0.45768789]\n",
      " [0.02245072 0.30721146 0.41526197]\n",
      " [0.03596196 0.06828143 0.38478004]\n",
      " [0.01434217 0.04148767 0.24368779]\n",
      " [0.01046449 0.24623775 0.26090038]\n",
      " [0.01325618 0.38385619 0.313957  ]\n",
      " [0.01520577 0.25171791 0.48324119]\n",
      " [0.         0.         0.        ]\n",
      " [0.         0.         0.        ]\n",
      " [0.         0.         0.        ]\n",
      " [0.         0.         0.        ]\n",
      " [0.         0.         0.        ]]\n"
     ]
    },
    {
     "name": "stderr",
     "output_type": "stream",
     "text": [
      " 50%|███████████████████████████████████████                                       | 1002/1999 [00:52<00:52, 19.02it/s]"
     ]
    },
    {
     "name": "stdout",
     "output_type": "stream",
     "text": [
      "Adaptive MCMC starting...\n"
     ]
    },
    {
     "name": "stderr",
     "output_type": "stream",
     "text": [
      " 55%|██████████████████████████████████████████▉                                   | 1102/1999 [00:57<00:47, 18.96it/s]"
     ]
    },
    {
     "name": "stdout",
     "output_type": "stream",
     "text": [
      "acceptance is 0.21\n"
     ]
    },
    {
     "name": "stderr",
     "output_type": "stream",
     "text": [
      " 60%|██████████████████████████████████████████████▉                               | 1203/1999 [01:02<00:41, 18.99it/s]"
     ]
    },
    {
     "name": "stdout",
     "output_type": "stream",
     "text": [
      "acceptance is 0.206875\n"
     ]
    },
    {
     "name": "stderr",
     "output_type": "stream",
     "text": [
      " 65%|██████████████████████████████████████████████████▊                           | 1303/1999 [01:08<00:36, 18.97it/s]"
     ]
    },
    {
     "name": "stdout",
     "output_type": "stream",
     "text": [
      "acceptance is 0.21134615384615385\n"
     ]
    },
    {
     "name": "stderr",
     "output_type": "stream",
     "text": [
      " 70%|██████████████████████████████████████████████████████▋                       | 1403/1999 [01:13<00:31, 18.91it/s]"
     ]
    },
    {
     "name": "stdout",
     "output_type": "stream",
     "text": [
      "acceptance is 0.2117857142857143\n"
     ]
    },
    {
     "name": "stderr",
     "output_type": "stream",
     "text": [
      " 75%|██████████████████████████████████████████████████████████▋                   | 1503/1999 [01:18<00:26, 18.99it/s]"
     ]
    },
    {
     "name": "stdout",
     "output_type": "stream",
     "text": [
      "acceptance is 0.20866666666666667\n"
     ]
    },
    {
     "name": "stderr",
     "output_type": "stream",
     "text": [
      " 80%|██████████████████████████████████████████████████████████████▌               | 1603/1999 [01:23<00:20, 18.97it/s]"
     ]
    },
    {
     "name": "stdout",
     "output_type": "stream",
     "text": [
      "acceptance is 0.211875\n"
     ]
    },
    {
     "name": "stderr",
     "output_type": "stream",
     "text": [
      " 85%|██████████████████████████████████████████████████████████████████▍           | 1702/1999 [01:29<00:15, 18.93it/s]"
     ]
    },
    {
     "name": "stdout",
     "output_type": "stream",
     "text": [
      "acceptance is 0.21338235294117647\n"
     ]
    },
    {
     "name": "stderr",
     "output_type": "stream",
     "text": [
      " 90%|██████████████████████████████████████████████████████████████████████▎       | 1802/1999 [01:34<00:10, 18.74it/s]"
     ]
    },
    {
     "name": "stdout",
     "output_type": "stream",
     "text": [
      "acceptance is 0.21347222222222223\n"
     ]
    },
    {
     "name": "stderr",
     "output_type": "stream",
     "text": [
      " 95%|██████████████████████████████████████████████████████████████████████████▏   | 1901/1999 [01:39<00:05, 18.50it/s]"
     ]
    },
    {
     "name": "stdout",
     "output_type": "stream",
     "text": [
      "acceptance is 0.21092105263157895\n"
     ]
    },
    {
     "name": "stderr",
     "output_type": "stream",
     "text": [
      "100%|██████████████████████████████████████████████████████████████████████████████| 1999/1999 [01:44<00:00, 19.06it/s]\n",
      "  0%|                                                                                 | 2/1999 [00:00<01:40, 19.96it/s]"
     ]
    },
    {
     "name": "stdout",
     "output_type": "stream",
     "text": [
      "inference valid = True\n",
      "R:_ [[1.05924143 1.05243059 1.04609572]\n",
      " [1.01941589 1.02973989 1.04153333]\n",
      " [1.04517481 1.00994545 1.00227326]\n",
      " [0.99946479 1.01229439 1.01367968]\n",
      " [1.04253839 1.01101005 1.01791896]\n",
      " [1.00284257 1.01188276 1.09339171]\n",
      " [1.00616865 1.01472302 1.01060161]\n",
      " [1.06105961 1.10203107 1.01743635]\n",
      " [1.01784425 1.06029134 1.11141613]\n",
      " [1.19999161 1.18672909 1.25385294]\n",
      " [1.00093873 1.00646555 1.0598435 ]\n",
      " [1.01449887 1.06819679 1.00827713]\n",
      " [1.06606728 1.03907796 1.01945687]\n",
      " [1.00387509 1.00971746 1.03174454]\n",
      " [1.00208128 1.00396343 1.00237886]\n",
      " [1.00499103 1.01506104 1.01630673]\n",
      " [1.04991675 1.05221862 1.0689307 ]\n",
      " [1.03221871 1.02769088 1.01690844]\n",
      " [1.05065777 1.03030624 1.04580936]\n",
      " [1.09036479 1.03523612 1.06787817]\n",
      " [0.         0.         0.        ]\n",
      " [0.         0.         0.        ]\n",
      " [0.         0.         0.        ]\n",
      " [0.         0.         0.        ]]\n",
      "LKD:_ [[-101.8155994 ]\n",
      " [ -77.52729187]\n",
      " [ -64.64185619]\n",
      " [ -52.56048827]\n",
      " [ -87.45633935]\n",
      " [ -90.86503266]\n",
      " [ -64.44590771]\n",
      " [ -53.66081518]\n",
      " [ -78.62174451]\n",
      " [ -53.18399335]\n",
      " [ -56.85331537]\n",
      " [ -52.74767412]\n",
      " [ -48.78058026]\n",
      " [ -51.01573041]\n",
      " [ -36.11543481]\n",
      " [ -16.4425902 ]\n",
      " [ -43.7622879 ]\n",
      " [ -64.04380233]\n",
      " [ -57.78623587]\n",
      " [ -38.68506271]\n",
      " [   0.        ]\n",
      " [   0.        ]\n",
      " [   0.        ]\n",
      " [   0.        ]]\n",
      "Inference val:  [1. 1. 1. 1. 1. 1. 1. 0. 0. 0. 1. 1. 1. 1. 1. 1. 1. 1. 1. 1. 0. 0. 0. 0.]\n",
      "ft_weber:  [[0.29674997 0.847995   1.34680382]\n",
      " [0.0216075  0.83623068 0.64137801]\n",
      " [0.02355098 0.35991206 0.90858138]\n",
      " [0.02413207 0.04549513 0.36861996]\n",
      " [0.17247097 0.65107947 1.18086524]\n",
      " [0.09806743 0.75146068 1.12765364]\n",
      " [0.03816766 0.19858807 0.53333619]\n",
      " [0.0127496  0.20429866 0.35086083]\n",
      " [0.12881633 0.22309217 1.1678836 ]\n",
      " [0.02484716 0.08669565 0.36534097]\n",
      " [0.02138465 0.37793117 0.57443987]\n",
      " [0.02500975 0.21959731 0.40179204]\n",
      " [0.02024132 0.08870965 0.45768789]\n",
      " [0.02245072 0.30721146 0.41526197]\n",
      " [0.03596196 0.06828143 0.38478004]\n",
      " [0.01434217 0.04148767 0.24368779]\n",
      " [0.01046449 0.24623775 0.26090038]\n",
      " [0.01325618 0.38385619 0.313957  ]\n",
      " [0.01520577 0.25171791 0.48324119]\n",
      " [0.00770598 0.09858969 0.46912419]\n",
      " [0.         0.         0.        ]\n",
      " [0.         0.         0.        ]\n",
      " [0.         0.         0.        ]\n",
      " [0.         0.         0.        ]]\n"
     ]
    },
    {
     "name": "stderr",
     "output_type": "stream",
     "text": [
      " 50%|███████████████████████████████████████                                       | 1002/1999 [00:53<00:52, 18.98it/s]"
     ]
    },
    {
     "name": "stdout",
     "output_type": "stream",
     "text": [
      "Adaptive MCMC starting...\n"
     ]
    },
    {
     "name": "stderr",
     "output_type": "stream",
     "text": [
      " 55%|██████████████████████████████████████████▉                                   | 1102/1999 [00:58<00:46, 19.42it/s]"
     ]
    },
    {
     "name": "stdout",
     "output_type": "stream",
     "text": [
      "acceptance is 0.27545454545454545\n"
     ]
    },
    {
     "name": "stderr",
     "output_type": "stream",
     "text": [
      " 60%|██████████████████████████████████████████████▉                               | 1203/1999 [01:03<00:43, 18.23it/s]"
     ]
    },
    {
     "name": "stdout",
     "output_type": "stream",
     "text": [
      "acceptance is 0.26875\n"
     ]
    },
    {
     "name": "stderr",
     "output_type": "stream",
     "text": [
      " 65%|██████████████████████████████████████████████████▊                           | 1302/1999 [01:08<00:36, 19.36it/s]"
     ]
    },
    {
     "name": "stdout",
     "output_type": "stream",
     "text": [
      "acceptance is 0.2673076923076923\n"
     ]
    },
    {
     "name": "stderr",
     "output_type": "stream",
     "text": [
      " 70%|██████████████████████████████████████████████████████▋                       | 1402/1999 [01:13<00:31, 19.09it/s]"
     ]
    },
    {
     "name": "stdout",
     "output_type": "stream",
     "text": [
      "acceptance is 0.2621428571428571\n"
     ]
    },
    {
     "name": "stderr",
     "output_type": "stream",
     "text": [
      " 75%|██████████████████████████████████████████████████████████▌                   | 1502/1999 [01:19<00:25, 19.38it/s]"
     ]
    },
    {
     "name": "stdout",
     "output_type": "stream",
     "text": [
      "acceptance is 0.25833333333333336\n"
     ]
    },
    {
     "name": "stderr",
     "output_type": "stream",
     "text": [
      " 80%|██████████████████████████████████████████████████████████████▌               | 1602/1999 [01:24<00:20, 19.40it/s]"
     ]
    },
    {
     "name": "stdout",
     "output_type": "stream",
     "text": [
      "acceptance is 0.25875\n"
     ]
    },
    {
     "name": "stderr",
     "output_type": "stream",
     "text": [
      " 85%|██████████████████████████████████████████████████████████████████▍           | 1702/1999 [01:29<00:15, 19.34it/s]"
     ]
    },
    {
     "name": "stdout",
     "output_type": "stream",
     "text": [
      "acceptance is 0.25676470588235295\n"
     ]
    },
    {
     "name": "stderr",
     "output_type": "stream",
     "text": [
      " 90%|██████████████████████████████████████████████████████████████████████▎       | 1803/1999 [01:34<00:10, 19.37it/s]"
     ]
    },
    {
     "name": "stdout",
     "output_type": "stream",
     "text": [
      "acceptance is 0.2575\n"
     ]
    },
    {
     "name": "stderr",
     "output_type": "stream",
     "text": [
      " 95%|██████████████████████████████████████████████████████████████████████████▎   | 1903/1999 [01:39<00:04, 19.30it/s]"
     ]
    },
    {
     "name": "stdout",
     "output_type": "stream",
     "text": [
      "acceptance is 0.2557894736842105\n"
     ]
    },
    {
     "name": "stderr",
     "output_type": "stream",
     "text": [
      "100%|██████████████████████████████████████████████████████████████████████████████| 1999/1999 [01:44<00:00, 19.05it/s]\n",
      "  0%|                                                                                 | 2/1999 [00:00<01:39, 20.00it/s]"
     ]
    },
    {
     "name": "stdout",
     "output_type": "stream",
     "text": [
      "inference valid = True\n",
      "R:_ [[1.05924143 1.05243059 1.04609572]\n",
      " [1.01941589 1.02973989 1.04153333]\n",
      " [1.04517481 1.00994545 1.00227326]\n",
      " [0.99946479 1.01229439 1.01367968]\n",
      " [1.04253839 1.01101005 1.01791896]\n",
      " [1.00284257 1.01188276 1.09339171]\n",
      " [1.00616865 1.01472302 1.01060161]\n",
      " [1.06105961 1.10203107 1.01743635]\n",
      " [1.01784425 1.06029134 1.11141613]\n",
      " [1.19999161 1.18672909 1.25385294]\n",
      " [1.00093873 1.00646555 1.0598435 ]\n",
      " [1.01449887 1.06819679 1.00827713]\n",
      " [1.06606728 1.03907796 1.01945687]\n",
      " [1.00387509 1.00971746 1.03174454]\n",
      " [1.00208128 1.00396343 1.00237886]\n",
      " [1.00499103 1.01506104 1.01630673]\n",
      " [1.04991675 1.05221862 1.0689307 ]\n",
      " [1.03221871 1.02769088 1.01690844]\n",
      " [1.05065777 1.03030624 1.04580936]\n",
      " [1.09036479 1.03523612 1.06787817]\n",
      " [1.00696793 0.99992457 1.00849077]\n",
      " [0.         0.         0.        ]\n",
      " [0.         0.         0.        ]\n",
      " [0.         0.         0.        ]]\n",
      "LKD:_ [[-101.8155994 ]\n",
      " [ -77.52729187]\n",
      " [ -64.64185619]\n",
      " [ -52.56048827]\n",
      " [ -87.45633935]\n",
      " [ -90.86503266]\n",
      " [ -64.44590771]\n",
      " [ -53.66081518]\n",
      " [ -78.62174451]\n",
      " [ -53.18399335]\n",
      " [ -56.85331537]\n",
      " [ -52.74767412]\n",
      " [ -48.78058026]\n",
      " [ -51.01573041]\n",
      " [ -36.11543481]\n",
      " [ -16.4425902 ]\n",
      " [ -43.7622879 ]\n",
      " [ -64.04380233]\n",
      " [ -57.78623587]\n",
      " [ -38.68506271]\n",
      " [ -78.09828508]\n",
      " [   0.        ]\n",
      " [   0.        ]\n",
      " [   0.        ]]\n",
      "Inference val:  [1. 1. 1. 1. 1. 1. 1. 0. 0. 0. 1. 1. 1. 1. 1. 1. 1. 1. 1. 1. 1. 0. 0. 0.]\n",
      "ft_weber:  [[0.29674997 0.847995   1.34680382]\n",
      " [0.0216075  0.83623068 0.64137801]\n",
      " [0.02355098 0.35991206 0.90858138]\n",
      " [0.02413207 0.04549513 0.36861996]\n",
      " [0.17247097 0.65107947 1.18086524]\n",
      " [0.09806743 0.75146068 1.12765364]\n",
      " [0.03816766 0.19858807 0.53333619]\n",
      " [0.0127496  0.20429866 0.35086083]\n",
      " [0.12881633 0.22309217 1.1678836 ]\n",
      " [0.02484716 0.08669565 0.36534097]\n",
      " [0.02138465 0.37793117 0.57443987]\n",
      " [0.02500975 0.21959731 0.40179204]\n",
      " [0.02024132 0.08870965 0.45768789]\n",
      " [0.02245072 0.30721146 0.41526197]\n",
      " [0.03596196 0.06828143 0.38478004]\n",
      " [0.01434217 0.04148767 0.24368779]\n",
      " [0.01046449 0.24623775 0.26090038]\n",
      " [0.01325618 0.38385619 0.313957  ]\n",
      " [0.01520577 0.25171791 0.48324119]\n",
      " [0.00770598 0.09858969 0.46912419]\n",
      " [0.01990417 0.45906966 0.40346084]\n",
      " [0.         0.         0.        ]\n",
      " [0.         0.         0.        ]\n",
      " [0.         0.         0.        ]]\n"
     ]
    },
    {
     "name": "stderr",
     "output_type": "stream",
     "text": [
      " 50%|███████████████████████████████████████                                       | 1001/1999 [00:53<00:55, 17.87it/s]"
     ]
    },
    {
     "name": "stdout",
     "output_type": "stream",
     "text": [
      "Adaptive MCMC starting...\n"
     ]
    },
    {
     "name": "stderr",
     "output_type": "stream",
     "text": [
      " 55%|██████████████████████████████████████████▉                                   | 1102/1999 [00:58<00:48, 18.68it/s]"
     ]
    },
    {
     "name": "stdout",
     "output_type": "stream",
     "text": [
      "acceptance is 0.3997727272727273\n"
     ]
    },
    {
     "name": "stderr",
     "output_type": "stream",
     "text": [
      " 60%|██████████████████████████████████████████████▉                               | 1202/1999 [01:03<00:42, 18.71it/s]"
     ]
    },
    {
     "name": "stdout",
     "output_type": "stream",
     "text": [
      "acceptance is 0.383125\n"
     ]
    },
    {
     "name": "stderr",
     "output_type": "stream",
     "text": [
      " 65%|██████████████████████████████████████████████████▊                           | 1302/1999 [01:09<00:36, 19.00it/s]"
     ]
    },
    {
     "name": "stdout",
     "output_type": "stream",
     "text": [
      "acceptance is 0.37096153846153845\n"
     ]
    },
    {
     "name": "stderr",
     "output_type": "stream",
     "text": [
      " 70%|██████████████████████████████████████████████████████▋                       | 1403/1999 [01:14<00:32, 18.48it/s]"
     ]
    },
    {
     "name": "stdout",
     "output_type": "stream",
     "text": [
      "acceptance is 0.36178571428571427\n"
     ]
    },
    {
     "name": "stderr",
     "output_type": "stream",
     "text": [
      " 75%|██████████████████████████████████████████████████████████▌                   | 1502/1999 [01:19<00:26, 18.49it/s]"
     ]
    },
    {
     "name": "stdout",
     "output_type": "stream",
     "text": [
      "acceptance is 0.3536666666666667\n"
     ]
    },
    {
     "name": "stderr",
     "output_type": "stream",
     "text": [
      " 80%|██████████████████████████████████████████████████████████████▌               | 1603/1999 [01:25<00:20, 19.02it/s]"
     ]
    },
    {
     "name": "stdout",
     "output_type": "stream",
     "text": [
      "acceptance is 0.3415625\n"
     ]
    },
    {
     "name": "stderr",
     "output_type": "stream",
     "text": [
      " 85%|██████████████████████████████████████████████████████████████████▍           | 1703/1999 [01:30<00:15, 18.84it/s]"
     ]
    },
    {
     "name": "stdout",
     "output_type": "stream",
     "text": [
      "acceptance is 0.3335294117647059\n"
     ]
    },
    {
     "name": "stderr",
     "output_type": "stream",
     "text": [
      " 90%|██████████████████████████████████████████████████████████████████████▎       | 1803/1999 [01:35<00:10, 18.80it/s]"
     ]
    },
    {
     "name": "stdout",
     "output_type": "stream",
     "text": [
      "acceptance is 0.33152777777777775\n"
     ]
    },
    {
     "name": "stderr",
     "output_type": "stream",
     "text": [
      " 95%|██████████████████████████████████████████████████████████████████████████▎   | 1903/1999 [01:41<00:05, 18.39it/s]"
     ]
    },
    {
     "name": "stdout",
     "output_type": "stream",
     "text": [
      "acceptance is 0.325\n"
     ]
    },
    {
     "name": "stderr",
     "output_type": "stream",
     "text": [
      "100%|██████████████████████████████████████████████████████████████████████████████| 1999/1999 [01:46<00:00, 18.85it/s]\n",
      "  0%|                                                                                 | 2/1999 [00:00<01:43, 19.30it/s]"
     ]
    },
    {
     "name": "stdout",
     "output_type": "stream",
     "text": [
      "inference valid = True\n",
      "R:_ [[1.05924143 1.05243059 1.04609572]\n",
      " [1.01941589 1.02973989 1.04153333]\n",
      " [1.04517481 1.00994545 1.00227326]\n",
      " [0.99946479 1.01229439 1.01367968]\n",
      " [1.04253839 1.01101005 1.01791896]\n",
      " [1.00284257 1.01188276 1.09339171]\n",
      " [1.00616865 1.01472302 1.01060161]\n",
      " [1.06105961 1.10203107 1.01743635]\n",
      " [1.01784425 1.06029134 1.11141613]\n",
      " [1.19999161 1.18672909 1.25385294]\n",
      " [1.00093873 1.00646555 1.0598435 ]\n",
      " [1.01449887 1.06819679 1.00827713]\n",
      " [1.06606728 1.03907796 1.01945687]\n",
      " [1.00387509 1.00971746 1.03174454]\n",
      " [1.00208128 1.00396343 1.00237886]\n",
      " [1.00499103 1.01506104 1.01630673]\n",
      " [1.04991675 1.05221862 1.0689307 ]\n",
      " [1.03221871 1.02769088 1.01690844]\n",
      " [1.05065777 1.03030624 1.04580936]\n",
      " [1.09036479 1.03523612 1.06787817]\n",
      " [1.00696793 0.99992457 1.00849077]\n",
      " [1.00679955 1.00390265 1.00574153]\n",
      " [0.         0.         0.        ]\n",
      " [0.         0.         0.        ]]\n",
      "LKD:_ [[-101.8155994 ]\n",
      " [ -77.52729187]\n",
      " [ -64.64185619]\n",
      " [ -52.56048827]\n",
      " [ -87.45633935]\n",
      " [ -90.86503266]\n",
      " [ -64.44590771]\n",
      " [ -53.66081518]\n",
      " [ -78.62174451]\n",
      " [ -53.18399335]\n",
      " [ -56.85331537]\n",
      " [ -52.74767412]\n",
      " [ -48.78058026]\n",
      " [ -51.01573041]\n",
      " [ -36.11543481]\n",
      " [ -16.4425902 ]\n",
      " [ -43.7622879 ]\n",
      " [ -64.04380233]\n",
      " [ -57.78623587]\n",
      " [ -38.68506271]\n",
      " [ -78.09828508]\n",
      " [ -77.59393231]\n",
      " [   0.        ]\n",
      " [   0.        ]]\n",
      "Inference val:  [1. 1. 1. 1. 1. 1. 1. 0. 0. 0. 1. 1. 1. 1. 1. 1. 1. 1. 1. 1. 1. 1. 0. 0.]\n",
      "ft_weber:  [[0.29674997 0.847995   1.34680382]\n",
      " [0.0216075  0.83623068 0.64137801]\n",
      " [0.02355098 0.35991206 0.90858138]\n",
      " [0.02413207 0.04549513 0.36861996]\n",
      " [0.17247097 0.65107947 1.18086524]\n",
      " [0.09806743 0.75146068 1.12765364]\n",
      " [0.03816766 0.19858807 0.53333619]\n",
      " [0.0127496  0.20429866 0.35086083]\n",
      " [0.12881633 0.22309217 1.1678836 ]\n",
      " [0.02484716 0.08669565 0.36534097]\n",
      " [0.02138465 0.37793117 0.57443987]\n",
      " [0.02500975 0.21959731 0.40179204]\n",
      " [0.02024132 0.08870965 0.45768789]\n",
      " [0.02245072 0.30721146 0.41526197]\n",
      " [0.03596196 0.06828143 0.38478004]\n",
      " [0.01434217 0.04148767 0.24368779]\n",
      " [0.01046449 0.24623775 0.26090038]\n",
      " [0.01325618 0.38385619 0.313957  ]\n",
      " [0.01520577 0.25171791 0.48324119]\n",
      " [0.00770598 0.09858969 0.46912419]\n",
      " [0.01990417 0.45906966 0.40346084]\n",
      " [0.12860715 0.31155272 1.13933959]\n",
      " [0.         0.         0.        ]\n",
      " [0.         0.         0.        ]]\n"
     ]
    },
    {
     "name": "stderr",
     "output_type": "stream",
     "text": [
      " 50%|███████████████████████████████████████                                       | 1002/1999 [00:52<00:53, 18.56it/s]"
     ]
    },
    {
     "name": "stdout",
     "output_type": "stream",
     "text": [
      "Adaptive MCMC starting...\n"
     ]
    },
    {
     "name": "stderr",
     "output_type": "stream",
     "text": [
      " 55%|███████████████████████████████████████████                                   | 1103/1999 [00:57<00:46, 19.30it/s]"
     ]
    },
    {
     "name": "stdout",
     "output_type": "stream",
     "text": [
      "acceptance is 0.22977272727272727\n"
     ]
    },
    {
     "name": "stderr",
     "output_type": "stream",
     "text": [
      " 60%|██████████████████████████████████████████████▉                               | 1203/1999 [01:02<00:41, 19.16it/s]"
     ]
    },
    {
     "name": "stdout",
     "output_type": "stream",
     "text": [
      "acceptance is 0.23104166666666667\n"
     ]
    },
    {
     "name": "stderr",
     "output_type": "stream",
     "text": [
      " 65%|██████████████████████████████████████████████████▊                           | 1303/1999 [01:07<00:36, 19.15it/s]"
     ]
    },
    {
     "name": "stdout",
     "output_type": "stream",
     "text": [
      "acceptance is 0.2321153846153846\n"
     ]
    },
    {
     "name": "stderr",
     "output_type": "stream",
     "text": [
      " 70%|██████████████████████████████████████████████████████▋                       | 1403/1999 [01:12<00:31, 19.15it/s]"
     ]
    },
    {
     "name": "stdout",
     "output_type": "stream",
     "text": [
      "acceptance is 0.22714285714285715\n"
     ]
    },
    {
     "name": "stderr",
     "output_type": "stream",
     "text": [
      " 75%|██████████████████████████████████████████████████████████▋                   | 1503/1999 [01:18<00:26, 18.90it/s]"
     ]
    },
    {
     "name": "stdout",
     "output_type": "stream",
     "text": [
      "acceptance is 0.223\n"
     ]
    },
    {
     "name": "stderr",
     "output_type": "stream",
     "text": [
      " 80%|██████████████████████████████████████████████████████████████▌               | 1602/1999 [01:23<00:20, 19.02it/s]"
     ]
    },
    {
     "name": "stdout",
     "output_type": "stream",
     "text": [
      "acceptance is 0.22359375\n"
     ]
    },
    {
     "name": "stderr",
     "output_type": "stream",
     "text": [
      " 85%|██████████████████████████████████████████████████████████████████▍           | 1702/1999 [01:28<00:15, 19.41it/s]"
     ]
    },
    {
     "name": "stdout",
     "output_type": "stream",
     "text": [
      "acceptance is 0.22764705882352942\n"
     ]
    },
    {
     "name": "stderr",
     "output_type": "stream",
     "text": [
      " 90%|██████████████████████████████████████████████████████████████████████▎       | 1802/1999 [01:33<00:10, 18.87it/s]"
     ]
    },
    {
     "name": "stdout",
     "output_type": "stream",
     "text": [
      "acceptance is 0.22416666666666665\n"
     ]
    },
    {
     "name": "stderr",
     "output_type": "stream",
     "text": [
      " 95%|██████████████████████████████████████████████████████████████████████████▎   | 1903/1999 [01:38<00:04, 19.32it/s]"
     ]
    },
    {
     "name": "stdout",
     "output_type": "stream",
     "text": [
      "acceptance is 0.22526315789473683\n"
     ]
    },
    {
     "name": "stderr",
     "output_type": "stream",
     "text": [
      "100%|██████████████████████████████████████████████████████████████████████████████| 1999/1999 [01:43<00:00, 19.22it/s]\n",
      "  0%|                                                                                         | 0/1999 [00:00<?, ?it/s]"
     ]
    },
    {
     "name": "stdout",
     "output_type": "stream",
     "text": [
      "inference valid = True\n",
      "R:_ [[1.05924143 1.05243059 1.04609572]\n",
      " [1.01941589 1.02973989 1.04153333]\n",
      " [1.04517481 1.00994545 1.00227326]\n",
      " [0.99946479 1.01229439 1.01367968]\n",
      " [1.04253839 1.01101005 1.01791896]\n",
      " [1.00284257 1.01188276 1.09339171]\n",
      " [1.00616865 1.01472302 1.01060161]\n",
      " [1.06105961 1.10203107 1.01743635]\n",
      " [1.01784425 1.06029134 1.11141613]\n",
      " [1.19999161 1.18672909 1.25385294]\n",
      " [1.00093873 1.00646555 1.0598435 ]\n",
      " [1.01449887 1.06819679 1.00827713]\n",
      " [1.06606728 1.03907796 1.01945687]\n",
      " [1.00387509 1.00971746 1.03174454]\n",
      " [1.00208128 1.00396343 1.00237886]\n",
      " [1.00499103 1.01506104 1.01630673]\n",
      " [1.04991675 1.05221862 1.0689307 ]\n",
      " [1.03221871 1.02769088 1.01690844]\n",
      " [1.05065777 1.03030624 1.04580936]\n",
      " [1.09036479 1.03523612 1.06787817]\n",
      " [1.00696793 0.99992457 1.00849077]\n",
      " [1.00679955 1.00390265 1.00574153]\n",
      " [1.02575427 1.00598076 1.01223743]\n",
      " [0.         0.         0.        ]]\n",
      "LKD:_ [[-101.8155994 ]\n",
      " [ -77.52729187]\n",
      " [ -64.64185619]\n",
      " [ -52.56048827]\n",
      " [ -87.45633935]\n",
      " [ -90.86503266]\n",
      " [ -64.44590771]\n",
      " [ -53.66081518]\n",
      " [ -78.62174451]\n",
      " [ -53.18399335]\n",
      " [ -56.85331537]\n",
      " [ -52.74767412]\n",
      " [ -48.78058026]\n",
      " [ -51.01573041]\n",
      " [ -36.11543481]\n",
      " [ -16.4425902 ]\n",
      " [ -43.7622879 ]\n",
      " [ -64.04380233]\n",
      " [ -57.78623587]\n",
      " [ -38.68506271]\n",
      " [ -78.09828508]\n",
      " [ -77.59393231]\n",
      " [ -71.65667246]\n",
      " [   0.        ]]\n",
      "Inference val:  [1. 1. 1. 1. 1. 1. 1. 0. 0. 0. 1. 1. 1. 1. 1. 1. 1. 1. 1. 1. 1. 1. 1. 0.]\n",
      "ft_weber:  [[0.29674997 0.847995   1.34680382]\n",
      " [0.0216075  0.83623068 0.64137801]\n",
      " [0.02355098 0.35991206 0.90858138]\n",
      " [0.02413207 0.04549513 0.36861996]\n",
      " [0.17247097 0.65107947 1.18086524]\n",
      " [0.09806743 0.75146068 1.12765364]\n",
      " [0.03816766 0.19858807 0.53333619]\n",
      " [0.0127496  0.20429866 0.35086083]\n",
      " [0.12881633 0.22309217 1.1678836 ]\n",
      " [0.02484716 0.08669565 0.36534097]\n",
      " [0.02138465 0.37793117 0.57443987]\n",
      " [0.02500975 0.21959731 0.40179204]\n",
      " [0.02024132 0.08870965 0.45768789]\n",
      " [0.02245072 0.30721146 0.41526197]\n",
      " [0.03596196 0.06828143 0.38478004]\n",
      " [0.01434217 0.04148767 0.24368779]\n",
      " [0.01046449 0.24623775 0.26090038]\n",
      " [0.01325618 0.38385619 0.313957  ]\n",
      " [0.01520577 0.25171791 0.48324119]\n",
      " [0.00770598 0.09858969 0.46912419]\n",
      " [0.01990417 0.45906966 0.40346084]\n",
      " [0.12860715 0.31155272 1.13933959]\n",
      " [0.01452645 0.49208929 0.42806685]\n",
      " [0.         0.         0.        ]]\n"
     ]
    },
    {
     "name": "stderr",
     "output_type": "stream",
     "text": [
      " 50%|███████████████████████████████████████▏                                      | 1003/1999 [00:53<00:54, 18.13it/s]"
     ]
    },
    {
     "name": "stdout",
     "output_type": "stream",
     "text": [
      "Adaptive MCMC starting...\n"
     ]
    },
    {
     "name": "stderr",
     "output_type": "stream",
     "text": [
      " 55%|███████████████████████████████████████████                                   | 1103/1999 [00:58<00:47, 18.84it/s]"
     ]
    },
    {
     "name": "stdout",
     "output_type": "stream",
     "text": [
      "acceptance is 0.23295454545454544\n"
     ]
    },
    {
     "name": "stderr",
     "output_type": "stream",
     "text": [
      " 60%|██████████████████████████████████████████████▉                               | 1203/1999 [01:03<00:43, 18.34it/s]"
     ]
    },
    {
     "name": "stdout",
     "output_type": "stream",
     "text": [
      "acceptance is 0.23604166666666668\n"
     ]
    },
    {
     "name": "stderr",
     "output_type": "stream",
     "text": [
      " 65%|██████████████████████████████████████████████████▊                           | 1303/1999 [01:09<00:37, 18.41it/s]"
     ]
    },
    {
     "name": "stdout",
     "output_type": "stream",
     "text": [
      "acceptance is 0.23711538461538462\n"
     ]
    },
    {
     "name": "stderr",
     "output_type": "stream",
     "text": [
      " 70%|██████████████████████████████████████████████████████▋                       | 1403/1999 [01:14<00:31, 18.84it/s]"
     ]
    },
    {
     "name": "stdout",
     "output_type": "stream",
     "text": [
      "acceptance is 0.2330357142857143\n"
     ]
    },
    {
     "name": "stderr",
     "output_type": "stream",
     "text": [
      " 75%|██████████████████████████████████████████████████████████▋                   | 1503/1999 [01:19<00:26, 18.58it/s]"
     ]
    },
    {
     "name": "stdout",
     "output_type": "stream",
     "text": [
      "acceptance is 0.23083333333333333\n"
     ]
    },
    {
     "name": "stderr",
     "output_type": "stream",
     "text": [
      " 80%|██████████████████████████████████████████████████████████████▌               | 1603/1999 [01:25<00:20, 18.90it/s]"
     ]
    },
    {
     "name": "stdout",
     "output_type": "stream",
     "text": [
      "acceptance is 0.230625\n"
     ]
    },
    {
     "name": "stderr",
     "output_type": "stream",
     "text": [
      " 85%|██████████████████████████████████████████████████████████████████▍           | 1703/1999 [01:30<00:15, 18.56it/s]"
     ]
    },
    {
     "name": "stdout",
     "output_type": "stream",
     "text": [
      "acceptance is 0.23191176470588235\n"
     ]
    },
    {
     "name": "stderr",
     "output_type": "stream",
     "text": [
      " 90%|██████████████████████████████████████████████████████████████████████▎       | 1803/1999 [01:35<00:10, 18.56it/s]"
     ]
    },
    {
     "name": "stdout",
     "output_type": "stream",
     "text": [
      "acceptance is 0.23083333333333333\n"
     ]
    },
    {
     "name": "stderr",
     "output_type": "stream",
     "text": [
      " 95%|██████████████████████████████████████████████████████████████████████████▎   | 1903/1999 [01:41<00:05, 18.69it/s]"
     ]
    },
    {
     "name": "stdout",
     "output_type": "stream",
     "text": [
      "acceptance is 0.23355263157894737\n"
     ]
    },
    {
     "name": "stderr",
     "output_type": "stream",
     "text": [
      "100%|██████████████████████████████████████████████████████████████████████████████| 1999/1999 [01:46<00:00, 18.81it/s]"
     ]
    },
    {
     "name": "stdout",
     "output_type": "stream",
     "text": [
      "inference valid = True\n",
      "R:_ [[1.05924143 1.05243059 1.04609572]\n",
      " [1.01941589 1.02973989 1.04153333]\n",
      " [1.04517481 1.00994545 1.00227326]\n",
      " [0.99946479 1.01229439 1.01367968]\n",
      " [1.04253839 1.01101005 1.01791896]\n",
      " [1.00284257 1.01188276 1.09339171]\n",
      " [1.00616865 1.01472302 1.01060161]\n",
      " [1.06105961 1.10203107 1.01743635]\n",
      " [1.01784425 1.06029134 1.11141613]\n",
      " [1.19999161 1.18672909 1.25385294]\n",
      " [1.00093873 1.00646555 1.0598435 ]\n",
      " [1.01449887 1.06819679 1.00827713]\n",
      " [1.06606728 1.03907796 1.01945687]\n",
      " [1.00387509 1.00971746 1.03174454]\n",
      " [1.00208128 1.00396343 1.00237886]\n",
      " [1.00499103 1.01506104 1.01630673]\n",
      " [1.04991675 1.05221862 1.0689307 ]\n",
      " [1.03221871 1.02769088 1.01690844]\n",
      " [1.05065777 1.03030624 1.04580936]\n",
      " [1.09036479 1.03523612 1.06787817]\n",
      " [1.00696793 0.99992457 1.00849077]\n",
      " [1.00679955 1.00390265 1.00574153]\n",
      " [1.02575427 1.00598076 1.01223743]\n",
      " [1.02824184 1.00556165 1.01885589]]\n",
      "LKD:_ [[-101.8155994 ]\n",
      " [ -77.52729187]\n",
      " [ -64.64185619]\n",
      " [ -52.56048827]\n",
      " [ -87.45633935]\n",
      " [ -90.86503266]\n",
      " [ -64.44590771]\n",
      " [ -53.66081518]\n",
      " [ -78.62174451]\n",
      " [ -53.18399335]\n",
      " [ -56.85331537]\n",
      " [ -52.74767412]\n",
      " [ -48.78058026]\n",
      " [ -51.01573041]\n",
      " [ -36.11543481]\n",
      " [ -16.4425902 ]\n",
      " [ -43.7622879 ]\n",
      " [ -64.04380233]\n",
      " [ -57.78623587]\n",
      " [ -38.68506271]\n",
      " [ -78.09828508]\n",
      " [ -77.59393231]\n",
      " [ -71.65667246]\n",
      " [ -47.27886026]]\n",
      "Inference val:  [1. 1. 1. 1. 1. 1. 1. 0. 0. 0. 1. 1. 1. 1. 1. 1. 1. 1. 1. 1. 1. 1. 1. 1.]\n",
      "ft_weber:  [[0.29674997 0.847995   1.34680382]\n",
      " [0.0216075  0.83623068 0.64137801]\n",
      " [0.02355098 0.35991206 0.90858138]\n",
      " [0.02413207 0.04549513 0.36861996]\n",
      " [0.17247097 0.65107947 1.18086524]\n",
      " [0.09806743 0.75146068 1.12765364]\n",
      " [0.03816766 0.19858807 0.53333619]\n",
      " [0.0127496  0.20429866 0.35086083]\n",
      " [0.12881633 0.22309217 1.1678836 ]\n",
      " [0.02484716 0.08669565 0.36534097]\n",
      " [0.02138465 0.37793117 0.57443987]\n",
      " [0.02500975 0.21959731 0.40179204]\n",
      " [0.02024132 0.08870965 0.45768789]\n",
      " [0.02245072 0.30721146 0.41526197]\n",
      " [0.03596196 0.06828143 0.38478004]\n",
      " [0.01434217 0.04148767 0.24368779]\n",
      " [0.01046449 0.24623775 0.26090038]\n",
      " [0.01325618 0.38385619 0.313957  ]\n",
      " [0.01520577 0.25171791 0.48324119]\n",
      " [0.00770598 0.09858969 0.46912419]\n",
      " [0.01990417 0.45906966 0.40346084]\n",
      " [0.12860715 0.31155272 1.13933959]\n",
      " [0.01452645 0.49208929 0.42806685]\n",
      " [0.01886966 0.10279047 0.81410816]]\n"
     ]
    },
    {
     "name": "stderr",
     "output_type": "stream",
     "text": [
      "\n"
     ]
    }
   ],
   "source": [
    "\n",
    "# loop through subjects\n",
    "#for sub in list_sub:\n",
    "#for sub in range(4, (id_max+1)):\n",
    "for sub in range(6, 7):    \n",
    "    print('sub: ', sub)\n",
    "    \n",
    "    # data for subject\n",
    "    curr_sub = data[data[\"ID\"] == sub]\n",
    "    # simulation df\n",
    "    sim_sub = sim_choice[sim_choice[\"ID\"] == sub]\n",
    "    \n",
    "    # check number of runs for subject\n",
    "    test     = curr_sub['Run'].to_numpy()\n",
    "    num_run  = np.max(test)\n",
    "    \n",
    "    # calculate win array\n",
    "    outcomes = curr_sub['drawn_outcome'].to_numpy()\n",
    "    sim_choices = sim_sub['simulated choice'].to_numpy()\n",
    "    \n",
    "    win = []\n",
    "    for i in range(len(sim_choices)):\n",
    "        if outcomes[i]==sim_choices[i]:\n",
    "            win.append(1)\n",
    "        else:\n",
    "            win.append(0)\n",
    "            \n",
    "    \n",
    "    # choice and win array\n",
    "    actions = sim_choices.reshape((num_run,150))\n",
    "    rewards = np.array(win).reshape((num_run,150))\n",
    "\n",
    "\n",
    "    nb_agents = len(rewards) # number of runs\n",
    "\n",
    "\n",
    "    # saving all fitted params& lkd for each participants- matrix\n",
    "    #ft_param = np.zeros(()) # what dimension does it have + participant\n",
    "    lkd   = np.zeros((len(rewards), 1)) # 31 x 3 -> 3 stands for the 3 noises (not parameter! -> one lkd for parameter combi)\n",
    "    # arrays containing the median of the fitted parameters alpha, beta, zeta for all x runs\n",
    "    ft_weber = np.zeros((len(rewards),3))\n",
    "    ft_inf_wb   = np.zeros(len(rewards)) # contains inference validated for all parameters together for all runs\n",
    "    ft_R_wb     = np.zeros((len(rewards),3)) # contains R for each parameter for all runs\n",
    "\n",
    "\n",
    "    # loop through runs\n",
    "    for i_agent in range(nb_agents):\n",
    "\n",
    "        index=0\n",
    "        # action&reward for one run with 150 trials\n",
    "        act_, rew_ = actions[i_agent], rewards[i_agent]   \n",
    "\n",
    "        \n",
    "\n",
    "        noise = 'weber'\n",
    "\n",
    "\n",
    "        # fitting parameters with MCMC\n",
    "        ft_param, ft_lkd, inf_val, R = MCMC_sampling()\n",
    "\n",
    "        # median of fitted parameters over all MCMC chains and iterations starting from 1000. iteration (->Nburn)\n",
    "        ft_weber[i_agent] = np.median(np.median(ft_param[1000:], axis=0), axis=0)\n",
    "        lkd[i_agent][0] = np.median(np.median(ft_lkd[1000:], axis=0), axis=0)\n",
    "        ft_inf_wb[i_agent] = copy.deepcopy(inf_val)\n",
    "        ft_R_wb[i_agent]   = copy.deepcopy(R)\n",
    "\n",
    "\n",
    "        print('R:_', ft_R_wb)\n",
    "        print('LKD:_', lkd)\n",
    "        print('Inference val: ', ft_inf_wb)\n",
    "\n",
    "        print('ft_weber: ', ft_weber)\n",
    "\n",
    "\n",
    "    # saving for each participant for all noise types\n",
    "    #pickle.dump([ft_weber, ft_white, ft_none, lkd], open('C:/Users/neuromadlab/Desktop/All_subjects/Results/Fitting/subject_{}_median_parameters_Weber_simulated_choices.pkl'.format(sub), 'wb')) \n",
    "    #pickle.dump([ft_inf_wb, ft_R_wb, ft_inf_wh, ft_R_wh, ft_inf_nn, ft_R_nn], open('C:/Users/neuromadlab/Desktop/All_subjects/Results/Fitting/subject_{}_Inference_Weber_simulated_choices.pkl'.format(sub), 'wb'))    \n",
    "\n",
    "    pickle.dump([ft_weber, lkd], open('C:/Users/canlab/Desktop/Modelling_Influenca/Results/Fit_all_subjects/Fitting_results/subject_{}_median_parameters_Weber_simulated_choices.pkl'.format(sub), 'wb')) \n",
    "    pickle.dump([ft_inf_wb, ft_R_wb], open('C:/Users/canlab/Desktop/Modelling_Influenca/Results/Fit_all_subjects/Fitting_results/subject_{}_Inference_all_models_simulated_choices.pkl'.format(sub), 'wb'))    \n"
   ]
  },
  {
   "cell_type": "markdown",
   "metadata": {},
   "source": [
    "### Creation of df/csv for results of all subjects\n",
    "containing fitted parameter values, R values and log likelihood"
   ]
  },
  {
   "cell_type": "code",
   "execution_count": 56,
   "metadata": {},
   "outputs": [
    {
     "name": "stdout",
     "output_type": "stream",
     "text": [
      "Subject:_ 4\n",
      "Subject:_ 6\n"
     ]
    }
   ],
   "source": [
    "df_wb = pd.DataFrame()\n",
    "\n",
    "dfs_wb=[]\n",
    "\n",
    "df_comb_wb = pd.DataFrame()\n",
    "#list_=[]\n",
    "for sub in list_sub:\n",
    "#for sub in list_sub:\n",
    "#for sub in range(4, (id_max+1)):\n",
    "    # load fitting data\n",
    "    print('Subject:_', sub)\n",
    "\n",
    "\n",
    "    #curr_sub     = np.load('C:/Users/neuromadlab/Desktop/All_subjects/Results/Fitting/subject_{}_median_parameters_Weber_simulated_choices.pkl'.format(sub), allow_pickle=True)\n",
    "    #curr_sub_inf = np.load('C:/Users/neuromadlab/Desktop/All_subjects/Results/Fitting/subject_{}_Inference_Weber_simulated_choices.pkl'.format(sub), allow_pickle=True)\n",
    "    curr_sub     = np.load('C:/Users/neuromadlab/Desktop/All_subjects/Results/Fitting/subject_{}_Inference_Weber_simulated_choices.format(sub), allow_pickle=True)\n",
    "    curr_sub_inf = np.load('C:/Users/neuromadlab/Desktop/All_subjects/Results/Fitting/subject_{}_Inference_Weber_simulated_choices.format(sub), allow_pickle=True)\n",
    "    \n",
    "    # load the fitted parameters\n",
    "    wb = pd.DataFrame(curr_sub[0])\n",
    "    wb.columns = ['alpha', 'beta', 'zeta']\n",
    "    # load likelihood\n",
    "    llkd = pd.DataFrame(curr_sub[1])\n",
    "    llkd.columns = ['weber']\n",
    "\n",
    "    # concat parameters and llkd in one df \n",
    "    wb['llkd'] = llkd[['weber']]\n",
    "\n",
    "\n",
    "    # load R^2\n",
    "    R_wb = pd.DataFrame(curr_sub_inf[1])\n",
    "    R_wb.columns = ['alpha', 'beta', 'zeta']\n",
    "\n",
    "    # R^2\n",
    "    wb['R: alpha'] = R_wb[['alpha']]\n",
    "    wb['R: beta'] = R_wb[['beta']]\n",
    "    wb['R: zeta'] = R_wb[['zeta']]\n",
    "\n",
    "\n",
    "    # save in list for concatenation later\n",
    "    dfs_wb.append(wb)\n",
    "\n",
    "            \n",
    "\n",
    "    \n",
    "wb_fit=pd.concat(dfs_wb,keys=list_, names = ['ID', 'Run'])\n",
    "\n",
    "# save to pkl\n",
    "#wb_fit.to_pickle(\"C:/Users/canlab/Desktop/Modelling_Influenca/Results/Fit_all_subjects/Fitting_results/Weber_fitting_results_simulated_choices.pkl\")\n",
    "wb_fit.to_pickle(\"C:/Users/neuromadlab/Desktop/All_subjects/Results/Weber_fitting_results_simulated_choices.pkl\")\n",
    "\n",
    "# save to csv\n",
    "#wb_fit.to_csv('C:/Users/canlab/Desktop/Modelling_Influenca/Results/Fit_all_subjects/Fitting_results/Weber_fitting_results_table_simulated_choices.csv')\n",
    "wb_fit.to_csv('C:/Users/neuromadlab/Desktop/All_subjects/Results/Weber_fitting_results_table_simulated_choices.csv')\n"
   ]
  },
  {
   "cell_type": "code",
   "execution_count": 57,
   "metadata": {
    "scrolled": true
   },
   "outputs": [
    {
     "data": {
      "text/html": [
       "<div>\n",
       "<style scoped>\n",
       "    .dataframe tbody tr th:only-of-type {\n",
       "        vertical-align: middle;\n",
       "    }\n",
       "\n",
       "    .dataframe tbody tr th {\n",
       "        vertical-align: top;\n",
       "    }\n",
       "\n",
       "    .dataframe thead th {\n",
       "        text-align: right;\n",
       "    }\n",
       "</style>\n",
       "<table border=\"1\" class=\"dataframe\">\n",
       "  <thead>\n",
       "    <tr style=\"text-align: right;\">\n",
       "      <th></th>\n",
       "      <th></th>\n",
       "      <th>alpha</th>\n",
       "      <th>beta</th>\n",
       "      <th>zeta</th>\n",
       "      <th>llkd</th>\n",
       "      <th>R: alpha</th>\n",
       "      <th>R: beta</th>\n",
       "      <th>R: zeta</th>\n",
       "    </tr>\n",
       "    <tr>\n",
       "      <th>ID</th>\n",
       "      <th>Run</th>\n",
       "      <th></th>\n",
       "      <th></th>\n",
       "      <th></th>\n",
       "      <th></th>\n",
       "      <th></th>\n",
       "      <th></th>\n",
       "      <th></th>\n",
       "    </tr>\n",
       "  </thead>\n",
       "  <tbody>\n",
       "    <tr>\n",
       "      <th rowspan=\"31\" valign=\"top\">4</th>\n",
       "      <th>0</th>\n",
       "      <td>0.334738</td>\n",
       "      <td>0.808429</td>\n",
       "      <td>0.803955</td>\n",
       "      <td>-97.695909</td>\n",
       "      <td>1.017025</td>\n",
       "      <td>1.049565</td>\n",
       "      <td>1.026662</td>\n",
       "    </tr>\n",
       "    <tr>\n",
       "      <th>1</th>\n",
       "      <td>0.063973</td>\n",
       "      <td>0.391002</td>\n",
       "      <td>0.662136</td>\n",
       "      <td>-75.750842</td>\n",
       "      <td>1.022452</td>\n",
       "      <td>1.004634</td>\n",
       "      <td>1.005734</td>\n",
       "    </tr>\n",
       "    <tr>\n",
       "      <th>2</th>\n",
       "      <td>0.107125</td>\n",
       "      <td>0.119163</td>\n",
       "      <td>0.801832</td>\n",
       "      <td>-57.693754</td>\n",
       "      <td>1.024633</td>\n",
       "      <td>1.060267</td>\n",
       "      <td>1.010803</td>\n",
       "    </tr>\n",
       "    <tr>\n",
       "      <th>3</th>\n",
       "      <td>0.118781</td>\n",
       "      <td>0.075911</td>\n",
       "      <td>0.685872</td>\n",
       "      <td>-48.080043</td>\n",
       "      <td>1.018733</td>\n",
       "      <td>1.080870</td>\n",
       "      <td>1.014387</td>\n",
       "    </tr>\n",
       "    <tr>\n",
       "      <th>4</th>\n",
       "      <td>0.215514</td>\n",
       "      <td>0.518292</td>\n",
       "      <td>0.866307</td>\n",
       "      <td>-84.928207</td>\n",
       "      <td>0.999493</td>\n",
       "      <td>1.012679</td>\n",
       "      <td>1.007042</td>\n",
       "    </tr>\n",
       "    <tr>\n",
       "      <th>5</th>\n",
       "      <td>0.309369</td>\n",
       "      <td>0.229886</td>\n",
       "      <td>0.126452</td>\n",
       "      <td>-61.292662</td>\n",
       "      <td>1.011778</td>\n",
       "      <td>1.036204</td>\n",
       "      <td>1.002980</td>\n",
       "    </tr>\n",
       "    <tr>\n",
       "      <th>6</th>\n",
       "      <td>0.228817</td>\n",
       "      <td>0.088279</td>\n",
       "      <td>0.206972</td>\n",
       "      <td>-40.256211</td>\n",
       "      <td>1.006278</td>\n",
       "      <td>1.013237</td>\n",
       "      <td>1.011647</td>\n",
       "    </tr>\n",
       "    <tr>\n",
       "      <th>7</th>\n",
       "      <td>0.103447</td>\n",
       "      <td>0.143959</td>\n",
       "      <td>0.108926</td>\n",
       "      <td>-39.962004</td>\n",
       "      <td>1.023329</td>\n",
       "      <td>1.009399</td>\n",
       "      <td>1.039152</td>\n",
       "    </tr>\n",
       "    <tr>\n",
       "      <th>8</th>\n",
       "      <td>0.391088</td>\n",
       "      <td>0.129290</td>\n",
       "      <td>0.568869</td>\n",
       "      <td>-53.373456</td>\n",
       "      <td>1.012363</td>\n",
       "      <td>1.009593</td>\n",
       "      <td>1.001230</td>\n",
       "    </tr>\n",
       "    <tr>\n",
       "      <th>9</th>\n",
       "      <td>0.270875</td>\n",
       "      <td>0.154685</td>\n",
       "      <td>0.065450</td>\n",
       "      <td>-31.502718</td>\n",
       "      <td>1.020410</td>\n",
       "      <td>1.019473</td>\n",
       "      <td>1.014441</td>\n",
       "    </tr>\n",
       "    <tr>\n",
       "      <th>10</th>\n",
       "      <td>0.096396</td>\n",
       "      <td>0.059785</td>\n",
       "      <td>0.145612</td>\n",
       "      <td>-45.213477</td>\n",
       "      <td>1.039929</td>\n",
       "      <td>1.034605</td>\n",
       "      <td>1.020671</td>\n",
       "    </tr>\n",
       "    <tr>\n",
       "      <th>11</th>\n",
       "      <td>0.157150</td>\n",
       "      <td>0.081011</td>\n",
       "      <td>0.124925</td>\n",
       "      <td>-34.448989</td>\n",
       "      <td>1.012675</td>\n",
       "      <td>1.007120</td>\n",
       "      <td>1.004937</td>\n",
       "    </tr>\n",
       "    <tr>\n",
       "      <th>12</th>\n",
       "      <td>0.156852</td>\n",
       "      <td>0.099793</td>\n",
       "      <td>0.189602</td>\n",
       "      <td>-36.128600</td>\n",
       "      <td>1.017289</td>\n",
       "      <td>1.005117</td>\n",
       "      <td>1.040496</td>\n",
       "    </tr>\n",
       "    <tr>\n",
       "      <th>13</th>\n",
       "      <td>0.079583</td>\n",
       "      <td>0.076147</td>\n",
       "      <td>0.084611</td>\n",
       "      <td>-39.603169</td>\n",
       "      <td>1.000091</td>\n",
       "      <td>1.014093</td>\n",
       "      <td>1.008078</td>\n",
       "    </tr>\n",
       "    <tr>\n",
       "      <th>14</th>\n",
       "      <td>0.066735</td>\n",
       "      <td>0.087426</td>\n",
       "      <td>0.383407</td>\n",
       "      <td>-34.457268</td>\n",
       "      <td>1.030485</td>\n",
       "      <td>1.012272</td>\n",
       "      <td>1.021537</td>\n",
       "    </tr>\n",
       "    <tr>\n",
       "      <th>15</th>\n",
       "      <td>0.080396</td>\n",
       "      <td>0.026980</td>\n",
       "      <td>0.086452</td>\n",
       "      <td>-10.144030</td>\n",
       "      <td>1.008384</td>\n",
       "      <td>1.005610</td>\n",
       "      <td>1.024449</td>\n",
       "    </tr>\n",
       "    <tr>\n",
       "      <th>16</th>\n",
       "      <td>0.056003</td>\n",
       "      <td>0.086775</td>\n",
       "      <td>0.016929</td>\n",
       "      <td>-30.450700</td>\n",
       "      <td>1.018828</td>\n",
       "      <td>1.005667</td>\n",
       "      <td>1.036494</td>\n",
       "    </tr>\n",
       "    <tr>\n",
       "      <th>17</th>\n",
       "      <td>0.128835</td>\n",
       "      <td>0.134151</td>\n",
       "      <td>0.159811</td>\n",
       "      <td>-50.973490</td>\n",
       "      <td>1.002071</td>\n",
       "      <td>1.006999</td>\n",
       "      <td>1.000017</td>\n",
       "    </tr>\n",
       "    <tr>\n",
       "      <th>18</th>\n",
       "      <td>0.084157</td>\n",
       "      <td>0.103934</td>\n",
       "      <td>0.354052</td>\n",
       "      <td>-49.037025</td>\n",
       "      <td>1.030666</td>\n",
       "      <td>1.049251</td>\n",
       "      <td>1.018845</td>\n",
       "    </tr>\n",
       "    <tr>\n",
       "      <th>19</th>\n",
       "      <td>0.029291</td>\n",
       "      <td>0.095509</td>\n",
       "      <td>0.464519</td>\n",
       "      <td>-36.561606</td>\n",
       "      <td>1.007211</td>\n",
       "      <td>1.010537</td>\n",
       "      <td>1.004278</td>\n",
       "    </tr>\n",
       "    <tr>\n",
       "      <th>20</th>\n",
       "      <td>0.409094</td>\n",
       "      <td>0.165307</td>\n",
       "      <td>0.406604</td>\n",
       "      <td>-46.740956</td>\n",
       "      <td>1.012814</td>\n",
       "      <td>1.009214</td>\n",
       "      <td>1.005004</td>\n",
       "    </tr>\n",
       "    <tr>\n",
       "      <th>21</th>\n",
       "      <td>0.311775</td>\n",
       "      <td>0.164898</td>\n",
       "      <td>0.403985</td>\n",
       "      <td>-57.824816</td>\n",
       "      <td>0.999875</td>\n",
       "      <td>1.008094</td>\n",
       "      <td>0.999709</td>\n",
       "    </tr>\n",
       "    <tr>\n",
       "      <th>22</th>\n",
       "      <td>0.253006</td>\n",
       "      <td>0.142049</td>\n",
       "      <td>0.082741</td>\n",
       "      <td>-39.641856</td>\n",
       "      <td>1.008288</td>\n",
       "      <td>1.006738</td>\n",
       "      <td>1.004007</td>\n",
       "    </tr>\n",
       "    <tr>\n",
       "      <th>23</th>\n",
       "      <td>0.126833</td>\n",
       "      <td>0.027669</td>\n",
       "      <td>0.275578</td>\n",
       "      <td>-36.159401</td>\n",
       "      <td>1.013062</td>\n",
       "      <td>1.018906</td>\n",
       "      <td>1.009387</td>\n",
       "    </tr>\n",
       "    <tr>\n",
       "      <th>24</th>\n",
       "      <td>0.109378</td>\n",
       "      <td>0.067512</td>\n",
       "      <td>0.495121</td>\n",
       "      <td>-36.321599</td>\n",
       "      <td>1.031993</td>\n",
       "      <td>1.009813</td>\n",
       "      <td>1.066895</td>\n",
       "    </tr>\n",
       "    <tr>\n",
       "      <th>25</th>\n",
       "      <td>0.441136</td>\n",
       "      <td>0.183264</td>\n",
       "      <td>0.172469</td>\n",
       "      <td>-35.856050</td>\n",
       "      <td>1.004750</td>\n",
       "      <td>0.999759</td>\n",
       "      <td>1.002651</td>\n",
       "    </tr>\n",
       "    <tr>\n",
       "      <th>26</th>\n",
       "      <td>0.166850</td>\n",
       "      <td>0.135148</td>\n",
       "      <td>0.063971</td>\n",
       "      <td>-35.779385</td>\n",
       "      <td>1.010711</td>\n",
       "      <td>1.005666</td>\n",
       "      <td>1.014576</td>\n",
       "    </tr>\n",
       "    <tr>\n",
       "      <th>27</th>\n",
       "      <td>0.081849</td>\n",
       "      <td>0.090445</td>\n",
       "      <td>0.750004</td>\n",
       "      <td>-55.095696</td>\n",
       "      <td>1.015768</td>\n",
       "      <td>1.020540</td>\n",
       "      <td>1.016637</td>\n",
       "    </tr>\n",
       "    <tr>\n",
       "      <th>28</th>\n",
       "      <td>0.032816</td>\n",
       "      <td>0.096126</td>\n",
       "      <td>0.275836</td>\n",
       "      <td>-38.376295</td>\n",
       "      <td>1.023680</td>\n",
       "      <td>1.011351</td>\n",
       "      <td>1.035435</td>\n",
       "    </tr>\n",
       "    <tr>\n",
       "      <th>29</th>\n",
       "      <td>0.345510</td>\n",
       "      <td>0.226903</td>\n",
       "      <td>0.112758</td>\n",
       "      <td>-54.472002</td>\n",
       "      <td>1.006243</td>\n",
       "      <td>1.000153</td>\n",
       "      <td>1.023066</td>\n",
       "    </tr>\n",
       "    <tr>\n",
       "      <th>30</th>\n",
       "      <td>0.377394</td>\n",
       "      <td>0.200882</td>\n",
       "      <td>0.534642</td>\n",
       "      <td>-57.665199</td>\n",
       "      <td>1.019964</td>\n",
       "      <td>1.006888</td>\n",
       "      <td>1.011396</td>\n",
       "    </tr>\n",
       "    <tr>\n",
       "      <th rowspan=\"24\" valign=\"top\">6</th>\n",
       "      <th>0</th>\n",
       "      <td>0.296750</td>\n",
       "      <td>0.847995</td>\n",
       "      <td>1.346804</td>\n",
       "      <td>-101.815599</td>\n",
       "      <td>1.059241</td>\n",
       "      <td>1.052431</td>\n",
       "      <td>1.046096</td>\n",
       "    </tr>\n",
       "    <tr>\n",
       "      <th>1</th>\n",
       "      <td>0.021607</td>\n",
       "      <td>0.836231</td>\n",
       "      <td>0.641378</td>\n",
       "      <td>-77.527292</td>\n",
       "      <td>1.019416</td>\n",
       "      <td>1.029740</td>\n",
       "      <td>1.041533</td>\n",
       "    </tr>\n",
       "    <tr>\n",
       "      <th>2</th>\n",
       "      <td>0.023551</td>\n",
       "      <td>0.359912</td>\n",
       "      <td>0.908581</td>\n",
       "      <td>-64.641856</td>\n",
       "      <td>1.045175</td>\n",
       "      <td>1.009945</td>\n",
       "      <td>1.002273</td>\n",
       "    </tr>\n",
       "    <tr>\n",
       "      <th>3</th>\n",
       "      <td>0.024132</td>\n",
       "      <td>0.045495</td>\n",
       "      <td>0.368620</td>\n",
       "      <td>-52.560488</td>\n",
       "      <td>0.999465</td>\n",
       "      <td>1.012294</td>\n",
       "      <td>1.013680</td>\n",
       "    </tr>\n",
       "    <tr>\n",
       "      <th>4</th>\n",
       "      <td>0.172471</td>\n",
       "      <td>0.651079</td>\n",
       "      <td>1.180865</td>\n",
       "      <td>-87.456339</td>\n",
       "      <td>1.042538</td>\n",
       "      <td>1.011010</td>\n",
       "      <td>1.017919</td>\n",
       "    </tr>\n",
       "    <tr>\n",
       "      <th>5</th>\n",
       "      <td>0.098067</td>\n",
       "      <td>0.751461</td>\n",
       "      <td>1.127654</td>\n",
       "      <td>-90.865033</td>\n",
       "      <td>1.002843</td>\n",
       "      <td>1.011883</td>\n",
       "      <td>1.093392</td>\n",
       "    </tr>\n",
       "    <tr>\n",
       "      <th>6</th>\n",
       "      <td>0.038168</td>\n",
       "      <td>0.198588</td>\n",
       "      <td>0.533336</td>\n",
       "      <td>-64.445908</td>\n",
       "      <td>1.006169</td>\n",
       "      <td>1.014723</td>\n",
       "      <td>1.010602</td>\n",
       "    </tr>\n",
       "    <tr>\n",
       "      <th>7</th>\n",
       "      <td>0.012750</td>\n",
       "      <td>0.204299</td>\n",
       "      <td>0.350861</td>\n",
       "      <td>-53.660815</td>\n",
       "      <td>1.061060</td>\n",
       "      <td>1.102031</td>\n",
       "      <td>1.017436</td>\n",
       "    </tr>\n",
       "    <tr>\n",
       "      <th>8</th>\n",
       "      <td>0.128816</td>\n",
       "      <td>0.223092</td>\n",
       "      <td>1.167884</td>\n",
       "      <td>-78.621745</td>\n",
       "      <td>1.017844</td>\n",
       "      <td>1.060291</td>\n",
       "      <td>1.111416</td>\n",
       "    </tr>\n",
       "    <tr>\n",
       "      <th>9</th>\n",
       "      <td>0.024847</td>\n",
       "      <td>0.086696</td>\n",
       "      <td>0.365341</td>\n",
       "      <td>-53.183993</td>\n",
       "      <td>1.199992</td>\n",
       "      <td>1.186729</td>\n",
       "      <td>1.253853</td>\n",
       "    </tr>\n",
       "    <tr>\n",
       "      <th>10</th>\n",
       "      <td>0.021385</td>\n",
       "      <td>0.377931</td>\n",
       "      <td>0.574440</td>\n",
       "      <td>-56.853315</td>\n",
       "      <td>1.000939</td>\n",
       "      <td>1.006466</td>\n",
       "      <td>1.059843</td>\n",
       "    </tr>\n",
       "    <tr>\n",
       "      <th>11</th>\n",
       "      <td>0.025010</td>\n",
       "      <td>0.219597</td>\n",
       "      <td>0.401792</td>\n",
       "      <td>-52.747674</td>\n",
       "      <td>1.014499</td>\n",
       "      <td>1.068197</td>\n",
       "      <td>1.008277</td>\n",
       "    </tr>\n",
       "    <tr>\n",
       "      <th>12</th>\n",
       "      <td>0.020241</td>\n",
       "      <td>0.088710</td>\n",
       "      <td>0.457688</td>\n",
       "      <td>-48.780580</td>\n",
       "      <td>1.066067</td>\n",
       "      <td>1.039078</td>\n",
       "      <td>1.019457</td>\n",
       "    </tr>\n",
       "    <tr>\n",
       "      <th>13</th>\n",
       "      <td>0.022451</td>\n",
       "      <td>0.307211</td>\n",
       "      <td>0.415262</td>\n",
       "      <td>-51.015730</td>\n",
       "      <td>1.003875</td>\n",
       "      <td>1.009717</td>\n",
       "      <td>1.031745</td>\n",
       "    </tr>\n",
       "    <tr>\n",
       "      <th>14</th>\n",
       "      <td>0.035962</td>\n",
       "      <td>0.068281</td>\n",
       "      <td>0.384780</td>\n",
       "      <td>-36.115435</td>\n",
       "      <td>1.002081</td>\n",
       "      <td>1.003963</td>\n",
       "      <td>1.002379</td>\n",
       "    </tr>\n",
       "    <tr>\n",
       "      <th>15</th>\n",
       "      <td>0.014342</td>\n",
       "      <td>0.041488</td>\n",
       "      <td>0.243688</td>\n",
       "      <td>-16.442590</td>\n",
       "      <td>1.004991</td>\n",
       "      <td>1.015061</td>\n",
       "      <td>1.016307</td>\n",
       "    </tr>\n",
       "    <tr>\n",
       "      <th>16</th>\n",
       "      <td>0.010464</td>\n",
       "      <td>0.246238</td>\n",
       "      <td>0.260900</td>\n",
       "      <td>-43.762288</td>\n",
       "      <td>1.049917</td>\n",
       "      <td>1.052219</td>\n",
       "      <td>1.068931</td>\n",
       "    </tr>\n",
       "    <tr>\n",
       "      <th>17</th>\n",
       "      <td>0.013256</td>\n",
       "      <td>0.383856</td>\n",
       "      <td>0.313957</td>\n",
       "      <td>-64.043802</td>\n",
       "      <td>1.032219</td>\n",
       "      <td>1.027691</td>\n",
       "      <td>1.016908</td>\n",
       "    </tr>\n",
       "    <tr>\n",
       "      <th>18</th>\n",
       "      <td>0.015206</td>\n",
       "      <td>0.251718</td>\n",
       "      <td>0.483241</td>\n",
       "      <td>-57.786236</td>\n",
       "      <td>1.050658</td>\n",
       "      <td>1.030306</td>\n",
       "      <td>1.045809</td>\n",
       "    </tr>\n",
       "    <tr>\n",
       "      <th>19</th>\n",
       "      <td>0.007706</td>\n",
       "      <td>0.098590</td>\n",
       "      <td>0.469124</td>\n",
       "      <td>-38.685063</td>\n",
       "      <td>1.090365</td>\n",
       "      <td>1.035236</td>\n",
       "      <td>1.067878</td>\n",
       "    </tr>\n",
       "    <tr>\n",
       "      <th>20</th>\n",
       "      <td>0.019904</td>\n",
       "      <td>0.459070</td>\n",
       "      <td>0.403461</td>\n",
       "      <td>-78.098285</td>\n",
       "      <td>1.006968</td>\n",
       "      <td>0.999925</td>\n",
       "      <td>1.008491</td>\n",
       "    </tr>\n",
       "    <tr>\n",
       "      <th>21</th>\n",
       "      <td>0.128607</td>\n",
       "      <td>0.311553</td>\n",
       "      <td>1.139340</td>\n",
       "      <td>-77.593932</td>\n",
       "      <td>1.006800</td>\n",
       "      <td>1.003903</td>\n",
       "      <td>1.005742</td>\n",
       "    </tr>\n",
       "    <tr>\n",
       "      <th>22</th>\n",
       "      <td>0.014526</td>\n",
       "      <td>0.492089</td>\n",
       "      <td>0.428067</td>\n",
       "      <td>-71.656672</td>\n",
       "      <td>1.025754</td>\n",
       "      <td>1.005981</td>\n",
       "      <td>1.012237</td>\n",
       "    </tr>\n",
       "    <tr>\n",
       "      <th>23</th>\n",
       "      <td>0.018870</td>\n",
       "      <td>0.102790</td>\n",
       "      <td>0.814108</td>\n",
       "      <td>-47.278860</td>\n",
       "      <td>1.028242</td>\n",
       "      <td>1.005562</td>\n",
       "      <td>1.018856</td>\n",
       "    </tr>\n",
       "  </tbody>\n",
       "</table>\n",
       "</div>"
      ],
      "text/plain": [
       "           alpha      beta      zeta        llkd  R: alpha   R: beta   R: zeta\n",
       "ID Run                                                                        \n",
       "4  0    0.334738  0.808429  0.803955  -97.695909  1.017025  1.049565  1.026662\n",
       "   1    0.063973  0.391002  0.662136  -75.750842  1.022452  1.004634  1.005734\n",
       "   2    0.107125  0.119163  0.801832  -57.693754  1.024633  1.060267  1.010803\n",
       "   3    0.118781  0.075911  0.685872  -48.080043  1.018733  1.080870  1.014387\n",
       "   4    0.215514  0.518292  0.866307  -84.928207  0.999493  1.012679  1.007042\n",
       "   5    0.309369  0.229886  0.126452  -61.292662  1.011778  1.036204  1.002980\n",
       "   6    0.228817  0.088279  0.206972  -40.256211  1.006278  1.013237  1.011647\n",
       "   7    0.103447  0.143959  0.108926  -39.962004  1.023329  1.009399  1.039152\n",
       "   8    0.391088  0.129290  0.568869  -53.373456  1.012363  1.009593  1.001230\n",
       "   9    0.270875  0.154685  0.065450  -31.502718  1.020410  1.019473  1.014441\n",
       "   10   0.096396  0.059785  0.145612  -45.213477  1.039929  1.034605  1.020671\n",
       "   11   0.157150  0.081011  0.124925  -34.448989  1.012675  1.007120  1.004937\n",
       "   12   0.156852  0.099793  0.189602  -36.128600  1.017289  1.005117  1.040496\n",
       "   13   0.079583  0.076147  0.084611  -39.603169  1.000091  1.014093  1.008078\n",
       "   14   0.066735  0.087426  0.383407  -34.457268  1.030485  1.012272  1.021537\n",
       "   15   0.080396  0.026980  0.086452  -10.144030  1.008384  1.005610  1.024449\n",
       "   16   0.056003  0.086775  0.016929  -30.450700  1.018828  1.005667  1.036494\n",
       "   17   0.128835  0.134151  0.159811  -50.973490  1.002071  1.006999  1.000017\n",
       "   18   0.084157  0.103934  0.354052  -49.037025  1.030666  1.049251  1.018845\n",
       "   19   0.029291  0.095509  0.464519  -36.561606  1.007211  1.010537  1.004278\n",
       "   20   0.409094  0.165307  0.406604  -46.740956  1.012814  1.009214  1.005004\n",
       "   21   0.311775  0.164898  0.403985  -57.824816  0.999875  1.008094  0.999709\n",
       "   22   0.253006  0.142049  0.082741  -39.641856  1.008288  1.006738  1.004007\n",
       "   23   0.126833  0.027669  0.275578  -36.159401  1.013062  1.018906  1.009387\n",
       "   24   0.109378  0.067512  0.495121  -36.321599  1.031993  1.009813  1.066895\n",
       "   25   0.441136  0.183264  0.172469  -35.856050  1.004750  0.999759  1.002651\n",
       "   26   0.166850  0.135148  0.063971  -35.779385  1.010711  1.005666  1.014576\n",
       "   27   0.081849  0.090445  0.750004  -55.095696  1.015768  1.020540  1.016637\n",
       "   28   0.032816  0.096126  0.275836  -38.376295  1.023680  1.011351  1.035435\n",
       "   29   0.345510  0.226903  0.112758  -54.472002  1.006243  1.000153  1.023066\n",
       "   30   0.377394  0.200882  0.534642  -57.665199  1.019964  1.006888  1.011396\n",
       "6  0    0.296750  0.847995  1.346804 -101.815599  1.059241  1.052431  1.046096\n",
       "   1    0.021607  0.836231  0.641378  -77.527292  1.019416  1.029740  1.041533\n",
       "   2    0.023551  0.359912  0.908581  -64.641856  1.045175  1.009945  1.002273\n",
       "   3    0.024132  0.045495  0.368620  -52.560488  0.999465  1.012294  1.013680\n",
       "   4    0.172471  0.651079  1.180865  -87.456339  1.042538  1.011010  1.017919\n",
       "   5    0.098067  0.751461  1.127654  -90.865033  1.002843  1.011883  1.093392\n",
       "   6    0.038168  0.198588  0.533336  -64.445908  1.006169  1.014723  1.010602\n",
       "   7    0.012750  0.204299  0.350861  -53.660815  1.061060  1.102031  1.017436\n",
       "   8    0.128816  0.223092  1.167884  -78.621745  1.017844  1.060291  1.111416\n",
       "   9    0.024847  0.086696  0.365341  -53.183993  1.199992  1.186729  1.253853\n",
       "   10   0.021385  0.377931  0.574440  -56.853315  1.000939  1.006466  1.059843\n",
       "   11   0.025010  0.219597  0.401792  -52.747674  1.014499  1.068197  1.008277\n",
       "   12   0.020241  0.088710  0.457688  -48.780580  1.066067  1.039078  1.019457\n",
       "   13   0.022451  0.307211  0.415262  -51.015730  1.003875  1.009717  1.031745\n",
       "   14   0.035962  0.068281  0.384780  -36.115435  1.002081  1.003963  1.002379\n",
       "   15   0.014342  0.041488  0.243688  -16.442590  1.004991  1.015061  1.016307\n",
       "   16   0.010464  0.246238  0.260900  -43.762288  1.049917  1.052219  1.068931\n",
       "   17   0.013256  0.383856  0.313957  -64.043802  1.032219  1.027691  1.016908\n",
       "   18   0.015206  0.251718  0.483241  -57.786236  1.050658  1.030306  1.045809\n",
       "   19   0.007706  0.098590  0.469124  -38.685063  1.090365  1.035236  1.067878\n",
       "   20   0.019904  0.459070  0.403461  -78.098285  1.006968  0.999925  1.008491\n",
       "   21   0.128607  0.311553  1.139340  -77.593932  1.006800  1.003903  1.005742\n",
       "   22   0.014526  0.492089  0.428067  -71.656672  1.025754  1.005981  1.012237\n",
       "   23   0.018870  0.102790  0.814108  -47.278860  1.028242  1.005562  1.018856"
      ]
     },
     "execution_count": 57,
     "metadata": {},
     "output_type": "execute_result"
    }
   ],
   "source": [
    "wb_fit"
   ]
  },
  {
   "cell_type": "code",
   "execution_count": null,
   "metadata": {},
   "outputs": [],
   "source": []
  }
 ],
 "metadata": {
  "kernelspec": {
   "display_name": "Python 3",
   "language": "python",
   "name": "python3"
  },
  "language_info": {
   "codemirror_mode": {
    "name": "ipython",
    "version": 3
   },
   "file_extension": ".py",
   "mimetype": "text/x-python",
   "name": "python",
   "nbconvert_exporter": "python",
   "pygments_lexer": "ipython3",
   "version": "3.7.4"
  }
 },
 "nbformat": 4,
 "nbformat_minor": 2
}
