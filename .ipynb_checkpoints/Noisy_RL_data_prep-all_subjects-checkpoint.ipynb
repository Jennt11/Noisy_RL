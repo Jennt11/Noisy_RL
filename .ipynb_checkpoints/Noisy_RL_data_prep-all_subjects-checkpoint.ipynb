{
 "cells": [
  {
   "cell_type": "markdown",
   "metadata": {},
   "source": [
    "# Modelling influenca data with noisy RL model"
   ]
  },
  {
   "cell_type": "code",
   "execution_count": 1,
   "metadata": {},
   "outputs": [],
   "source": [
    "import numpy as np\n",
    "from matplotlib import pyplot as plt\n",
    "import glob, sys, pickle, sobol_seq, numpy\n",
    "from scipy.stats import norm, truncnorm, multivariate_normal\n",
    "from scipy.special import logsumexp\n",
    "from tqdm import tqdm\n",
    "import pandas as pd"
   ]
  },
  {
   "cell_type": "markdown",
   "metadata": {},
   "source": [
    "## RL model/function\n",
    "for noisy and noise-free learning\n",
    "\n",
    "Rescorla-Wagner rule for updating action values corrupted by random noise\n",
    "\n",
    "**Full analytical model of behavior:**\n",
    "$$ Q_{t-1}^k|\\mathbb{Q}_t, \\mathbb{r}_t, a_t, \\alpha, \\zeta \\sim N((1-\\alpha^{\\mathbb{1}[a_t=k]})Q_t^k + \\alpha^{\\mathbb{1}[a_t=k]}\\cdot r_t^k, \\zeta \\cdot||Q_t^k-r_t^k||),  \\forall k \\in [0,1]\\\\ with, \\mathbb{Q}_t = {Q_t^0, Q_t^1}, and\\\\ \\mathbb{r}_t={r_t^0,r_t^1} \n",
    "$$\n",
    "\n",
    "Learning noise follows Weber's law\n",
    "\n",
    "$$Q_{t} = Q_{t-1}+ \\alpha (r_{t-1} -  Q_{t-1}) + \\epsilon_{t}\\\\\n",
    "\\epsilon_{t} \\sim \\mathcal{N}(0, \\sigma_{t})\\\\\n",
    "\\sigma_t = \\zeta |r_{t-1} - Q_{t-1}| $$ \n",
    "\n",
    "Q: expected reward, r: obtained reward\n",
    "\n",
    "**Choice process modelled by softmax process:**\n",
    "\n",
    "$$a_t \\sim B(\\frac{1}{1+exp(-\\beta(Q_{t,A}-Q_{t,B})-\\xi sign(a_{t-1}))}$$\n",
    "\n",
    "B: Bernoulli distribution, $\\beta$: inverse temperature\n",
    "\n",
    "\n",
    "\n",
    "\n",
    "\n",
    "Fitting procedure is done with Monte-Carlo methods:\n",
    "- noise-free: IBIS (iterated batch importance sampler)\n",
    "- noisey: SMC$^2$"
   ]
  },
  {
   "cell_type": "markdown",
   "metadata": {},
   "source": [
    "# MCMC for model fitting\n",
    "\n",
    "$P(\\theta|D, M) \\propto P(D|\\theta, M)P(\\theta|M)$\n",
    "\n",
    "$P(\\theta|D, M)$: posterior distribution: $p(\\theta|a_{1:t}, r_{1:t})$- joint probability distribution of the parameters of interest conditioned on data and RL model\n",
    "\n",
    "$P(D|\\theta, M)$: likelihood: $p(a_t|a_{1:t-1}, r_{1:t-1}, \\theta)$ - intractable in learning noise model: this is the (log) likelihood: you want to maximize the likelihood to make the given choice (data) by the model (M). (log  just so u don't have to multiply but rather can add)\n",
    "\n",
    "$P(\\theta|M)$: priors for each parameter for dynamics of choice process:\n",
    "$$p(\\alpha_0,\\alpha_1) = \\mathbb{1}_{[0,1]^2}(\\alpha_0,\\alpha_1)\\cdot\n",
    "\\mathbb{1} [c=0]+\\mathbb{1}_{[0,1]}(\\alpha^0)\\cdot \\mathbb{1}[\\alpha^0=\\alpha^1] \\cdot \\mathbb{1} [c=1]  \\\\\n",
    "\\frac{1}{\\beta} \\sim U([0,1])\\\\\n",
    "\\xi \\sim N(0,1)$$\n",
    "\n",
    "\n",
    "$\\theta$ contains parameters $\\alpha, \\beta, \\zeta$\n",
    "\n",
    "Data: choice $a_t$, reward $r_t$\n",
    "\n",
    "To estimate goodness of fit residuals of expected reward ($Q_t$) & true reward ($r_t$)"
   ]
  },
  {
   "cell_type": "markdown",
   "metadata": {},
   "source": [
    "### Influenca data\n",
    "For each participant max 31 runs and each run contains 150 trials\n",
    "\n",
    "We fit the noisey and noise-free RL model to our trials data\n",
    "\n",
    "Put this in other doc"
   ]
  },
  {
   "cell_type": "code",
   "execution_count": 12,
   "metadata": {},
   "outputs": [],
   "source": [
    "#data_runs=pd.read_csv('C:/Users/canlab/Desktop/Modelling_Influenca/App_data/Influenca_TUE002_data_runs_clean.csv')\n",
    "data_trials=pd.read_csv('C:/Users/canlab/Desktop/Modelling_Influenca/App_data/Influenca_TUE002_data_trials_clean.csv')"
   ]
  },
  {
   "cell_type": "code",
   "execution_count": 14,
   "metadata": {},
   "outputs": [
    {
     "name": "stdout",
     "output_type": "stream",
     "text": [
      "\n",
      ": boolean\n",
      "    use_inf_as_null had been deprecated and will be removed in a future\n",
      "    version. Use `use_inf_as_na` instead.\n",
      "\n"
     ]
    }
   ],
   "source": [
    "pd.reset_option('all')"
   ]
  },
  {
   "cell_type": "markdown",
   "metadata": {},
   "source": [
    "try out with participants 306 in run 25:"
   ]
  },
  {
   "cell_type": "code",
   "execution_count": 15,
   "metadata": {},
   "outputs": [],
   "source": [
    "data_=data_trials[['ID', 'Trial', 'Run', 'drawn_outcome', 'choice' ,'win', 'p_reward_a']]"
   ]
  },
  {
   "cell_type": "code",
   "execution_count": 17,
   "metadata": {},
   "outputs": [],
   "source": [
    "data_.to_csv('C:/Users/canlab/Desktop/Modelling_Influenca/App_data/All_subjects_data_p_A.csv')"
   ]
  },
  {
   "cell_type": "markdown",
   "metadata": {},
   "source": [
    "Replace A and B options with 0 and 1 respectively"
   ]
  },
  {
   "cell_type": "code",
   "execution_count": 18,
   "metadata": {},
   "outputs": [
    {
     "name": "stderr",
     "output_type": "stream",
     "text": [
      "C:\\Users\\canlab\\Anaconda3\\envs\\influenca\\lib\\site-packages\\ipykernel_launcher.py:1: SettingWithCopyWarning: \n",
      "A value is trying to be set on a copy of a slice from a DataFrame.\n",
      "Try using .loc[row_indexer,col_indexer] = value instead\n",
      "\n",
      "See the caveats in the documentation: http://pandas.pydata.org/pandas-docs/stable/user_guide/indexing.html#returning-a-view-versus-a-copy\n",
      "  \"\"\"Entry point for launching an IPython kernel.\n"
     ]
    }
   ],
   "source": [
    "data_['choice']=data_['choice'].replace(['A', 'B'], [0,1])"
   ]
  },
  {
   "cell_type": "code",
   "execution_count": 19,
   "metadata": {},
   "outputs": [
    {
     "name": "stderr",
     "output_type": "stream",
     "text": [
      "C:\\Users\\canlab\\Anaconda3\\envs\\influenca\\lib\\site-packages\\ipykernel_launcher.py:1: SettingWithCopyWarning: \n",
      "A value is trying to be set on a copy of a slice from a DataFrame.\n",
      "Try using .loc[row_indexer,col_indexer] = value instead\n",
      "\n",
      "See the caveats in the documentation: http://pandas.pydata.org/pandas-docs/stable/user_guide/indexing.html#returning-a-view-versus-a-copy\n",
      "  \"\"\"Entry point for launching an IPython kernel.\n"
     ]
    }
   ],
   "source": [
    "data_['drawn_outcome']=data_['drawn_outcome'].replace(['A', 'B'], [0,1])"
   ]
  },
  {
   "cell_type": "code",
   "execution_count": 20,
   "metadata": {},
   "outputs": [
    {
     "data": {
      "text/html": [
       "<div>\n",
       "<style scoped>\n",
       "    .dataframe tbody tr th:only-of-type {\n",
       "        vertical-align: middle;\n",
       "    }\n",
       "\n",
       "    .dataframe tbody tr th {\n",
       "        vertical-align: top;\n",
       "    }\n",
       "\n",
       "    .dataframe thead th {\n",
       "        text-align: right;\n",
       "    }\n",
       "</style>\n",
       "<table border=\"1\" class=\"dataframe\">\n",
       "  <thead>\n",
       "    <tr style=\"text-align: right;\">\n",
       "      <th></th>\n",
       "      <th>ID</th>\n",
       "      <th>Trial</th>\n",
       "      <th>Run</th>\n",
       "      <th>drawn_outcome</th>\n",
       "      <th>choice</th>\n",
       "      <th>win</th>\n",
       "      <th>p_reward_a</th>\n",
       "    </tr>\n",
       "  </thead>\n",
       "  <tbody>\n",
       "    <tr>\n",
       "      <th>0</th>\n",
       "      <td>2</td>\n",
       "      <td>1</td>\n",
       "      <td>1</td>\n",
       "      <td>1</td>\n",
       "      <td>0</td>\n",
       "      <td>0</td>\n",
       "      <td>0.800000</td>\n",
       "    </tr>\n",
       "    <tr>\n",
       "      <th>1</th>\n",
       "      <td>2</td>\n",
       "      <td>2</td>\n",
       "      <td>1</td>\n",
       "      <td>0</td>\n",
       "      <td>1</td>\n",
       "      <td>0</td>\n",
       "      <td>0.787411</td>\n",
       "    </tr>\n",
       "    <tr>\n",
       "      <th>2</th>\n",
       "      <td>2</td>\n",
       "      <td>3</td>\n",
       "      <td>1</td>\n",
       "      <td>0</td>\n",
       "      <td>0</td>\n",
       "      <td>1</td>\n",
       "      <td>0.708686</td>\n",
       "    </tr>\n",
       "    <tr>\n",
       "      <th>3</th>\n",
       "      <td>2</td>\n",
       "      <td>4</td>\n",
       "      <td>1</td>\n",
       "      <td>0</td>\n",
       "      <td>0</td>\n",
       "      <td>1</td>\n",
       "      <td>0.610199</td>\n",
       "    </tr>\n",
       "    <tr>\n",
       "      <th>4</th>\n",
       "      <td>2</td>\n",
       "      <td>5</td>\n",
       "      <td>1</td>\n",
       "      <td>0</td>\n",
       "      <td>0</td>\n",
       "      <td>1</td>\n",
       "      <td>0.616570</td>\n",
       "    </tr>\n",
       "    <tr>\n",
       "      <th>...</th>\n",
       "      <td>...</td>\n",
       "      <td>...</td>\n",
       "      <td>...</td>\n",
       "      <td>...</td>\n",
       "      <td>...</td>\n",
       "      <td>...</td>\n",
       "      <td>...</td>\n",
       "    </tr>\n",
       "    <tr>\n",
       "      <th>568645</th>\n",
       "      <td>353</td>\n",
       "      <td>146</td>\n",
       "      <td>1</td>\n",
       "      <td>1</td>\n",
       "      <td>1</td>\n",
       "      <td>1</td>\n",
       "      <td>0.390209</td>\n",
       "    </tr>\n",
       "    <tr>\n",
       "      <th>568646</th>\n",
       "      <td>353</td>\n",
       "      <td>147</td>\n",
       "      <td>1</td>\n",
       "      <td>1</td>\n",
       "      <td>1</td>\n",
       "      <td>1</td>\n",
       "      <td>0.473773</td>\n",
       "    </tr>\n",
       "    <tr>\n",
       "      <th>568647</th>\n",
       "      <td>353</td>\n",
       "      <td>148</td>\n",
       "      <td>1</td>\n",
       "      <td>0</td>\n",
       "      <td>1</td>\n",
       "      <td>0</td>\n",
       "      <td>0.463202</td>\n",
       "    </tr>\n",
       "    <tr>\n",
       "      <th>568648</th>\n",
       "      <td>353</td>\n",
       "      <td>149</td>\n",
       "      <td>1</td>\n",
       "      <td>1</td>\n",
       "      <td>1</td>\n",
       "      <td>1</td>\n",
       "      <td>0.560426</td>\n",
       "    </tr>\n",
       "    <tr>\n",
       "      <th>568649</th>\n",
       "      <td>353</td>\n",
       "      <td>150</td>\n",
       "      <td>1</td>\n",
       "      <td>1</td>\n",
       "      <td>1</td>\n",
       "      <td>1</td>\n",
       "      <td>0.368631</td>\n",
       "    </tr>\n",
       "  </tbody>\n",
       "</table>\n",
       "<p>568650 rows × 7 columns</p>\n",
       "</div>"
      ],
      "text/plain": [
       "         ID  Trial  Run  drawn_outcome  choice  win  p_reward_a\n",
       "0         2      1    1              1       0    0    0.800000\n",
       "1         2      2    1              0       1    0    0.787411\n",
       "2         2      3    1              0       0    1    0.708686\n",
       "3         2      4    1              0       0    1    0.610199\n",
       "4         2      5    1              0       0    1    0.616570\n",
       "...     ...    ...  ...            ...     ...  ...         ...\n",
       "568645  353    146    1              1       1    1    0.390209\n",
       "568646  353    147    1              1       1    1    0.473773\n",
       "568647  353    148    1              0       1    0    0.463202\n",
       "568648  353    149    1              1       1    1    0.560426\n",
       "568649  353    150    1              1       1    1    0.368631\n",
       "\n",
       "[568650 rows x 7 columns]"
      ]
     },
     "execution_count": 20,
     "metadata": {},
     "output_type": "execute_result"
    }
   ],
   "source": [
    "data_"
   ]
  },
  {
   "cell_type": "code",
   "execution_count": 21,
   "metadata": {},
   "outputs": [],
   "source": [
    "data_.to_csv('C:/Users/canlab/Desktop/Modelling_Influenca/App_data/All_subjects_data.csv')"
   ]
  }
 ],
 "metadata": {
  "kernelspec": {
   "display_name": "Python 3",
   "language": "python",
   "name": "python3"
  },
  "language_info": {
   "codemirror_mode": {
    "name": "ipython",
    "version": 3
   },
   "file_extension": ".py",
   "mimetype": "text/x-python",
   "name": "python",
   "nbconvert_exporter": "python",
   "pygments_lexer": "ipython3",
   "version": "3.7.4"
  }
 },
 "nbformat": 4,
 "nbformat_minor": 2
}
